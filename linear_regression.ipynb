{
 "cells": [
  {
   "cell_type": "code",
   "execution_count": 1,
   "metadata": {},
   "outputs": [],
   "source": [
    "%matplotlib inline\n",
    "import matplotlib.pyplot as plt\n",
    "import sys\n",
    "import numpy as np\n",
    "import pandas as pd\n",
    "import matplotlib"
   ]
  },
  {
   "cell_type": "code",
   "execution_count": 2,
   "metadata": {},
   "outputs": [],
   "source": [
    "df = pd.read_csv(\"data/contamination_fracking.csv\")\n",
    "df.dropna(inplace=True)"
   ]
  },
  {
   "cell_type": "code",
   "execution_count": 3,
   "metadata": {
    "scrolled": true
   },
   "outputs": [
    {
     "data": {
      "text/html": [
       "<div>\n",
       "<style scoped>\n",
       "    .dataframe tbody tr th:only-of-type {\n",
       "        vertical-align: middle;\n",
       "    }\n",
       "\n",
       "    .dataframe tbody tr th {\n",
       "        vertical-align: top;\n",
       "    }\n",
       "\n",
       "    .dataframe thead th {\n",
       "        text-align: right;\n",
       "    }\n",
       "</style>\n",
       "<table border=\"1\" class=\"dataframe\">\n",
       "  <thead>\n",
       "    <tr style=\"text-align: right;\">\n",
       "      <th></th>\n",
       "      <th>Unnamed: 0</th>\n",
       "      <th>geometry</th>\n",
       "      <th>distance_nearest</th>\n",
       "      <th>LatitudeFracking</th>\n",
       "      <th>LongitudeFracking</th>\n",
       "      <th>JobEndDate</th>\n",
       "      <th>PercentHighAdditive</th>\n",
       "      <th>PercentHFJob</th>\n",
       "      <th>IngredientName</th>\n",
       "      <th>Purpose</th>\n",
       "      <th>...</th>\n",
       "      <th>CollectionDate</th>\n",
       "      <th>FacilityID</th>\n",
       "      <th>State</th>\n",
       "      <th>ContaminantCount</th>\n",
       "      <th>index</th>\n",
       "      <th>FacilityWaterType</th>\n",
       "      <th>Zip</th>\n",
       "      <th>LatitudePWS</th>\n",
       "      <th>LongitudePWS</th>\n",
       "      <th>SizeBool</th>\n",
       "    </tr>\n",
       "  </thead>\n",
       "  <tbody>\n",
       "    <tr>\n",
       "      <td>2</td>\n",
       "      <td>2</td>\n",
       "      <td>POINT (33.786594 -118.298662)</td>\n",
       "      <td>11.066041</td>\n",
       "      <td>36.20023</td>\n",
       "      <td>-107.49905</td>\n",
       "      <td>2014-02-02 00:00:00</td>\n",
       "      <td>30.000000</td>\n",
       "      <td>1.729810</td>\n",
       "      <td>('Potassium Hydroxide', 'Amino Alkyl Phosphoni...</td>\n",
       "      <td>('Other Chemicals', 'Surfactant', 'Nitrogen', ...</td>\n",
       "      <td>...</td>\n",
       "      <td>2014-02-06</td>\n",
       "      <td>1</td>\n",
       "      <td>CA</td>\n",
       "      <td>28</td>\n",
       "      <td>67540</td>\n",
       "      <td>SW</td>\n",
       "      <td>91802</td>\n",
       "      <td>33.786594</td>\n",
       "      <td>-118.298662</td>\n",
       "      <td>0</td>\n",
       "    </tr>\n",
       "    <tr>\n",
       "      <td>9</td>\n",
       "      <td>9</td>\n",
       "      <td>POINT (30.549676 -84.606864)</td>\n",
       "      <td>4.053320</td>\n",
       "      <td>33.40651</td>\n",
       "      <td>-87.48226</td>\n",
       "      <td>2014-01-05 00:00:00</td>\n",
       "      <td>36.573585</td>\n",
       "      <td>1.897712</td>\n",
       "      <td>('Potassium Hydroxide', 'Iron Oxide', 'Isoprop...</td>\n",
       "      <td>('Bulk Acid', 'Cross-linkers', 'Acid Corrosion...</td>\n",
       "      <td>...</td>\n",
       "      <td>2014-02-06</td>\n",
       "      <td>1</td>\n",
       "      <td>FL</td>\n",
       "      <td>28</td>\n",
       "      <td>89596</td>\n",
       "      <td>GW</td>\n",
       "      <td>32353</td>\n",
       "      <td>30.549676</td>\n",
       "      <td>-84.606864</td>\n",
       "      <td>0</td>\n",
       "    </tr>\n",
       "    <tr>\n",
       "      <td>10</td>\n",
       "      <td>10</td>\n",
       "      <td>POINT (30.549676 -84.606864)</td>\n",
       "      <td>4.053320</td>\n",
       "      <td>33.40651</td>\n",
       "      <td>-87.48226</td>\n",
       "      <td>2014-01-05 00:00:00</td>\n",
       "      <td>36.573585</td>\n",
       "      <td>1.897712</td>\n",
       "      <td>('Potassium Hydroxide', 'Iron Oxide', 'Isoprop...</td>\n",
       "      <td>('Bulk Acid', 'Cross-linkers', 'Acid Corrosion...</td>\n",
       "      <td>...</td>\n",
       "      <td>2014-02-06</td>\n",
       "      <td>2</td>\n",
       "      <td>FL</td>\n",
       "      <td>28</td>\n",
       "      <td>89788</td>\n",
       "      <td>GW</td>\n",
       "      <td>32353</td>\n",
       "      <td>30.549676</td>\n",
       "      <td>-84.606864</td>\n",
       "      <td>0</td>\n",
       "    </tr>\n",
       "    <tr>\n",
       "      <td>11</td>\n",
       "      <td>11</td>\n",
       "      <td>POINT (30.549676 -84.606864)</td>\n",
       "      <td>4.053320</td>\n",
       "      <td>33.40651</td>\n",
       "      <td>-87.48226</td>\n",
       "      <td>2014-01-05 00:00:00</td>\n",
       "      <td>36.573585</td>\n",
       "      <td>1.897712</td>\n",
       "      <td>('Potassium Hydroxide', 'Iron Oxide', 'Isoprop...</td>\n",
       "      <td>('Bulk Acid', 'Cross-linkers', 'Acid Corrosion...</td>\n",
       "      <td>...</td>\n",
       "      <td>2014-02-06</td>\n",
       "      <td>5</td>\n",
       "      <td>FL</td>\n",
       "      <td>28</td>\n",
       "      <td>89635</td>\n",
       "      <td>GW</td>\n",
       "      <td>32353</td>\n",
       "      <td>30.549676</td>\n",
       "      <td>-84.606864</td>\n",
       "      <td>0</td>\n",
       "    </tr>\n",
       "    <tr>\n",
       "      <td>12</td>\n",
       "      <td>12</td>\n",
       "      <td>POINT (30.549676 -84.606864)</td>\n",
       "      <td>4.053320</td>\n",
       "      <td>33.40651</td>\n",
       "      <td>-87.48226</td>\n",
       "      <td>2014-01-05 00:00:00</td>\n",
       "      <td>36.573585</td>\n",
       "      <td>1.897712</td>\n",
       "      <td>('Potassium Hydroxide', 'Iron Oxide', 'Isoprop...</td>\n",
       "      <td>('Bulk Acid', 'Cross-linkers', 'Acid Corrosion...</td>\n",
       "      <td>...</td>\n",
       "      <td>2014-02-06</td>\n",
       "      <td>6</td>\n",
       "      <td>FL</td>\n",
       "      <td>28</td>\n",
       "      <td>89615</td>\n",
       "      <td>GW</td>\n",
       "      <td>32353</td>\n",
       "      <td>30.549676</td>\n",
       "      <td>-84.606864</td>\n",
       "      <td>0</td>\n",
       "    </tr>\n",
       "  </tbody>\n",
       "</table>\n",
       "<p>5 rows × 24 columns</p>\n",
       "</div>"
      ],
      "text/plain": [
       "    Unnamed: 0                       geometry  distance_nearest  \\\n",
       "2            2  POINT (33.786594 -118.298662)         11.066041   \n",
       "9            9   POINT (30.549676 -84.606864)          4.053320   \n",
       "10          10   POINT (30.549676 -84.606864)          4.053320   \n",
       "11          11   POINT (30.549676 -84.606864)          4.053320   \n",
       "12          12   POINT (30.549676 -84.606864)          4.053320   \n",
       "\n",
       "    LatitudeFracking  LongitudeFracking           JobEndDate  \\\n",
       "2           36.20023         -107.49905  2014-02-02 00:00:00   \n",
       "9           33.40651          -87.48226  2014-01-05 00:00:00   \n",
       "10          33.40651          -87.48226  2014-01-05 00:00:00   \n",
       "11          33.40651          -87.48226  2014-01-05 00:00:00   \n",
       "12          33.40651          -87.48226  2014-01-05 00:00:00   \n",
       "\n",
       "    PercentHighAdditive  PercentHFJob  \\\n",
       "2             30.000000      1.729810   \n",
       "9             36.573585      1.897712   \n",
       "10            36.573585      1.897712   \n",
       "11            36.573585      1.897712   \n",
       "12            36.573585      1.897712   \n",
       "\n",
       "                                       IngredientName  \\\n",
       "2   ('Potassium Hydroxide', 'Amino Alkyl Phosphoni...   \n",
       "9   ('Potassium Hydroxide', 'Iron Oxide', 'Isoprop...   \n",
       "10  ('Potassium Hydroxide', 'Iron Oxide', 'Isoprop...   \n",
       "11  ('Potassium Hydroxide', 'Iron Oxide', 'Isoprop...   \n",
       "12  ('Potassium Hydroxide', 'Iron Oxide', 'Isoprop...   \n",
       "\n",
       "                                              Purpose  ... CollectionDate  \\\n",
       "2   ('Other Chemicals', 'Surfactant', 'Nitrogen', ...  ...     2014-02-06   \n",
       "9   ('Bulk Acid', 'Cross-linkers', 'Acid Corrosion...  ...     2014-02-06   \n",
       "10  ('Bulk Acid', 'Cross-linkers', 'Acid Corrosion...  ...     2014-02-06   \n",
       "11  ('Bulk Acid', 'Cross-linkers', 'Acid Corrosion...  ...     2014-02-06   \n",
       "12  ('Bulk Acid', 'Cross-linkers', 'Acid Corrosion...  ...     2014-02-06   \n",
       "\n",
       "    FacilityID  State  ContaminantCount  index  FacilityWaterType    Zip  \\\n",
       "2            1     CA                28  67540                 SW  91802   \n",
       "9            1     FL                28  89596                 GW  32353   \n",
       "10           2     FL                28  89788                 GW  32353   \n",
       "11           5     FL                28  89635                 GW  32353   \n",
       "12           6     FL                28  89615                 GW  32353   \n",
       "\n",
       "    LatitudePWS  LongitudePWS SizeBool  \n",
       "2     33.786594   -118.298662        0  \n",
       "9     30.549676    -84.606864        0  \n",
       "10    30.549676    -84.606864        0  \n",
       "11    30.549676    -84.606864        0  \n",
       "12    30.549676    -84.606864        0  \n",
       "\n",
       "[5 rows x 24 columns]"
      ]
     },
     "execution_count": 3,
     "metadata": {},
     "output_type": "execute_result"
    }
   ],
   "source": [
    "df.head()"
   ]
  },
  {
   "cell_type": "code",
   "execution_count": 4,
   "metadata": {},
   "outputs": [],
   "source": [
    "from sklearn.linear_model import LinearRegression \n",
    "from sklearn.linear_model import Lasso, Ridge\n",
    "from sklearn.model_selection import train_test_split"
   ]
  },
  {
   "cell_type": "code",
   "execution_count": 5,
   "metadata": {},
   "outputs": [],
   "source": [
    "X_train, X_test, Y_train, Y_test = train_test_split(df,df.ContaminantCount,test_size=0.3)"
   ]
  },
  {
   "cell_type": "code",
   "execution_count": 6,
   "metadata": {},
   "outputs": [],
   "source": [
    "from sklearn.metrics import mean_squared_error"
   ]
  },
  {
   "cell_type": "code",
   "execution_count": 85,
   "metadata": {},
   "outputs": [
    {
     "name": "stdout",
     "output_type": "stream",
     "text": [
      "JobDuration\n",
      "MSE :  71.65587514672686\n",
      "R Score 0.0015308056759043565\n",
      "Coeff: [-0.02116566]\n",
      "PercentHFJob\n",
      "MSE :  71.36796048357945\n",
      "R Score 0.005542673804766585\n",
      "Coeff: [-0.281845]\n",
      "PercentHighAdditive\n",
      "MSE :  70.72703035233367\n",
      "R Score 0.014473539423986437\n",
      "Coeff: [-0.12946591]\n",
      "TotalBaseWaterVolume\n",
      "MSE :  69.3949490887294\n",
      "R Score 0.033035061466968996\n",
      "Coeff: [-2.28678264e-07]\n",
      "distance_nearest\n",
      "MSE :  69.98628180481366\n",
      "R Score 0.02479529746440634\n",
      "Coeff: [0.12244982]\n",
      "TotalBaseNonWaterVolume\n",
      "MSE :  71.74639063107993\n",
      "R Score 0.0002695424152044934\n",
      "Coeff: [-9.54356804e-08]\n",
      "SizeBool\n",
      "MSE :  71.75262704145406\n",
      "R Score 0.00018264286050673206\n",
      "Coeff: [-0.61365344]\n",
      "Combined\n",
      "MSE :  67.17862256459685\n",
      "R Score 0.063917857251382\n",
      "Coeff: [ 1.02611853e-02  1.09146765e-01 -1.60990733e-01 -2.42556915e-07\n",
      "  6.81144433e-02 -3.28045990e-08 -8.59305555e-01]\n"
     ]
    }
   ],
   "source": [
    "f = ['JobDuration','PercentHFJob','PercentHighAdditive','TotalBaseWaterVolume','distance_nearest','TotalBaseNonWaterVolume','SizeBool']\n",
    "\n",
    "for x in f:\n",
    "    reg = LinearRegression()\n",
    "    reg.fit(np.array(X_train[x]).reshape(-1,1),Y_train)\n",
    "    pred = reg.predict(np.array(X_test[x]).reshape(-1,1))\n",
    "    print(x)\n",
    "    print(\"MSE : \",mean_squared_error(pred,Y_test))\n",
    "    print(\"R Score\", reg.score(np.array(X_test[x]).reshape(-1,1),Y_test))\n",
    "    print(\"Coeff:\", reg.coef_)\n",
    "\n",
    "reg = LinearRegression()\n",
    "reg.fit(np.array(X_train[f]),Y_train)\n",
    "pred = reg.predict(np.array(X_test[f]))\n",
    "print(\"Combined\")\n",
    "print(\"MSE : \",mean_squared_error(pred,Y_test))\n",
    "print(\"R Score\", reg.score(np.array(X_test[f]),Y_test))\n",
    "print(\"Coeff:\", reg.coef_)"
   ]
  },
  {
   "cell_type": "code",
   "execution_count": 34,
   "metadata": {},
   "outputs": [
    {
     "name": "stdout",
     "output_type": "stream",
     "text": [
      "FacilityWaterType\n",
      "MSE :  69.17250963683848\n",
      "R Score 0.036134583172071855\n",
      "Coeff: [-1.50279857e+12 -1.50279857e+12 -1.50279857e+12 -1.50279857e+12]\n",
      "Max Coeff: -1502798571898.8494\n",
      "Zip\n",
      "MSE :  4.254660504879906e+23\n",
      "R Score -5.928540315405023e+21\n",
      "Coeff: [1.20707764e+11 1.20707764e+11 1.20707764e+11 ... 1.20707764e+11\n",
      " 1.20707764e+11 1.20707764e+11]\n",
      "Max Coeff: 52518635652975.195\n"
     ]
    }
   ],
   "source": [
    "from sklearn.preprocessing import OneHotEncoder\n",
    "enc = OneHotEncoder()\n",
    "\n",
    "for x in ['FacilityWaterType','Zip']:\n",
    "    enc.fit(np.array(df[x]).reshape(-1,1))\n",
    "    reg.fit(enc.transform(np.array(X_train[x]).reshape(-1,1)).toarray(), Y_train)\n",
    "    en = enc.transform(np.array(X_test[x]).reshape(-1,1)).toarray()\n",
    "    pred = reg.predict(en)\n",
    "    print(x)\n",
    "    print(\"MSE : \",mean_squared_error(pred,Y_test))\n",
    "    print(\"R Score\", reg.score(en,Y_test))\n",
    "    print(\"Coeff:\", reg.coef_)\n",
    "    print(\"Max Coeff:\",max(reg.coef_))"
   ]
  },
  {
   "cell_type": "markdown",
   "metadata": {},
   "source": [
    "## SAWYER WORK"
   ]
  },
  {
   "cell_type": "markdown",
   "metadata": {},
   "source": [
    "This is a plot modeling the variables from Yash's quantitative data against contamination count."
   ]
  },
  {
   "cell_type": "code",
   "execution_count": 101,
   "metadata": {
    "scrolled": true
   },
   "outputs": [
    {
     "data": {
      "image/png": "[encoded data removed]",
      "text/plain": [
       "<Figure size 864x576 with 1 Axes>"
      ]
     },
     "metadata": {
      "needs_background": "light"
     },
     "output_type": "display_data"
    }
   ],
   "source": [
    "from sklearn.decomposition import TruncatedSVD\n",
    "import seaborn as sns\n",
    "\n",
    "x=pd.DataFrame([X_train['JobDuration'] ,X_train['PercentHFJob'], X_train['PercentHighAdditive'], X_train['TotalBaseWaterVolume'], X_train['distance_nearest'], X_train['TotalBaseNonWaterVolume'], X_train['SizeBool']])\n",
    "\n",
    "coords_X_train = TruncatedSVD(n_components=2).fit_transform(x.transpose())\n",
    "\n",
    "plt.subplots(figsize=(12,8))\n",
    "sns.scatterplot(\n",
    "    x=coords_X_train[:, 0], \n",
    "    y=Y_train\n",
    ")\n",
    "plt.title('Truncated Factors vs. Contamination Count')\n",
    "\n",
    "plt.show()\n",
    "\n"
   ]
  },
  {
   "cell_type": "code",
   "execution_count": 48,
   "metadata": {},
   "outputs": [
    {
     "name": "stderr",
     "output_type": "stream",
     "text": [
      "/Users/sawyer/opt/anaconda3/lib/python3.7/site-packages/sklearn/model_selection/_split.py:657: Warning: The least populated class in y has only 1 members, which is too few. The minimum number of members in any class cannot be less than n_splits=5.\n",
      "  % (min_groups, self.n_splits)), Warning)\n",
      "/Users/sawyer/opt/anaconda3/lib/python3.7/site-packages/sklearn/linear_model/logistic.py:432: FutureWarning: Default solver will be changed to 'lbfgs' in 0.22. Specify a solver to silence this warning.\n",
      "  FutureWarning)\n",
      "/Users/sawyer/opt/anaconda3/lib/python3.7/site-packages/sklearn/linear_model/logistic.py:469: FutureWarning: Default multi_class will be changed to 'auto' in 0.22. Specify the multi_class option to silence this warning.\n",
      "  \"this warning.\", FutureWarning)\n",
      "/Users/sawyer/opt/anaconda3/lib/python3.7/site-packages/sklearn/linear_model/logistic.py:432: FutureWarning: Default solver will be changed to 'lbfgs' in 0.22. Specify a solver to silence this warning.\n",
      "  FutureWarning)\n",
      "/Users/sawyer/opt/anaconda3/lib/python3.7/site-packages/sklearn/linear_model/logistic.py:469: FutureWarning: Default multi_class will be changed to 'auto' in 0.22. Specify the multi_class option to silence this warning.\n",
      "  \"this warning.\", FutureWarning)\n",
      "/Users/sawyer/opt/anaconda3/lib/python3.7/site-packages/sklearn/linear_model/logistic.py:432: FutureWarning: Default solver will be changed to 'lbfgs' in 0.22. Specify a solver to silence this warning.\n",
      "  FutureWarning)\n",
      "/Users/sawyer/opt/anaconda3/lib/python3.7/site-packages/sklearn/linear_model/logistic.py:469: FutureWarning: Default multi_class will be changed to 'auto' in 0.22. Specify the multi_class option to silence this warning.\n",
      "  \"this warning.\", FutureWarning)\n",
      "/Users/sawyer/opt/anaconda3/lib/python3.7/site-packages/sklearn/linear_model/logistic.py:432: FutureWarning: Default solver will be changed to 'lbfgs' in 0.22. Specify a solver to silence this warning.\n",
      "  FutureWarning)\n",
      "/Users/sawyer/opt/anaconda3/lib/python3.7/site-packages/sklearn/linear_model/logistic.py:469: FutureWarning: Default multi_class will be changed to 'auto' in 0.22. Specify the multi_class option to silence this warning.\n",
      "  \"this warning.\", FutureWarning)\n",
      "/Users/sawyer/opt/anaconda3/lib/python3.7/site-packages/sklearn/linear_model/logistic.py:432: FutureWarning: Default solver will be changed to 'lbfgs' in 0.22. Specify a solver to silence this warning.\n",
      "  FutureWarning)\n",
      "/Users/sawyer/opt/anaconda3/lib/python3.7/site-packages/sklearn/linear_model/logistic.py:469: FutureWarning: Default multi_class will be changed to 'auto' in 0.22. Specify the multi_class option to silence this warning.\n",
      "  \"this warning.\", FutureWarning)\n"
     ]
    }
   ],
   "source": [
    "from sklearn.model_selection import cross_validate\n",
    "from sklearn.linear_model import LogisticRegression\n",
    "\n",
    "# Classifers to test\n",
    "classifiers = {\n",
    "    'Logit':LogisticRegression(),\n",
    "    #'Linear':LinearRegression(),\n",
    "    #'Lasso':Lasso(),\n",
    "    #'Ridge':Ridge()\n",
    "}\n",
    "\n",
    "scores = {} # Store cross-validation results in a dictionary\n",
    "for classifier in classifiers: \n",
    "    scores[classifier] = cross_validate( # perform cross-validation\n",
    "        classifiers[classifier], # classifier object\n",
    "        x.transpose(), # feature matrix\n",
    "        Y_train, # gold labels\n",
    "        cv=5, #number of folds\n",
    "        scoring=['accuracy'] # scoring methods\n",
    "    )"
   ]
  },
  {
   "cell_type": "code",
   "execution_count": 49,
   "metadata": {
    "scrolled": true
   },
   "outputs": [
    {
     "data": {
      "text/html": [
       "<style  type=\"text/css\" >\n",
       "    #T_51410f9e_21f7_11eb_b7bb_406c8f26c28frow0_col0 {\n",
       "            background-color:  #a50026;\n",
       "            color:  #f1f1f1;\n",
       "        }    #T_51410f9e_21f7_11eb_b7bb_406c8f26c28frow0_col1 {\n",
       "            background-color:  #a50026;\n",
       "            color:  #f1f1f1;\n",
       "        }    #T_51410f9e_21f7_11eb_b7bb_406c8f26c28frow0_col2 {\n",
       "            background-color:  #a50026;\n",
       "            color:  #f1f1f1;\n",
       "        }</style><table id=\"T_51410f9e_21f7_11eb_b7bb_406c8f26c28f\" ><thead>    <tr>        <th class=\"blank level0\" ></th>        <th class=\"col_heading level0 col0\" >fit_time</th>        <th class=\"col_heading level0 col1\" >score_time</th>        <th class=\"col_heading level0 col2\" >test_accuracy</th>    </tr></thead><tbody>\n",
       "                <tr>\n",
       "                        <th id=\"T_51410f9e_21f7_11eb_b7bb_406c8f26c28flevel0_row0\" class=\"row_heading level0 row0\" >Logit</th>\n",
       "                        <td id=\"T_51410f9e_21f7_11eb_b7bb_406c8f26c28frow0_col0\" class=\"data row0 col0\" >50.8597</td>\n",
       "                        <td id=\"T_51410f9e_21f7_11eb_b7bb_406c8f26c28frow0_col1\" class=\"data row0 col1\" >0.0184406</td>\n",
       "                        <td id=\"T_51410f9e_21f7_11eb_b7bb_406c8f26c28frow0_col2\" class=\"data row0 col2\" >0.351408</td>\n",
       "            </tr>\n",
       "    </tbody></table>"
      ],
      "text/plain": [
       "<pandas.io.formats.style.Styler at 0x1a2a97d3d0>"
      ]
     },
     "execution_count": 49,
     "metadata": {},
     "output_type": "execute_result"
    }
   ],
   "source": [
    "# Examine the performance of our simple classifiers\n",
    "# Freebie function to summarize and display classifier scores\n",
    "def compare_scores(scores_dict):\n",
    "    '''\n",
    "    Takes a dictionary of cross_validate scores.\n",
    "    Returns a color-coded Pandas dataframe that summarizes those scores.\n",
    "    '''\n",
    "    import pandas as pd\n",
    "    df = pd.DataFrame(scores_dict).T.applymap(np.mean).style.background_gradient(cmap='RdYlGn')\n",
    "    return df\n",
    "\n",
    "# Compare cross-validation scores\n",
    "# Note that colorization of the `time` columns is counterintuitive\n",
    "compare_scores(scores)"
   ]
  },
  {
   "cell_type": "code",
   "execution_count": null,
   "metadata": {},
   "outputs": [],
   "source": []
  }
 ],
 "metadata": {
  "kernelspec": {
   "display_name": "Python 3",
   "language": "python",
   "name": "python3"
  },
  "language_info": {
   "codemirror_mode": {
    "name": "ipython",
    "version": 3
   },
   "file_extension": ".py",
   "mimetype": "text/x-python",
   "name": "python",
   "nbconvert_exporter": "python",
   "pygments_lexer": "ipython3",
   "version": "3.7.4"
  }
 },
 "nbformat": 4,
 "nbformat_minor": 4
}
