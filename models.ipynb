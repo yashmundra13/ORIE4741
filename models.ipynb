{
 "cells": [
  {
   "cell_type": "code",
   "execution_count": 1,
   "metadata": {},
   "outputs": [],
   "source": [
    "%matplotlib inline\n",
    "import matplotlib.pyplot as plt\n",
    "import sys\n",
    "import numpy as np\n",
    "import pandas as pd\n",
    "import matplotlib"
   ]
  },
  {
   "cell_type": "code",
   "execution_count": 222,
   "metadata": {},
   "outputs": [
    {
     "data": {
      "text/html": [
       "<div>\n",
       "<style scoped>\n",
       "    .dataframe tbody tr th:only-of-type {\n",
       "        vertical-align: middle;\n",
       "    }\n",
       "\n",
       "    .dataframe tbody tr th {\n",
       "        vertical-align: top;\n",
       "    }\n",
       "\n",
       "    .dataframe thead th {\n",
       "        text-align: right;\n",
       "    }\n",
       "</style>\n",
       "<table border=\"1\" class=\"dataframe\">\n",
       "  <thead>\n",
       "    <tr style=\"text-align: right;\">\n",
       "      <th></th>\n",
       "      <th>Unnamed: 0</th>\n",
       "      <th>level_0</th>\n",
       "      <th>CollectionDate</th>\n",
       "      <th>FacilityID</th>\n",
       "      <th>State</th>\n",
       "      <th>ContaminantCount</th>\n",
       "      <th>index</th>\n",
       "      <th>FacilityWaterType</th>\n",
       "      <th>Zip</th>\n",
       "      <th>LatitudePWS</th>\n",
       "      <th>...</th>\n",
       "      <th>PercentHighAdditive</th>\n",
       "      <th>PercentHFJob</th>\n",
       "      <th>IngredientName</th>\n",
       "      <th>Purpose</th>\n",
       "      <th>Supplier</th>\n",
       "      <th>JobDuration</th>\n",
       "      <th>TotalBaseWaterVolume</th>\n",
       "      <th>TotalBaseNonWaterVolume</th>\n",
       "      <th>distance_nearest</th>\n",
       "      <th>distance_20_nearest</th>\n",
       "    </tr>\n",
       "  </thead>\n",
       "  <tbody>\n",
       "    <tr>\n",
       "      <th>1</th>\n",
       "      <td>1</td>\n",
       "      <td>13420</td>\n",
       "      <td>2014-02-06</td>\n",
       "      <td>1</td>\n",
       "      <td>CA</td>\n",
       "      <td>28</td>\n",
       "      <td>67540</td>\n",
       "      <td>SW</td>\n",
       "      <td>91802</td>\n",
       "      <td>33.786594</td>\n",
       "      <td>...</td>\n",
       "      <td>30.000000</td>\n",
       "      <td>1.729810</td>\n",
       "      <td>('Oxyalkylated Amine', 'Methanol', 'Ethylene-V...</td>\n",
       "      <td>('Buffer', 'Proppant', 'Scale Inhibitor', 'Foa...</td>\n",
       "      <td>('Other Chemicals', 'Operator', 'Baker Hughes')</td>\n",
       "      <td>1.0</td>\n",
       "      <td>287133.0</td>\n",
       "      <td>0.0</td>\n",
       "      <td>11.066041</td>\n",
       "      <td>11.722878</td>\n",
       "    </tr>\n",
       "    <tr>\n",
       "      <th>4</th>\n",
       "      <td>4</td>\n",
       "      <td>13423</td>\n",
       "      <td>2014-02-06</td>\n",
       "      <td>1</td>\n",
       "      <td>FL</td>\n",
       "      <td>28</td>\n",
       "      <td>89596</td>\n",
       "      <td>GW</td>\n",
       "      <td>32353</td>\n",
       "      <td>30.549676</td>\n",
       "      <td>...</td>\n",
       "      <td>36.573585</td>\n",
       "      <td>1.897712</td>\n",
       "      <td>('Isopropanol', 'Glycerin', 'Titanium Oxide', ...</td>\n",
       "      <td>('Biocides', 'Cross-linkers', 'Water', 'Gellin...</td>\n",
       "      <td>('Nabors Completion and Production Services', ...</td>\n",
       "      <td>0.0</td>\n",
       "      <td>53000.0</td>\n",
       "      <td>0.0</td>\n",
       "      <td>4.053320</td>\n",
       "      <td>7.282085</td>\n",
       "    </tr>\n",
       "    <tr>\n",
       "      <th>5</th>\n",
       "      <td>5</td>\n",
       "      <td>13424</td>\n",
       "      <td>2014-02-06</td>\n",
       "      <td>1</td>\n",
       "      <td>MA</td>\n",
       "      <td>21</td>\n",
       "      <td>55442</td>\n",
       "      <td>GW</td>\n",
       "      <td>1720</td>\n",
       "      <td>42.477142</td>\n",
       "      <td>...</td>\n",
       "      <td>27.013514</td>\n",
       "      <td>2.688290</td>\n",
       "      <td>('C-11 N-Alkanes', 'Organophylic Clay', 'Paraf...</td>\n",
       "      <td>('Acidizing', 'Non-Emulsifier', 'Proppant', 'F...</td>\n",
       "      <td>('TSS', 'Rain for Rent', 'Chemplex', 'Reagent')</td>\n",
       "      <td>15.0</td>\n",
       "      <td>12878460.0</td>\n",
       "      <td>0.0</td>\n",
       "      <td>4.174925</td>\n",
       "      <td>4.437170</td>\n",
       "    </tr>\n",
       "    <tr>\n",
       "      <th>6</th>\n",
       "      <td>6</td>\n",
       "      <td>13425</td>\n",
       "      <td>2014-02-06</td>\n",
       "      <td>1</td>\n",
       "      <td>MD</td>\n",
       "      <td>26</td>\n",
       "      <td>50446</td>\n",
       "      <td>SW</td>\n",
       "      <td>21078</td>\n",
       "      <td>39.554644</td>\n",
       "      <td>...</td>\n",
       "      <td>32.940000</td>\n",
       "      <td>2.857143</td>\n",
       "      <td>('hexamethylenediamine tetra (methylene phosph...</td>\n",
       "      <td>('Anti-Bacterial Agent', 'Base Fluid', 'Proppa...</td>\n",
       "      <td>('Inflection Energy', 'U.S. Well Services, LLC...</td>\n",
       "      <td>5.0</td>\n",
       "      <td>6132042.0</td>\n",
       "      <td>0.0</td>\n",
       "      <td>1.922339</td>\n",
       "      <td>2.061130</td>\n",
       "    </tr>\n",
       "    <tr>\n",
       "      <th>7</th>\n",
       "      <td>7</td>\n",
       "      <td>13426</td>\n",
       "      <td>2014-02-06</td>\n",
       "      <td>1</td>\n",
       "      <td>MN</td>\n",
       "      <td>21</td>\n",
       "      <td>39511</td>\n",
       "      <td>SW</td>\n",
       "      <td>55427</td>\n",
       "      <td>45.006764</td>\n",
       "      <td>...</td>\n",
       "      <td>23.654167</td>\n",
       "      <td>4.147837</td>\n",
       "      <td>('Trade Secret Ingredient', 'isopropanol', 'Su...</td>\n",
       "      <td>('Flowback Enhancer', 'Scale Inhibitor', 'Cros...</td>\n",
       "      <td>(nan, 'Trican', 'Customer')</td>\n",
       "      <td>1.0</td>\n",
       "      <td>90509.0</td>\n",
       "      <td>0.0</td>\n",
       "      <td>8.230094</td>\n",
       "      <td>8.549826</td>\n",
       "    </tr>\n",
       "  </tbody>\n",
       "</table>\n",
       "<p>5 rows × 28 columns</p>\n",
       "</div>"
      ],
      "text/plain": [
       "   Unnamed: 0  level_0 CollectionDate  FacilityID State  ContaminantCount  \\\n",
       "1           1    13420     2014-02-06           1    CA                28   \n",
       "4           4    13423     2014-02-06           1    FL                28   \n",
       "5           5    13424     2014-02-06           1    MA                21   \n",
       "6           6    13425     2014-02-06           1    MD                26   \n",
       "7           7    13426     2014-02-06           1    MN                21   \n",
       "\n",
       "   index FacilityWaterType    Zip  LatitudePWS  ...  PercentHighAdditive  \\\n",
       "1  67540                SW  91802    33.786594  ...            30.000000   \n",
       "4  89596                GW  32353    30.549676  ...            36.573585   \n",
       "5  55442                GW   1720    42.477142  ...            27.013514   \n",
       "6  50446                SW  21078    39.554644  ...            32.940000   \n",
       "7  39511                SW  55427    45.006764  ...            23.654167   \n",
       "\n",
       "   PercentHFJob                                     IngredientName  \\\n",
       "1      1.729810  ('Oxyalkylated Amine', 'Methanol', 'Ethylene-V...   \n",
       "4      1.897712  ('Isopropanol', 'Glycerin', 'Titanium Oxide', ...   \n",
       "5      2.688290  ('C-11 N-Alkanes', 'Organophylic Clay', 'Paraf...   \n",
       "6      2.857143  ('hexamethylenediamine tetra (methylene phosph...   \n",
       "7      4.147837  ('Trade Secret Ingredient', 'isopropanol', 'Su...   \n",
       "\n",
       "                                             Purpose  \\\n",
       "1  ('Buffer', 'Proppant', 'Scale Inhibitor', 'Foa...   \n",
       "4  ('Biocides', 'Cross-linkers', 'Water', 'Gellin...   \n",
       "5  ('Acidizing', 'Non-Emulsifier', 'Proppant', 'F...   \n",
       "6  ('Anti-Bacterial Agent', 'Base Fluid', 'Proppa...   \n",
       "7  ('Flowback Enhancer', 'Scale Inhibitor', 'Cros...   \n",
       "\n",
       "                                            Supplier  JobDuration  \\\n",
       "1    ('Other Chemicals', 'Operator', 'Baker Hughes')          1.0   \n",
       "4  ('Nabors Completion and Production Services', ...          0.0   \n",
       "5    ('TSS', 'Rain for Rent', 'Chemplex', 'Reagent')         15.0   \n",
       "6  ('Inflection Energy', 'U.S. Well Services, LLC...          5.0   \n",
       "7                        (nan, 'Trican', 'Customer')          1.0   \n",
       "\n",
       "   TotalBaseWaterVolume TotalBaseNonWaterVolume  distance_nearest  \\\n",
       "1              287133.0                     0.0         11.066041   \n",
       "4               53000.0                     0.0          4.053320   \n",
       "5            12878460.0                     0.0          4.174925   \n",
       "6             6132042.0                     0.0          1.922339   \n",
       "7               90509.0                     0.0          8.230094   \n",
       "\n",
       "   distance_20_nearest  \n",
       "1            11.722878  \n",
       "4             7.282085  \n",
       "5             4.437170  \n",
       "6             2.061130  \n",
       "7             8.549826  \n",
       "\n",
       "[5 rows x 28 columns]"
      ]
     },
     "execution_count": 222,
     "metadata": {},
     "output_type": "execute_result"
    }
   ],
   "source": [
    "df = pd.read_csv(\"data/contamination_fracking.csv\")\n",
    "df.dropna(inplace=True)\n",
    "df = df[~df['State'].apply(lambda x: str(x).isdigit())] # in some cases State is reported as a number\n",
    "df.head()"
   ]
  },
  {
   "cell_type": "code",
   "execution_count": 223,
   "metadata": {},
   "outputs": [
    {
     "name": "stdout",
     "output_type": "stream",
     "text": [
      "Index(['Unnamed: 0', 'level_0', 'CollectionDate', 'FacilityID', 'State',\n",
      "       'ContaminantCount', 'index', 'FacilityWaterType', 'Zip', 'LatitudePWS',\n",
      "       'LongitudePWS', 'IsContaminated', 'SizeBool', 'sampleId', 'geometry',\n",
      "       'LatitudeFracking', 'LongitudeFracking', 'JobEndDate',\n",
      "       'PercentHighAdditive', 'PercentHFJob', 'IngredientName', 'Purpose',\n",
      "       'Supplier', 'JobDuration', 'TotalBaseWaterVolume',\n",
      "       'TotalBaseNonWaterVolume', 'distance_nearest', 'distance_20_nearest'],\n",
      "      dtype='object')\n",
      "(23496, 28)\n",
      "['CA' 'FL' 'MA' 'MD' 'MN' 'NC' 'NE' 'NH' 'NY' 'OR' 'PA' 'TN' 'UT' 'VI'\n",
      " 'VT' 'WA' 'WI' 'CO' 'KS' 'RI' 'ID' 'SD' 'AR' 'HI' 'AZ' 'GA' 'KY' 'IA'\n",
      " 'VA' 'TX' 'NJ' 'NV' 'ME' 'SC' 'ND' 'MT' 'DE' 'WV' 'MI' 'LA' 'NM' 'AL'\n",
      " 'MO' 'IN' 'IL' 'OK' 'CT' 'OH' 'MS' 'AK' 'WY' 'PR' 'NN' 'AS']\n",
      "   State  distance_nearest\n",
      "0     AK         43.885362\n",
      "1     AL          1.196160\n",
      "2     AR          0.666612\n",
      "3     AS         76.471819\n",
      "4     AZ          5.093664\n",
      "5     CA         11.832887\n",
      "6     CO          0.483797\n",
      "7     CT          2.775099\n",
      "8     DE          2.374256\n",
      "9     FL          3.315412\n",
      "10    GA          3.203763\n",
      "11    HI         52.305520\n",
      "12    IA          5.429777\n",
      "13    ID          7.569975\n",
      "14    IL          5.179004\n",
      "15    IN          3.886451\n",
      "16    KS          1.209364\n",
      "17    KY          2.647604\n",
      "18    LA          0.459513\n",
      "19    MA          4.538360\n",
      "20    MD          2.450475\n",
      "21    ME          6.045618\n",
      "22    MI          2.169578\n",
      "23    MN          7.580472\n",
      "24    MO          2.946354\n",
      "25    MS          0.705073\n",
      "26    MT          5.481459\n",
      "27    NC          3.192873\n",
      "28    ND          1.197472\n",
      "29    NE          2.770459\n",
      "30    NH          4.413966\n",
      "31    NJ          1.973726\n",
      "32    NM          1.569373\n",
      "33    NN          1.481827\n",
      "34    NV          8.683717\n",
      "35    NY          2.037760\n",
      "36    OH          1.170404\n",
      "37    OK          0.135534\n",
      "38    OR         14.421287\n",
      "39    PA          1.251935\n",
      "40    PR         24.483054\n",
      "41    RI          4.089484\n",
      "42    SC          3.269189\n",
      "43    SD          3.777504\n",
      "44    TN          2.254735\n",
      "45    TX          0.330138\n",
      "46    UT          4.122218\n",
      "47    VA          2.005762\n",
      "48    VI         25.425856\n",
      "49    VT          3.533867\n",
      "50    WA         14.363558\n",
      "51    WI          6.521274\n",
      "52    WV          0.627035\n",
      "53    WY          0.709107\n",
      "   State  distance_20_nearest\n",
      "0     AK            44.432757\n",
      "1     AL             2.095246\n",
      "2     AR             0.805358\n",
      "3     AS            76.542082\n",
      "4     AZ             5.344833\n",
      "5     CA            11.975857\n",
      "6     CO             0.618675\n",
      "7     CT             2.843761\n",
      "8     DE             2.410810\n",
      "9     FL             4.751905\n",
      "10    GA             3.910582\n",
      "11    HI            52.536322\n",
      "12    IA             5.708892\n",
      "13    ID             7.726491\n",
      "14    IL             6.192649\n",
      "15    IN             4.785900\n",
      "16    KS             1.455098\n",
      "17    KY             3.026489\n",
      "18    LA             1.110913\n",
      "19    MA             4.597928\n",
      "20    MD             2.525107\n",
      "21    ME             6.121446\n",
      "22    MI             3.434299\n",
      "23    MN             7.978717\n",
      "24    MO             3.042346\n",
      "25    MS             1.532365\n",
      "26    MT             5.989156\n",
      "27    NC             3.445412\n",
      "28    ND             1.360546\n",
      "29    NE             3.357402\n",
      "30    NH             4.487309\n",
      "31    NJ             2.021032\n",
      "32    NM             1.761313\n",
      "33    NN             1.584547\n",
      "34    NV             8.782083\n",
      "35    NY             2.109008\n",
      "36    OH             1.445691\n",
      "37    OK             0.301158\n",
      "38    OR            14.530588\n",
      "39    PA             1.328004\n",
      "40    PR            24.723149\n",
      "41    RI             4.139144\n",
      "42    SC             3.695796\n",
      "43    SD             4.060746\n",
      "44    TN             2.730625\n",
      "45    TX             0.548847\n",
      "46    UT             4.160904\n",
      "47    VA             2.273057\n",
      "48    VI            25.526678\n",
      "49    VT             3.602252\n",
      "50    WA            14.657393\n",
      "51    WI             7.855699\n",
      "52    WV             0.803661\n",
      "53    WY             0.827434\n",
      "['AR' 'CO' 'KS' 'LA' 'MS' 'ND' 'NM' 'NN' 'OH' 'OK' 'PA' 'TX' 'WV' 'WY']\n",
      "['AK' 'AL' 'AS' 'AZ' 'CA' 'CT' 'DE' 'FL' 'GA' 'HI' 'IA' 'ID' 'IL' 'IN'\n",
      " 'KY' 'MA' 'MD' 'ME' 'MI' 'MN' 'MO' 'MT' 'NC' 'NE' 'NH' 'NJ' 'NV' 'NY'\n",
      " 'OR' 'PR' 'RI' 'SC' 'SD' 'TN' 'UT' 'VA' 'VI' 'VT' 'WA' 'WI']\n"
     ]
    }
   ],
   "source": [
    "print(df.columns)\n",
    "print(df.shape)\n",
    "print(df.State.unique())\n",
    "print(df.groupby('State', as_index=False)['distance_nearest'].mean())\n",
    "print(df.groupby('State', as_index=False)['distance_20_nearest'].mean())\n",
    "dftmp = df.groupby('State', as_index=False)['distance_20_nearest'].mean()\n",
    "states_common = dftmp[dftmp['distance_20_nearest'] <2 ].State.unique()\n",
    "states_sparse = dftmp[dftmp['distance_20_nearest'] >=2 ].State.unique()\n",
    "print(states_common)\n",
    "print(states_sparse)\n"
   ]
  },
  {
   "cell_type": "code",
   "execution_count": 251,
   "metadata": {},
   "outputs": [
    {
     "name": "stdout",
     "output_type": "stream",
     "text": [
      "(23496, 84)\n"
     ]
    }
   ],
   "source": [
    "from sklearn.preprocessing import OneHotEncoder\n",
    "\n",
    "enc = OneHotEncoder()\n",
    "df_ohe = df.copy()\n",
    "#print(df_ohe.columns)\n",
    "#df_ohe = df_ohe[df_ohe.State.isin(states_common)]\n",
    "#print(type(df_ohe))\n",
    "for col in ['FacilityWaterType','State']:\n",
    "    ohe = pd.get_dummies(df_ohe[col], prefix='{}'.format(col))\n",
    "    df_ohe = df_ohe.drop(col, 1) # drop the column that we are OHE-ing\n",
    "    df_ohe = pd.concat([df_ohe.reset_index(drop=True), ohe.reset_index(drop=True)], axis=1)\n",
    "print(df_ohe.shape)"
   ]
  },
  {
   "cell_type": "code",
   "execution_count": 252,
   "metadata": {},
   "outputs": [
    {
     "name": "stdout",
     "output_type": "stream",
     "text": [
      "Index(['FacilityID', 'ContaminantCount', 'LatitudePWS', 'LongitudePWS',\n",
      "       'IsContaminated', 'SizeBool', 'LatitudeFracking', 'LongitudeFracking',\n",
      "       'PercentHighAdditive', 'PercentHFJob', 'JobDuration',\n",
      "       'TotalBaseWaterVolume', 'TotalBaseNonWaterVolume', 'distance_nearest',\n",
      "       'distance_20_nearest', 'FacilityWaterType_GU', 'FacilityWaterType_GW',\n",
      "       'FacilityWaterType_MX', 'FacilityWaterType_SW', 'State_AK', 'State_AL',\n",
      "       'State_AR', 'State_AS', 'State_AZ', 'State_CA', 'State_CO', 'State_CT',\n",
      "       'State_DE', 'State_FL', 'State_GA', 'State_HI', 'State_IA', 'State_ID',\n",
      "       'State_IL', 'State_IN', 'State_KS', 'State_KY', 'State_LA', 'State_MA',\n",
      "       'State_MD', 'State_ME', 'State_MI', 'State_MN', 'State_MO', 'State_MS',\n",
      "       'State_MT', 'State_NC', 'State_ND', 'State_NE', 'State_NH', 'State_NJ',\n",
      "       'State_NM', 'State_NN', 'State_NV', 'State_NY', 'State_OH', 'State_OK',\n",
      "       'State_OR', 'State_PA', 'State_PR', 'State_RI', 'State_SC', 'State_SD',\n",
      "       'State_TN', 'State_TX', 'State_UT', 'State_VA', 'State_VI', 'State_VT',\n",
      "       'State_WA', 'State_WI', 'State_WV', 'State_WY'],\n",
      "      dtype='object')\n"
     ]
    },
    {
     "data": {
      "text/html": [
       "<div>\n",
       "<style scoped>\n",
       "    .dataframe tbody tr th:only-of-type {\n",
       "        vertical-align: middle;\n",
       "    }\n",
       "\n",
       "    .dataframe tbody tr th {\n",
       "        vertical-align: top;\n",
       "    }\n",
       "\n",
       "    .dataframe thead th {\n",
       "        text-align: right;\n",
       "    }\n",
       "</style>\n",
       "<table border=\"1\" class=\"dataframe\">\n",
       "  <thead>\n",
       "    <tr style=\"text-align: right;\">\n",
       "      <th></th>\n",
       "      <th>FacilityID</th>\n",
       "      <th>ContaminantCount</th>\n",
       "      <th>LatitudePWS</th>\n",
       "      <th>LongitudePWS</th>\n",
       "      <th>IsContaminated</th>\n",
       "      <th>SizeBool</th>\n",
       "      <th>LatitudeFracking</th>\n",
       "      <th>LongitudeFracking</th>\n",
       "      <th>PercentHighAdditive</th>\n",
       "      <th>PercentHFJob</th>\n",
       "      <th>...</th>\n",
       "      <th>State_TN</th>\n",
       "      <th>State_TX</th>\n",
       "      <th>State_UT</th>\n",
       "      <th>State_VA</th>\n",
       "      <th>State_VI</th>\n",
       "      <th>State_VT</th>\n",
       "      <th>State_WA</th>\n",
       "      <th>State_WI</th>\n",
       "      <th>State_WV</th>\n",
       "      <th>State_WY</th>\n",
       "    </tr>\n",
       "  </thead>\n",
       "  <tbody>\n",
       "    <tr>\n",
       "      <th>0</th>\n",
       "      <td>1</td>\n",
       "      <td>28</td>\n",
       "      <td>33.786594</td>\n",
       "      <td>-118.298662</td>\n",
       "      <td>1</td>\n",
       "      <td>0</td>\n",
       "      <td>36.200230</td>\n",
       "      <td>-107.499050</td>\n",
       "      <td>30.000000</td>\n",
       "      <td>1.729810</td>\n",
       "      <td>...</td>\n",
       "      <td>0</td>\n",
       "      <td>0</td>\n",
       "      <td>0</td>\n",
       "      <td>0</td>\n",
       "      <td>0</td>\n",
       "      <td>0</td>\n",
       "      <td>0</td>\n",
       "      <td>0</td>\n",
       "      <td>0</td>\n",
       "      <td>0</td>\n",
       "    </tr>\n",
       "    <tr>\n",
       "      <th>1</th>\n",
       "      <td>1</td>\n",
       "      <td>28</td>\n",
       "      <td>30.549676</td>\n",
       "      <td>-84.606864</td>\n",
       "      <td>0</td>\n",
       "      <td>0</td>\n",
       "      <td>33.406510</td>\n",
       "      <td>-87.482260</td>\n",
       "      <td>36.573585</td>\n",
       "      <td>1.897712</td>\n",
       "      <td>...</td>\n",
       "      <td>0</td>\n",
       "      <td>0</td>\n",
       "      <td>0</td>\n",
       "      <td>0</td>\n",
       "      <td>0</td>\n",
       "      <td>0</td>\n",
       "      <td>0</td>\n",
       "      <td>0</td>\n",
       "      <td>0</td>\n",
       "      <td>0</td>\n",
       "    </tr>\n",
       "    <tr>\n",
       "      <th>2</th>\n",
       "      <td>1</td>\n",
       "      <td>21</td>\n",
       "      <td>42.477142</td>\n",
       "      <td>-71.442200</td>\n",
       "      <td>0</td>\n",
       "      <td>0</td>\n",
       "      <td>41.812000</td>\n",
       "      <td>-75.563800</td>\n",
       "      <td>27.013514</td>\n",
       "      <td>2.688290</td>\n",
       "      <td>...</td>\n",
       "      <td>0</td>\n",
       "      <td>0</td>\n",
       "      <td>0</td>\n",
       "      <td>0</td>\n",
       "      <td>0</td>\n",
       "      <td>0</td>\n",
       "      <td>0</td>\n",
       "      <td>0</td>\n",
       "      <td>0</td>\n",
       "      <td>0</td>\n",
       "    </tr>\n",
       "    <tr>\n",
       "      <th>3</th>\n",
       "      <td>1</td>\n",
       "      <td>26</td>\n",
       "      <td>39.554644</td>\n",
       "      <td>-76.111180</td>\n",
       "      <td>0</td>\n",
       "      <td>0</td>\n",
       "      <td>41.312447</td>\n",
       "      <td>-76.889328</td>\n",
       "      <td>32.940000</td>\n",
       "      <td>2.857143</td>\n",
       "      <td>...</td>\n",
       "      <td>0</td>\n",
       "      <td>0</td>\n",
       "      <td>0</td>\n",
       "      <td>0</td>\n",
       "      <td>0</td>\n",
       "      <td>0</td>\n",
       "      <td>0</td>\n",
       "      <td>0</td>\n",
       "      <td>0</td>\n",
       "      <td>0</td>\n",
       "    </tr>\n",
       "    <tr>\n",
       "      <th>4</th>\n",
       "      <td>1</td>\n",
       "      <td>21</td>\n",
       "      <td>45.006764</td>\n",
       "      <td>-93.382230</td>\n",
       "      <td>0</td>\n",
       "      <td>0</td>\n",
       "      <td>48.960520</td>\n",
       "      <td>-100.600420</td>\n",
       "      <td>23.654167</td>\n",
       "      <td>4.147837</td>\n",
       "      <td>...</td>\n",
       "      <td>0</td>\n",
       "      <td>0</td>\n",
       "      <td>0</td>\n",
       "      <td>0</td>\n",
       "      <td>0</td>\n",
       "      <td>0</td>\n",
       "      <td>0</td>\n",
       "      <td>0</td>\n",
       "      <td>0</td>\n",
       "      <td>0</td>\n",
       "    </tr>\n",
       "  </tbody>\n",
       "</table>\n",
       "<p>5 rows × 73 columns</p>\n",
       "</div>"
      ],
      "text/plain": [
       "   FacilityID  ContaminantCount  LatitudePWS  LongitudePWS  IsContaminated  \\\n",
       "0           1                28    33.786594   -118.298662               1   \n",
       "1           1                28    30.549676    -84.606864               0   \n",
       "2           1                21    42.477142    -71.442200               0   \n",
       "3           1                26    39.554644    -76.111180               0   \n",
       "4           1                21    45.006764    -93.382230               0   \n",
       "\n",
       "   SizeBool  LatitudeFracking  LongitudeFracking  PercentHighAdditive  \\\n",
       "0         0         36.200230        -107.499050            30.000000   \n",
       "1         0         33.406510         -87.482260            36.573585   \n",
       "2         0         41.812000         -75.563800            27.013514   \n",
       "3         0         41.312447         -76.889328            32.940000   \n",
       "4         0         48.960520        -100.600420            23.654167   \n",
       "\n",
       "   PercentHFJob  ...  State_TN  State_TX  State_UT  State_VA  State_VI  \\\n",
       "0      1.729810  ...         0         0         0         0         0   \n",
       "1      1.897712  ...         0         0         0         0         0   \n",
       "2      2.688290  ...         0         0         0         0         0   \n",
       "3      2.857143  ...         0         0         0         0         0   \n",
       "4      4.147837  ...         0         0         0         0         0   \n",
       "\n",
       "   State_VT  State_WA  State_WI  State_WV  State_WY  \n",
       "0         0         0         0         0         0  \n",
       "1         0         0         0         0         0  \n",
       "2         0         0         0         0         0  \n",
       "3         0         0         0         0         0  \n",
       "4         0         0         0         0         0  \n",
       "\n",
       "[5 rows x 73 columns]"
      ]
     },
     "execution_count": 252,
     "metadata": {},
     "output_type": "execute_result"
    }
   ],
   "source": [
    "df_ohe = df_ohe.drop(['Unnamed: 0', # artifact of KNN\n",
    "                      'level_0', # artifact of merging\n",
    "                      'index', # artifact of merging\n",
    "                      'sampleId', # artifact of EDA\n",
    "                      'geometry', # artifact of KNN\n",
    "                      'JobEndDate', # will use duration instead of end date\n",
    "                      'IngredientName', # not currently encoding this\n",
    "                      'Zip', # not currently encoding this\n",
    "                      'CollectionDate', # do not need this\n",
    "                      'Supplier', # not currently encoding this\n",
    "                      'Purpose', # not currently encoding this \n",
    "                     ], axis=1)\n",
    "print(df_ohe.columns)\n",
    "df_ohe.head()"
   ]
  },
  {
   "cell_type": "code",
   "execution_count": 253,
   "metadata": {},
   "outputs": [
    {
     "name": "stdout",
     "output_type": "stream",
     "text": [
      "<class 'numpy.ndarray'>\n"
     ]
    }
   ],
   "source": [
    "import torch\n",
    "import torch.optim as optim\n",
    "from torch.utils.data import Dataset, DataLoader, SubsetRandomSampler, TensorDataset\n",
    "import tqdm \n",
    "from sklearn.model_selection import train_test_split\n",
    "import torch.nn as nn\n",
    "from tqdm.notebook import tqdm, trange\n",
    "from ipywidgets import IntProgress\n",
    "from sklearn import preprocessing\n",
    "\n",
    "df_ohe['CCCategory'] = df_ohe.apply(lambda row: 6 if row.ContaminantCount > 30 else row.ContaminantCount//6, axis=1)\n",
    "y = df_ohe['CCCategory'].values\n",
    "output_dim = len(df_ohe['CCCategory'].unique())\n",
    "df_ohe = df_ohe.drop(['CCCategory'], axis=1)\n",
    "#y = df_ohe['ContaminantCount'].values\n",
    "print(type(y))\n",
    "X = df_ohe.loc[:, df_ohe.columns != 'ContaminantCount'].to_numpy()\n",
    "X_train, X_test, y_train, y_test = train_test_split(\n",
    "    X, y, test_size=0.33, random_state=42)"
   ]
  },
  {
   "cell_type": "markdown",
   "metadata": {},
   "source": [
    "# Neural Network"
   ]
  },
  {
   "cell_type": "code",
   "execution_count": 254,
   "metadata": {},
   "outputs": [],
   "source": [
    "#torch_tensor_cc = torch.tensor(df_ohe['ContaminantCount'].values)\n",
    "#torch_tensor_vec = torch.from_numpy(df_ohe.loc[:, df_ohe.columns != 'ContaminantCount'].to_numpy())\n",
    "scaler = preprocessing.MinMaxScaler().fit(X_train)\n",
    "X_train = scaler.transform(X_train)\n",
    "X_test = scaler.transform(X_test)\n",
    "tensor_X_train = torch.tensor(X_train)\n",
    "tensor_y_train = torch.tensor(y_train)\n",
    "tensor_X_test = torch.tensor(X_test)\n",
    "tensor_y_test = torch.tensor(y_test)"
   ]
  },
  {
   "cell_type": "code",
   "execution_count": 255,
   "metadata": {},
   "outputs": [
    {
     "name": "stdout",
     "output_type": "stream",
     "text": [
      "(23496, 73)\n",
      "torch.Size([15742, 72])\n",
      "torch.Size([7754, 72])\n",
      "torch.Size([15742])\n",
      "torch.Size([7754])\n"
     ]
    }
   ],
   "source": [
    "print(df_ohe.shape)\n",
    "print(tensor_X_train.shape)\n",
    "print(tensor_X_test.shape)\n",
    "print(tensor_y_train.shape)\n",
    "print(tensor_y_test.shape)"
   ]
  },
  {
   "cell_type": "code",
   "execution_count": 256,
   "metadata": {},
   "outputs": [],
   "source": [
    "train_dataset = TensorDataset(tensor_X_train, tensor_y_train) \n",
    "test_dataset = TensorDataset(tensor_X_test, tensor_y_test)\n",
    "train_dataloader = DataLoader(train_dataset, batch_size=1)\n",
    "test_dataloader = DataLoader(test_dataset, batch_size=1)"
   ]
  },
  {
   "cell_type": "code",
   "execution_count": 303,
   "metadata": {},
   "outputs": [],
   "source": [
    "class FFNN(nn.Module):\n",
    "    def __init__(self, input_dim, h, output_dim): #input_dim=len(vocab),h=512,output_dim=len(emoticons)\n",
    "        super(FFNN, self).__init__()\n",
    "        self.h = h\n",
    "        self.W1 = nn.Linear(input_dim, h)\n",
    "        self.activation1 = nn.ReLU() # The rectified linear unit; one valid choice of activation function\n",
    "        self.W2 = nn.Linear(h, output_dim) \n",
    "        self.activation2 = nn.LogSoftmax(dim=1)\n",
    "        self.loss = nn.NLLLoss()\n",
    "    \n",
    "    def forward(self, input_vector):\n",
    "        z1 = self.W1(input_vector.float())\n",
    "        z2 = self.activation1(z1)\n",
    "        z3 = self.W2(z2)\n",
    "        #print('Softmax: {}'.format(str(self.softmax(z3))))\n",
    "        #print(z1)\n",
    "        #print(z2)\n",
    "        #print(z3)\n",
    "        return self.activation2(z3)\n",
    "    \n",
    "    def compute_loss(self, predicted_vector, gold_label):\n",
    "        return self.loss(predicted_vector, gold_label.long())\n",
    "    \n",
    "    def load_model(self, save_path):\n",
    "        self.load_state_dict(torch.load(save_path))\n",
    "\n",
    "    def save_model(self, save_path):\n",
    "        torch.save(self.state_dict(), save_path)\n",
    "\n",
    "def train_epoch(model, train_loader, optimizer):\n",
    "    model.train()\n",
    "    iters = 0\n",
    "    loss = 0.0\n",
    "    running_loss = 0\n",
    "    running_accuracy = 0\n",
    "    for (input_batch, expected_out) in tqdm(train_loader, leave=False, desc=\"Training Batches\"):\n",
    "        output = model(input_batch)\n",
    "        predicted = output.argmax(dim=1,keepdim=True)\n",
    "        optimizer.zero_grad()\n",
    "        loss = model.compute_loss(output, expected_out)\n",
    "        acc = predicted.squeeze(1).eq(expected_out).sum()/len(expected_out)\n",
    "        loss.backward()\n",
    "        optimizer.step()\n",
    "        running_loss += loss.item()\n",
    "        running_accuracy += acc.item()\n",
    "        iters +=1\n",
    "        #print(running_loss)\n",
    "    print('Training Loss: {}'.format(running_loss/iters))\n",
    "    print('Training Accuracy: {}'.format(running_accuracy/iters))\n",
    "    \n",
    "def evaluation(model, test_loader, optimizer):\n",
    "    model.eval()\n",
    "    iters = 0\n",
    "    loss = 0.0\n",
    "    running_loss = 0\n",
    "    running_accuracy = 0\n",
    "    for (input_batch, expected_out) in tqdm(test_loader, leave=False, desc=\"Testing Batches\"):\n",
    "        output = model(input_batch)\n",
    "        predicted = output.argmax(dim=1,keepdim=True)\n",
    "        loss = model.compute_loss(output, expected_out)\n",
    "        acc = predicted.squeeze(1).eq(expected_out).sum()/len(expected_out)\n",
    "        running_loss += loss.item()\n",
    "        running_accuracy += acc.item()\n",
    "        iters +=1\n",
    "        #print(running_loss)\n",
    "    print('Testing Loss: {}'.format(running_loss/iters))\n",
    "    print('Testing Accuracy: {}'.format(running_accuracy/iters))\n",
    "    \n",
    "def train_and_evaluate(number_of_epochs, model, train_loader, val_loader):\n",
    "    optimizer = optim.SGD(model.parameters(), lr=0.001, momentum=0.9)\n",
    "    for epoch in trange(number_of_epochs, desc=\"Epochs\"):\n",
    "        train_epoch(model, train_loader, optimizer)\n",
    "        evaluation(model, val_loader, optimizer)\n"
   ]
  },
  {
   "cell_type": "code",
   "execution_count": 304,
   "metadata": {},
   "outputs": [
    {
     "data": {
      "application/vnd.jupyter.widget-view+json": {
       "model_id": "7fac96bff5164864852fec5055e60fe0",
       "version_major": 2,
       "version_minor": 0
      },
      "text/plain": [
       "HBox(children=(HTML(value='Epochs'), FloatProgress(value=0.0, max=30.0), HTML(value='')))"
      ]
     },
     "metadata": {},
     "output_type": "display_data"
    },
    {
     "data": {
      "application/vnd.jupyter.widget-view+json": {
       "model_id": "920e6d451f7e414d8bb44a12e80dda91",
       "version_major": 2,
       "version_minor": 0
      },
      "text/plain": [
       "HBox(children=(HTML(value='Training Batches'), FloatProgress(value=0.0, max=15742.0), HTML(value='')))"
      ]
     },
     "metadata": {},
     "output_type": "display_data"
    },
    {
     "name": "stdout",
     "output_type": "stream",
     "text": [
      "Training Loss: 1.2643856599490573\n",
      "Training Accuracy: 0.5121331469952992\n"
     ]
    },
    {
     "data": {
      "application/vnd.jupyter.widget-view+json": {
       "model_id": "527ecce9b9824e788224074ccd753de0",
       "version_major": 2,
       "version_minor": 0
      },
      "text/plain": [
       "HBox(children=(HTML(value='Testing Batches'), FloatProgress(value=0.0, max=7754.0), HTML(value='')))"
      ]
     },
     "metadata": {},
     "output_type": "display_data"
    },
    {
     "name": "stdout",
     "output_type": "stream",
     "text": [
      "Testing Loss: 1.235708484318043\n",
      "Testing Accuracy: 0.5270827959762703\n"
     ]
    },
    {
     "data": {
      "application/vnd.jupyter.widget-view+json": {
       "model_id": "02d8639e15594d778820567da4551a8e",
       "version_major": 2,
       "version_minor": 0
      },
      "text/plain": [
       "HBox(children=(HTML(value='Training Batches'), FloatProgress(value=0.0, max=15742.0), HTML(value='')))"
      ]
     },
     "metadata": {},
     "output_type": "display_data"
    },
    {
     "name": "stdout",
     "output_type": "stream",
     "text": [
      "Training Loss: 1.188144380614595\n",
      "Training Accuracy: 0.5395756574768136\n"
     ]
    },
    {
     "data": {
      "application/vnd.jupyter.widget-view+json": {
       "model_id": "dc91c945099148f48d7f9649c90e4dd6",
       "version_major": 2,
       "version_minor": 0
      },
      "text/plain": [
       "HBox(children=(HTML(value='Testing Batches'), FloatProgress(value=0.0, max=7754.0), HTML(value='')))"
      ]
     },
     "metadata": {},
     "output_type": "display_data"
    },
    {
     "name": "stdout",
     "output_type": "stream",
     "text": [
      "Testing Loss: 1.2095645617464015\n",
      "Testing Accuracy: 0.5461697188547846\n"
     ]
    },
    {
     "data": {
      "application/vnd.jupyter.widget-view+json": {
       "model_id": "7667420de15e48b4b668609f2f623909",
       "version_major": 2,
       "version_minor": 0
      },
      "text/plain": [
       "HBox(children=(HTML(value='Training Batches'), FloatProgress(value=0.0, max=15742.0), HTML(value='')))"
      ]
     },
     "metadata": {},
     "output_type": "display_data"
    },
    {
     "name": "stdout",
     "output_type": "stream",
     "text": [
      "Training Loss: 1.1596918932429992\n",
      "Training Accuracy: 0.5538686316859357\n"
     ]
    },
    {
     "data": {
      "application/vnd.jupyter.widget-view+json": {
       "model_id": "698d60af8abd43dc91573998ccadb142",
       "version_major": 2,
       "version_minor": 0
      },
      "text/plain": [
       "HBox(children=(HTML(value='Testing Batches'), FloatProgress(value=0.0, max=7754.0), HTML(value='')))"
      ]
     },
     "metadata": {},
     "output_type": "display_data"
    },
    {
     "name": "stdout",
     "output_type": "stream",
     "text": [
      "Testing Loss: 1.186322874463816\n",
      "Testing Accuracy: 0.5491359298426619\n"
     ]
    },
    {
     "data": {
      "application/vnd.jupyter.widget-view+json": {
       "model_id": "9da58dbd739d4c8d9b1484ad0fa7ecb2",
       "version_major": 2,
       "version_minor": 0
      },
      "text/plain": [
       "HBox(children=(HTML(value='Training Batches'), FloatProgress(value=0.0, max=15742.0), HTML(value='')))"
      ]
     },
     "metadata": {},
     "output_type": "display_data"
    },
    {
     "name": "stdout",
     "output_type": "stream",
     "text": [
      "Training Loss: 1.1380622413458088\n",
      "Training Accuracy: 0.5621267945623174\n"
     ]
    },
    {
     "data": {
      "application/vnd.jupyter.widget-view+json": {
       "model_id": "4608c508905c458db6cf602c7b050f4b",
       "version_major": 2,
       "version_minor": 0
      },
      "text/plain": [
       "HBox(children=(HTML(value='Testing Batches'), FloatProgress(value=0.0, max=7754.0), HTML(value='')))"
      ]
     },
     "metadata": {},
     "output_type": "display_data"
    },
    {
     "name": "stdout",
     "output_type": "stream",
     "text": [
      "Testing Loss: 1.1746765294539612\n",
      "Testing Accuracy: 0.5542945576476658\n"
     ]
    },
    {
     "data": {
      "application/vnd.jupyter.widget-view+json": {
       "model_id": "1eaca6f8f2164a7c859fd3f0141bd1cb",
       "version_major": 2,
       "version_minor": 0
      },
      "text/plain": [
       "HBox(children=(HTML(value='Training Batches'), FloatProgress(value=0.0, max=15742.0), HTML(value='')))"
      ]
     },
     "metadata": {},
     "output_type": "display_data"
    },
    {
     "name": "stdout",
     "output_type": "stream",
     "text": [
      "Training Loss: 1.121971430365347\n",
      "Training Accuracy: 0.5687333248634227\n"
     ]
    },
    {
     "data": {
      "application/vnd.jupyter.widget-view+json": {
       "model_id": "9e94085c8c464d849d73d6991eadda90",
       "version_major": 2,
       "version_minor": 0
      },
      "text/plain": [
       "HBox(children=(HTML(value='Testing Batches'), FloatProgress(value=0.0, max=7754.0), HTML(value='')))"
      ]
     },
     "metadata": {},
     "output_type": "display_data"
    },
    {
     "name": "stdout",
     "output_type": "stream",
     "text": [
      "Testing Loss: 1.1607992132457379\n",
      "Testing Accuracy: 0.5598400825380448\n"
     ]
    },
    {
     "data": {
      "application/vnd.jupyter.widget-view+json": {
       "model_id": "bdfbcf3d85174141988cb8640e3006eb",
       "version_major": 2,
       "version_minor": 0
      },
      "text/plain": [
       "HBox(children=(HTML(value='Training Batches'), FloatProgress(value=0.0, max=15742.0), HTML(value='')))"
      ]
     },
     "metadata": {},
     "output_type": "display_data"
    },
    {
     "name": "stdout",
     "output_type": "stream",
     "text": [
      "Training Loss: 1.1085349447135908\n",
      "Training Accuracy: 0.5762291957819845\n"
     ]
    },
    {
     "data": {
      "application/vnd.jupyter.widget-view+json": {
       "model_id": "049c319417b946ae83fafd97a57ab797",
       "version_major": 2,
       "version_minor": 0
      },
      "text/plain": [
       "HBox(children=(HTML(value='Testing Batches'), FloatProgress(value=0.0, max=7754.0), HTML(value='')))"
      ]
     },
     "metadata": {},
     "output_type": "display_data"
    },
    {
     "name": "stdout",
     "output_type": "stream",
     "text": [
      "Testing Loss: 1.1555182834962747\n",
      "Testing Accuracy: 0.5651276760381738\n"
     ]
    },
    {
     "data": {
      "application/vnd.jupyter.widget-view+json": {
       "model_id": "69f9de749fb34119b61c5da34b9847d5",
       "version_major": 2,
       "version_minor": 0
      },
      "text/plain": [
       "HBox(children=(HTML(value='Training Batches'), FloatProgress(value=0.0, max=15742.0), HTML(value='')))"
      ]
     },
     "metadata": {},
     "output_type": "display_data"
    },
    {
     "name": "stdout",
     "output_type": "stream",
     "text": [
      "Training Loss: 1.0972292276915518\n",
      "Training Accuracy: 0.5809935205183585\n"
     ]
    },
    {
     "data": {
      "application/vnd.jupyter.widget-view+json": {
       "model_id": "f4b1fafeb6284bdb8131e1bd438606f5",
       "version_major": 2,
       "version_minor": 0
      },
      "text/plain": [
       "HBox(children=(HTML(value='Testing Batches'), FloatProgress(value=0.0, max=7754.0), HTML(value='')))"
      ]
     },
     "metadata": {},
     "output_type": "display_data"
    },
    {
     "name": "stdout",
     "output_type": "stream",
     "text": [
      "Testing Loss: 1.1460783773365866\n",
      "Testing Accuracy: 0.5695125096724272\n"
     ]
    },
    {
     "data": {
      "application/vnd.jupyter.widget-view+json": {
       "model_id": "21e38c749c8849c78c48aee7fa370a87",
       "version_major": 2,
       "version_minor": 0
      },
      "text/plain": [
       "HBox(children=(HTML(value='Training Batches'), FloatProgress(value=0.0, max=15742.0), HTML(value='')))"
      ]
     },
     "metadata": {},
     "output_type": "display_data"
    },
    {
     "name": "stdout",
     "output_type": "stream",
     "text": [
      "Training Loss: 1.0876083243164985\n",
      "Training Accuracy: 0.5846144073180028\n"
     ]
    },
    {
     "data": {
      "application/vnd.jupyter.widget-view+json": {
       "model_id": "e1bacf551abc43a293fe0d1da77bc082",
       "version_major": 2,
       "version_minor": 0
      },
      "text/plain": [
       "HBox(children=(HTML(value='Testing Batches'), FloatProgress(value=0.0, max=7754.0), HTML(value='')))"
      ]
     },
     "metadata": {},
     "output_type": "display_data"
    },
    {
     "name": "stdout",
     "output_type": "stream",
     "text": [
      "Testing Loss: 1.1389939632600181\n",
      "Testing Accuracy: 0.5742842403920557\n"
     ]
    },
    {
     "data": {
      "application/vnd.jupyter.widget-view+json": {
       "model_id": "421fa2169d794ced87c961e9bdd0d5a7",
       "version_major": 2,
       "version_minor": 0
      },
      "text/plain": [
       "HBox(children=(HTML(value='Training Batches'), FloatProgress(value=0.0, max=15742.0), HTML(value='')))"
      ]
     },
     "metadata": {},
     "output_type": "display_data"
    },
    {
     "name": "stdout",
     "output_type": "stream",
     "text": [
      "Training Loss: 1.0790912349381925\n",
      "Training Accuracy: 0.5902680726718333\n"
     ]
    },
    {
     "data": {
      "application/vnd.jupyter.widget-view+json": {
       "model_id": "39f6bf4b79724170ae1ef7dcde07e5fa",
       "version_major": 2,
       "version_minor": 0
      },
      "text/plain": [
       "HBox(children=(HTML(value='Testing Batches'), FloatProgress(value=0.0, max=7754.0), HTML(value='')))"
      ]
     },
     "metadata": {},
     "output_type": "display_data"
    },
    {
     "name": "stdout",
     "output_type": "stream",
     "text": [
      "Testing Loss: 1.1381749175022928\n",
      "Testing Accuracy: 0.5735104462213051\n"
     ]
    },
    {
     "data": {
      "application/vnd.jupyter.widget-view+json": {
       "model_id": "90587e9ddb7a43ffbf8854f1f518fd89",
       "version_major": 2,
       "version_minor": 0
      },
      "text/plain": [
       "HBox(children=(HTML(value='Training Batches'), FloatProgress(value=0.0, max=15742.0), HTML(value='')))"
      ]
     },
     "metadata": {},
     "output_type": "display_data"
    },
    {
     "name": "stdout",
     "output_type": "stream",
     "text": [
      "Training Loss: 1.0721501665008355\n",
      "Training Accuracy: 0.5921102782365646\n"
     ]
    },
    {
     "data": {
      "application/vnd.jupyter.widget-view+json": {
       "model_id": "78f5ecae018b48858b39c91b21eff513",
       "version_major": 2,
       "version_minor": 0
      },
      "text/plain": [
       "HBox(children=(HTML(value='Testing Batches'), FloatProgress(value=0.0, max=7754.0), HTML(value='')))"
      ]
     },
     "metadata": {},
     "output_type": "display_data"
    },
    {
     "name": "stdout",
     "output_type": "stream",
     "text": [
      "Testing Loss: 1.1304290335585054\n",
      "Testing Accuracy: 0.5771214856848078\n"
     ]
    },
    {
     "data": {
      "application/vnd.jupyter.widget-view+json": {
       "model_id": "81404b6deaea43e38db45161c57fba9e",
       "version_major": 2,
       "version_minor": 0
      },
      "text/plain": [
       "HBox(children=(HTML(value='Training Batches'), FloatProgress(value=0.0, max=15742.0), HTML(value='')))"
      ]
     },
     "metadata": {},
     "output_type": "display_data"
    },
    {
     "name": "stdout",
     "output_type": "stream",
     "text": [
      "Training Loss: 1.065308696319167\n",
      "Training Accuracy: 0.5955405920467539\n"
     ]
    },
    {
     "data": {
      "application/vnd.jupyter.widget-view+json": {
       "model_id": "7349bfaa942f4f44a1df16bbf179ec6d",
       "version_major": 2,
       "version_minor": 0
      },
      "text/plain": [
       "HBox(children=(HTML(value='Testing Batches'), FloatProgress(value=0.0, max=7754.0), HTML(value='')))"
      ]
     },
     "metadata": {},
     "output_type": "display_data"
    },
    {
     "name": "stdout",
     "output_type": "stream",
     "text": [
      "Testing Loss: 1.1218015703259514\n",
      "Testing Accuracy: 0.582667010575187\n"
     ]
    },
    {
     "data": {
      "application/vnd.jupyter.widget-view+json": {
       "model_id": "fe5368058b17481f850b8028ae7ca735",
       "version_major": 2,
       "version_minor": 0
      },
      "text/plain": [
       "HBox(children=(HTML(value='Training Batches'), FloatProgress(value=0.0, max=15742.0), HTML(value='')))"
      ]
     },
     "metadata": {},
     "output_type": "display_data"
    },
    {
     "name": "stdout",
     "output_type": "stream",
     "text": [
      "Training Loss: 1.058243187444999\n",
      "Training Accuracy: 0.5989073815271249\n"
     ]
    },
    {
     "data": {
      "application/vnd.jupyter.widget-view+json": {
       "model_id": "6f92b9e4c1cb4725ad3fddbe6083df4f",
       "version_major": 2,
       "version_minor": 0
      },
      "text/plain": [
       "HBox(children=(HTML(value='Testing Batches'), FloatProgress(value=0.0, max=7754.0), HTML(value='')))"
      ]
     },
     "metadata": {},
     "output_type": "display_data"
    },
    {
     "name": "stdout",
     "output_type": "stream",
     "text": [
      "Testing Loss: 1.115159115197004\n",
      "Testing Accuracy: 0.5860201186484395\n"
     ]
    },
    {
     "data": {
      "application/vnd.jupyter.widget-view+json": {
       "model_id": "71ae8fc84209446cb5cee849a5a82644",
       "version_major": 2,
       "version_minor": 0
      },
      "text/plain": [
       "HBox(children=(HTML(value='Training Batches'), FloatProgress(value=0.0, max=15742.0), HTML(value='')))"
      ]
     },
     "metadata": {},
     "output_type": "display_data"
    },
    {
     "name": "stdout",
     "output_type": "stream",
     "text": [
      "Training Loss: 1.0527344432081676\n",
      "Training Accuracy: 0.6028458899758607\n"
     ]
    },
    {
     "data": {
      "application/vnd.jupyter.widget-view+json": {
       "model_id": "5b4a120f8e254c578924dc4b446b8cbc",
       "version_major": 2,
       "version_minor": 0
      },
      "text/plain": [
       "HBox(children=(HTML(value='Testing Batches'), FloatProgress(value=0.0, max=7754.0), HTML(value='')))"
      ]
     },
     "metadata": {},
     "output_type": "display_data"
    },
    {
     "name": "stdout",
     "output_type": "stream",
     "text": [
      "Testing Loss: 1.1148062984682263\n",
      "Testing Accuracy: 0.5888573639411916\n"
     ]
    },
    {
     "data": {
      "application/vnd.jupyter.widget-view+json": {
       "model_id": "7844c800a51a459d86494b4a888a127d",
       "version_major": 2,
       "version_minor": 0
      },
      "text/plain": [
       "HBox(children=(HTML(value='Training Batches'), FloatProgress(value=0.0, max=15742.0), HTML(value='')))"
      ]
     },
     "metadata": {},
     "output_type": "display_data"
    },
    {
     "name": "stdout",
     "output_type": "stream",
     "text": [
      "Training Loss: 1.0469493975030397\n",
      "Training Accuracy: 0.6053233388387752\n"
     ]
    },
    {
     "data": {
      "application/vnd.jupyter.widget-view+json": {
       "model_id": "f14687b230e84cf88f5021ca1a0d9a82",
       "version_major": 2,
       "version_minor": 0
      },
      "text/plain": [
       "HBox(children=(HTML(value='Testing Batches'), FloatProgress(value=0.0, max=7754.0), HTML(value='')))"
      ]
     },
     "metadata": {},
     "output_type": "display_data"
    },
    {
     "name": "stdout",
     "output_type": "stream",
     "text": [
      "Testing Loss: 1.1142409673200375\n",
      "Testing Accuracy: 0.5900180551973175\n"
     ]
    },
    {
     "data": {
      "application/vnd.jupyter.widget-view+json": {
       "model_id": "b215a9095f8a426f8422c86fa9499c57",
       "version_major": 2,
       "version_minor": 0
      },
      "text/plain": [
       "HBox(children=(HTML(value='Training Batches'), FloatProgress(value=0.0, max=15742.0), HTML(value='')))"
      ]
     },
     "metadata": {},
     "output_type": "display_data"
    },
    {
     "name": "stdout",
     "output_type": "stream",
     "text": [
      "Training Loss: 1.0410988293788719\n",
      "Training Accuracy: 0.6065303011053234\n"
     ]
    },
    {
     "data": {
      "application/vnd.jupyter.widget-view+json": {
       "model_id": "e6c1e413478444259ec3c4b9c7e060ea",
       "version_major": 2,
       "version_minor": 0
      },
      "text/plain": [
       "HBox(children=(HTML(value='Testing Batches'), FloatProgress(value=0.0, max=7754.0), HTML(value='')))"
      ]
     },
     "metadata": {},
     "output_type": "display_data"
    },
    {
     "name": "stdout",
     "output_type": "stream",
     "text": [
      "Testing Loss: 1.1058663864501603\n",
      "Testing Accuracy: 0.5916946092339438\n"
     ]
    },
    {
     "data": {
      "application/vnd.jupyter.widget-view+json": {
       "model_id": "a6e9594042cd44a7a6210cfc361f6d54",
       "version_major": 2,
       "version_minor": 0
      },
      "text/plain": [
       "HBox(children=(HTML(value='Training Batches'), FloatProgress(value=0.0, max=15742.0), HTML(value='')))"
      ]
     },
     "metadata": {},
     "output_type": "display_data"
    },
    {
     "name": "stdout",
     "output_type": "stream",
     "text": [
      "Training Loss: 1.035969670456791\n",
      "Training Accuracy: 0.6086901283191463\n"
     ]
    },
    {
     "data": {
      "application/vnd.jupyter.widget-view+json": {
       "model_id": "4026bfdd7fa34599838a83ceb954cfc9",
       "version_major": 2,
       "version_minor": 0
      },
      "text/plain": [
       "HBox(children=(HTML(value='Testing Batches'), FloatProgress(value=0.0, max=7754.0), HTML(value='')))"
      ]
     },
     "metadata": {},
     "output_type": "display_data"
    },
    {
     "name": "stdout",
     "output_type": "stream",
     "text": [
      "Testing Loss: 1.0966090879008858\n",
      "Testing Accuracy: 0.5931132318803198\n"
     ]
    },
    {
     "data": {
      "application/vnd.jupyter.widget-view+json": {
       "model_id": "8ad53cb70d76489198ea11570022f3cf",
       "version_major": 2,
       "version_minor": 0
      },
      "text/plain": [
       "HBox(children=(HTML(value='Training Batches'), FloatProgress(value=0.0, max=15742.0), HTML(value='')))"
      ]
     },
     "metadata": {},
     "output_type": "display_data"
    },
    {
     "name": "stdout",
     "output_type": "stream",
     "text": [
      "Training Loss: 1.0301176031555286\n",
      "Training Accuracy: 0.6105958582136959\n"
     ]
    },
    {
     "data": {
      "application/vnd.jupyter.widget-view+json": {
       "model_id": "9930120c5654495ebca92f865b6929da",
       "version_major": 2,
       "version_minor": 0
      },
      "text/plain": [
       "HBox(children=(HTML(value='Testing Batches'), FloatProgress(value=0.0, max=7754.0), HTML(value='')))"
      ]
     },
     "metadata": {},
     "output_type": "display_data"
    },
    {
     "name": "stdout",
     "output_type": "stream",
     "text": [
      "Testing Loss: 1.0931999391946063\n",
      "Testing Accuracy: 0.5947897859169461\n"
     ]
    },
    {
     "data": {
      "application/vnd.jupyter.widget-view+json": {
       "model_id": "45f8960f6df64567b72571e089132c6a",
       "version_major": 2,
       "version_minor": 0
      },
      "text/plain": [
       "HBox(children=(HTML(value='Training Batches'), FloatProgress(value=0.0, max=15742.0), HTML(value='')))"
      ]
     },
     "metadata": {},
     "output_type": "display_data"
    },
    {
     "name": "stdout",
     "output_type": "stream",
     "text": [
      "Training Loss: 1.0241278932598785\n",
      "Training Accuracy: 0.6125651124380638\n"
     ]
    },
    {
     "data": {
      "application/vnd.jupyter.widget-view+json": {
       "model_id": "6285c2c7dbab427dbbf3c9f8400000d9",
       "version_major": 2,
       "version_minor": 0
      },
      "text/plain": [
       "HBox(children=(HTML(value='Testing Batches'), FloatProgress(value=0.0, max=7754.0), HTML(value='')))"
      ]
     },
     "metadata": {},
     "output_type": "display_data"
    },
    {
     "name": "stdout",
     "output_type": "stream",
     "text": [
      "Testing Loss: 1.0909154038534705\n",
      "Testing Accuracy: 0.5974980655145731\n"
     ]
    },
    {
     "data": {
      "application/vnd.jupyter.widget-view+json": {
       "model_id": "9974a812e7364fc6901d50664972cdeb",
       "version_major": 2,
       "version_minor": 0
      },
      "text/plain": [
       "HBox(children=(HTML(value='Training Batches'), FloatProgress(value=0.0, max=15742.0), HTML(value='')))"
      ]
     },
     "metadata": {},
     "output_type": "display_data"
    },
    {
     "name": "stdout",
     "output_type": "stream",
     "text": [
      "Training Loss: 1.0179446174906182\n",
      "Training Accuracy: 0.6148519883115233\n"
     ]
    },
    {
     "data": {
      "application/vnd.jupyter.widget-view+json": {
       "model_id": "25baf611ce2b45458242a47182d13235",
       "version_major": 2,
       "version_minor": 0
      },
      "text/plain": [
       "HBox(children=(HTML(value='Testing Batches'), FloatProgress(value=0.0, max=7754.0), HTML(value='')))"
      ]
     },
     "metadata": {},
     "output_type": "display_data"
    },
    {
     "name": "stdout",
     "output_type": "stream",
     "text": [
      "Testing Loss: 1.0847132269433357\n",
      "Testing Accuracy: 0.6009801392829507\n"
     ]
    },
    {
     "data": {
      "application/vnd.jupyter.widget-view+json": {
       "model_id": "c8e5b43e25084980a988663b1a122c73",
       "version_major": 2,
       "version_minor": 0
      },
      "text/plain": [
       "HBox(children=(HTML(value='Training Batches'), FloatProgress(value=0.0, max=15742.0), HTML(value='')))"
      ]
     },
     "metadata": {},
     "output_type": "display_data"
    },
    {
     "name": "stdout",
     "output_type": "stream",
     "text": [
      "Training Loss: 1.012471529757327\n",
      "Training Accuracy: 0.6190445940795325\n"
     ]
    },
    {
     "data": {
      "application/vnd.jupyter.widget-view+json": {
       "model_id": "1e843b59682d4cf6895feac1235fb705",
       "version_major": 2,
       "version_minor": 0
      },
      "text/plain": [
       "HBox(children=(HTML(value='Testing Batches'), FloatProgress(value=0.0, max=7754.0), HTML(value='')))"
      ]
     },
     "metadata": {},
     "output_type": "display_data"
    },
    {
     "name": "stdout",
     "output_type": "stream",
     "text": [
      "Testing Loss: 1.0785457766431088\n",
      "Testing Accuracy: 0.602785659014702\n"
     ]
    },
    {
     "data": {
      "application/vnd.jupyter.widget-view+json": {
       "model_id": "e551de6a5c344c98bd41e477d66bca93",
       "version_major": 2,
       "version_minor": 0
      },
      "text/plain": [
       "HBox(children=(HTML(value='Training Batches'), FloatProgress(value=0.0, max=15742.0), HTML(value='')))"
      ]
     },
     "metadata": {},
     "output_type": "display_data"
    },
    {
     "name": "stdout",
     "output_type": "stream",
     "text": [
      "Training Loss: 1.0073282260096188\n",
      "Training Accuracy: 0.6213949942828103\n"
     ]
    },
    {
     "data": {
      "application/vnd.jupyter.widget-view+json": {
       "model_id": "45bb81aade554f6b8e29f527f54c9c61",
       "version_major": 2,
       "version_minor": 0
      },
      "text/plain": [
       "HBox(children=(HTML(value='Testing Batches'), FloatProgress(value=0.0, max=7754.0), HTML(value='')))"
      ]
     },
     "metadata": {},
     "output_type": "display_data"
    },
    {
     "name": "stdout",
     "output_type": "stream",
     "text": [
      "Testing Loss: 1.0817462947919965\n",
      "Testing Accuracy: 0.6030435904049523\n"
     ]
    },
    {
     "data": {
      "application/vnd.jupyter.widget-view+json": {
       "model_id": "4cb0243cb2584b56837c46c739633e30",
       "version_major": 2,
       "version_minor": 0
      },
      "text/plain": [
       "HBox(children=(HTML(value='Training Batches'), FloatProgress(value=0.0, max=15742.0), HTML(value='')))"
      ]
     },
     "metadata": {},
     "output_type": "display_data"
    },
    {
     "name": "stdout",
     "output_type": "stream",
     "text": [
      "Training Loss: 1.0028193860602446\n",
      "Training Accuracy: 0.6234912971668148\n"
     ]
    },
    {
     "data": {
      "application/vnd.jupyter.widget-view+json": {
       "model_id": "7a8a638334e349069c7bf073e4789115",
       "version_major": 2,
       "version_minor": 0
      },
      "text/plain": [
       "HBox(children=(HTML(value='Testing Batches'), FloatProgress(value=0.0, max=7754.0), HTML(value='')))"
      ]
     },
     "metadata": {},
     "output_type": "display_data"
    },
    {
     "name": "stdout",
     "output_type": "stream",
     "text": [
      "Testing Loss: 1.0737430325928843\n",
      "Testing Accuracy: 0.6074284240392056\n"
     ]
    },
    {
     "data": {
      "application/vnd.jupyter.widget-view+json": {
       "model_id": "13c158602bab4ba99667ada3b42c038b",
       "version_major": 2,
       "version_minor": 0
      },
      "text/plain": [
       "HBox(children=(HTML(value='Training Batches'), FloatProgress(value=0.0, max=15742.0), HTML(value='')))"
      ]
     },
     "metadata": {},
     "output_type": "display_data"
    },
    {
     "name": "stdout",
     "output_type": "stream",
     "text": [
      "Training Loss: 0.9979343583366099\n",
      "Training Accuracy: 0.6265404649980942\n"
     ]
    },
    {
     "data": {
      "application/vnd.jupyter.widget-view+json": {
       "model_id": "11f706e77c7c4f22907a3cfcdeee0010",
       "version_major": 2,
       "version_minor": 0
      },
      "text/plain": [
       "HBox(children=(HTML(value='Testing Batches'), FloatProgress(value=0.0, max=7754.0), HTML(value='')))"
      ]
     },
     "metadata": {},
     "output_type": "display_data"
    },
    {
     "name": "stdout",
     "output_type": "stream",
     "text": [
      "Testing Loss: 1.0680769710861115\n",
      "Testing Accuracy: 0.6088470466855816\n"
     ]
    },
    {
     "data": {
      "application/vnd.jupyter.widget-view+json": {
       "model_id": "00e89f16202743bfb13df8ae050f5a45",
       "version_major": 2,
       "version_minor": 0
      },
      "text/plain": [
       "HBox(children=(HTML(value='Training Batches'), FloatProgress(value=0.0, max=15742.0), HTML(value='')))"
      ]
     },
     "metadata": {},
     "output_type": "display_data"
    },
    {
     "name": "stdout",
     "output_type": "stream",
     "text": [
      "Training Loss: 0.9932782785585346\n",
      "Training Accuracy: 0.6299072544784653\n"
     ]
    },
    {
     "data": {
      "application/vnd.jupyter.widget-view+json": {
       "model_id": "d187028171a8496ca1fb46e9bb43f5e7",
       "version_major": 2,
       "version_minor": 0
      },
      "text/plain": [
       "HBox(children=(HTML(value='Testing Batches'), FloatProgress(value=0.0, max=7754.0), HTML(value='')))"
      ]
     },
     "metadata": {},
     "output_type": "display_data"
    },
    {
     "name": "stdout",
     "output_type": "stream",
     "text": [
      "Testing Loss: 1.076192783917917\n",
      "Testing Accuracy: 0.6079442868197059\n"
     ]
    },
    {
     "data": {
      "application/vnd.jupyter.widget-view+json": {
       "model_id": "727dfc123ea748bfa6243ef2170d6049",
       "version_major": 2,
       "version_minor": 0
      },
      "text/plain": [
       "HBox(children=(HTML(value='Training Batches'), FloatProgress(value=0.0, max=15742.0), HTML(value='')))"
      ]
     },
     "metadata": {},
     "output_type": "display_data"
    },
    {
     "name": "stdout",
     "output_type": "stream",
     "text": [
      "Training Loss: 0.9889744935877377\n",
      "Training Accuracy: 0.6323211790115614\n"
     ]
    },
    {
     "data": {
      "application/vnd.jupyter.widget-view+json": {
       "model_id": "a3cb15e0d34a4c40bc4093de5e4f18a0",
       "version_major": 2,
       "version_minor": 0
      },
      "text/plain": [
       "HBox(children=(HTML(value='Testing Batches'), FloatProgress(value=0.0, max=7754.0), HTML(value='')))"
      ]
     },
     "metadata": {},
     "output_type": "display_data"
    },
    {
     "name": "stdout",
     "output_type": "stream",
     "text": [
      "Testing Loss: 1.0752165857892566\n",
      "Testing Accuracy: 0.6091049780758319\n"
     ]
    },
    {
     "data": {
      "application/vnd.jupyter.widget-view+json": {
       "model_id": "f39e699ebfd34290abadff4caf2f0fb1",
       "version_major": 2,
       "version_minor": 0
      },
      "text/plain": [
       "HBox(children=(HTML(value='Training Batches'), FloatProgress(value=0.0, max=15742.0), HTML(value='')))"
      ]
     },
     "metadata": {},
     "output_type": "display_data"
    },
    {
     "name": "stdout",
     "output_type": "stream",
     "text": [
      "Training Loss: 0.9841535690656483\n",
      "Training Accuracy: 0.6336551899377462\n"
     ]
    },
    {
     "data": {
      "application/vnd.jupyter.widget-view+json": {
       "model_id": "c80945d0c1ae46ed91c587bfd40bf5e2",
       "version_major": 2,
       "version_minor": 0
      },
      "text/plain": [
       "HBox(children=(HTML(value='Testing Batches'), FloatProgress(value=0.0, max=7754.0), HTML(value='')))"
      ]
     },
     "metadata": {},
     "output_type": "display_data"
    },
    {
     "name": "stdout",
     "output_type": "stream",
     "text": [
      "Testing Loss: 1.0623916818006263\n",
      "Testing Accuracy: 0.6118132576734588\n"
     ]
    },
    {
     "data": {
      "application/vnd.jupyter.widget-view+json": {
       "model_id": "6392e3609f6b47e48b0a691bbd4f06ab",
       "version_major": 2,
       "version_minor": 0
      },
      "text/plain": [
       "HBox(children=(HTML(value='Training Batches'), FloatProgress(value=0.0, max=15742.0), HTML(value='')))"
      ]
     },
     "metadata": {},
     "output_type": "display_data"
    },
    {
     "name": "stdout",
     "output_type": "stream",
     "text": [
      "Training Loss: 0.9807129939395798\n",
      "Training Accuracy: 0.6348621522042942\n"
     ]
    },
    {
     "data": {
      "application/vnd.jupyter.widget-view+json": {
       "model_id": "92364470a1bb4002b050a8b2f7e4d9c0",
       "version_major": 2,
       "version_minor": 0
      },
      "text/plain": [
       "HBox(children=(HTML(value='Testing Batches'), FloatProgress(value=0.0, max=7754.0), HTML(value='')))"
      ]
     },
     "metadata": {},
     "output_type": "display_data"
    },
    {
     "name": "stdout",
     "output_type": "stream",
     "text": [
      "Testing Loss: 1.0632006453876202\n",
      "Testing Accuracy: 0.610652566417333\n"
     ]
    },
    {
     "data": {
      "application/vnd.jupyter.widget-view+json": {
       "model_id": "dab71621a7c541b1a74f5dd6944c57b0",
       "version_major": 2,
       "version_minor": 0
      },
      "text/plain": [
       "HBox(children=(HTML(value='Training Batches'), FloatProgress(value=0.0, max=15742.0), HTML(value='')))"
      ]
     },
     "metadata": {},
     "output_type": "display_data"
    },
    {
     "name": "stdout",
     "output_type": "stream",
     "text": [
      "\n"
     ]
    },
    {
     "name": "stderr",
     "output_type": "stream",
     "text": [
      "ERROR:root:Internal Python error in the inspect module.\n",
      "Below is the traceback from this internal error.\n",
      "\n"
     ]
    },
    {
     "name": "stdout",
     "output_type": "stream",
     "text": [
      "Traceback (most recent call last):\n",
      "  File \"/usr/local/Cellar/jupyterlab/2.2.8/libexec/lib/python3.8/site-packages/IPython/core/interactiveshell.py\", line 3417, in run_code\n",
      "    exec(code_obj, self.user_global_ns, self.user_ns)\n",
      "  File \"<ipython-input-304-78b7d3ae4fb4>\", line 3, in <module>\n",
      "    train_and_evaluate(30, model, train_dataloader, test_dataloader)\n",
      "  File \"<ipython-input-303-b6dbae115759>\", line 72, in train_and_evaluate\n",
      "    train_epoch(model, train_loader, optimizer)\n",
      "  File \"<ipython-input-303-b6dbae115759>\", line 42, in train_epoch\n",
      "    loss.backward()\n",
      "  File \"/usr/local/Cellar/jupyterlab/2.2.8/libexec/lib/python3.8/site-packages/torch/tensor.py\", line 221, in backward\n",
      "    torch.autograd.backward(self, gradient, retain_graph, create_graph)\n",
      "  File \"/usr/local/Cellar/jupyterlab/2.2.8/libexec/lib/python3.8/site-packages/torch/autograd/__init__.py\", line 130, in backward\n",
      "    Variable._execution_engine.run_backward(\n",
      "KeyboardInterrupt\n",
      "\n",
      "During handling of the above exception, another exception occurred:\n",
      "\n",
      "Traceback (most recent call last):\n",
      "  File \"/usr/local/Cellar/jupyterlab/2.2.8/libexec/lib/python3.8/site-packages/IPython/core/interactiveshell.py\", line 2044, in showtraceback\n",
      "    stb = value._render_traceback_()\n",
      "AttributeError: 'KeyboardInterrupt' object has no attribute '_render_traceback_'\n",
      "\n",
      "During handling of the above exception, another exception occurred:\n",
      "\n",
      "Traceback (most recent call last):\n",
      "  File \"/usr/local/Cellar/jupyterlab/2.2.8/libexec/lib/python3.8/site-packages/IPython/core/ultratb.py\", line 1169, in get_records\n",
      "    return _fixed_getinnerframes(etb, number_of_lines_of_context, tb_offset)\n",
      "  File \"/usr/local/Cellar/jupyterlab/2.2.8/libexec/lib/python3.8/site-packages/IPython/core/ultratb.py\", line 316, in wrapped\n",
      "    return f(*args, **kwargs)\n",
      "  File \"/usr/local/Cellar/jupyterlab/2.2.8/libexec/lib/python3.8/site-packages/IPython/core/ultratb.py\", line 350, in _fixed_getinnerframes\n",
      "    records = fix_frame_records_filenames(inspect.getinnerframes(etb, context))\n",
      "  File \"/usr/local/opt/python@3.8/Frameworks/Python.framework/Versions/3.8/lib/python3.8/inspect.py\", line 1503, in getinnerframes\n",
      "    frameinfo = (tb.tb_frame,) + getframeinfo(tb, context)\n",
      "  File \"/usr/local/opt/python@3.8/Frameworks/Python.framework/Versions/3.8/lib/python3.8/inspect.py\", line 1461, in getframeinfo\n",
      "    filename = getsourcefile(frame) or getfile(frame)\n",
      "  File \"/usr/local/opt/python@3.8/Frameworks/Python.framework/Versions/3.8/lib/python3.8/inspect.py\", line 708, in getsourcefile\n",
      "    if getattr(getmodule(object, filename), '__loader__', None) is not None:\n",
      "  File \"/usr/local/opt/python@3.8/Frameworks/Python.framework/Versions/3.8/lib/python3.8/inspect.py\", line 744, in getmodule\n",
      "    for modname, module in sys.modules.copy().items():\n",
      "KeyboardInterrupt\n"
     ]
    },
    {
     "ename": "TypeError",
     "evalue": "object of type 'NoneType' has no len()",
     "output_type": "error",
     "traceback": [
      "\u001b[0;31m---------------------------------------------------------------------------\u001b[0m",
      "\u001b[0;31mKeyboardInterrupt\u001b[0m                         Traceback (most recent call last)",
      "    \u001b[0;31m[... skipping hidden 1 frame]\u001b[0m\n",
      "\u001b[0;32m<ipython-input-304-78b7d3ae4fb4>\u001b[0m in \u001b[0;36m<module>\u001b[0;34m\u001b[0m\n\u001b[1;32m      2\u001b[0m \u001b[0mmodel\u001b[0m \u001b[0;34m=\u001b[0m \u001b[0mFFNN\u001b[0m\u001b[0;34m(\u001b[0m\u001b[0;36m72\u001b[0m\u001b[0;34m,\u001b[0m \u001b[0mh\u001b[0m\u001b[0;34m,\u001b[0m \u001b[0moutput_dim\u001b[0m\u001b[0;34m)\u001b[0m \u001b[0;31m# 72 is num of features\u001b[0m\u001b[0;34m\u001b[0m\u001b[0;34m\u001b[0m\u001b[0m\n\u001b[0;32m----> 3\u001b[0;31m \u001b[0mtrain_and_evaluate\u001b[0m\u001b[0;34m(\u001b[0m\u001b[0;36m30\u001b[0m\u001b[0;34m,\u001b[0m \u001b[0mmodel\u001b[0m\u001b[0;34m,\u001b[0m \u001b[0mtrain_dataloader\u001b[0m\u001b[0;34m,\u001b[0m \u001b[0mtest_dataloader\u001b[0m\u001b[0;34m)\u001b[0m\u001b[0;34m\u001b[0m\u001b[0;34m\u001b[0m\u001b[0m\n\u001b[0m",
      "\u001b[0;32m<ipython-input-303-b6dbae115759>\u001b[0m in \u001b[0;36mtrain_and_evaluate\u001b[0;34m(number_of_epochs, model, train_loader, val_loader)\u001b[0m\n\u001b[1;32m     71\u001b[0m     \u001b[0;32mfor\u001b[0m \u001b[0mepoch\u001b[0m \u001b[0;32min\u001b[0m \u001b[0mtrange\u001b[0m\u001b[0;34m(\u001b[0m\u001b[0mnumber_of_epochs\u001b[0m\u001b[0;34m,\u001b[0m \u001b[0mdesc\u001b[0m\u001b[0;34m=\u001b[0m\u001b[0;34m\"Epochs\"\u001b[0m\u001b[0;34m)\u001b[0m\u001b[0;34m:\u001b[0m\u001b[0;34m\u001b[0m\u001b[0;34m\u001b[0m\u001b[0m\n\u001b[0;32m---> 72\u001b[0;31m         \u001b[0mtrain_epoch\u001b[0m\u001b[0;34m(\u001b[0m\u001b[0mmodel\u001b[0m\u001b[0;34m,\u001b[0m \u001b[0mtrain_loader\u001b[0m\u001b[0;34m,\u001b[0m \u001b[0moptimizer\u001b[0m\u001b[0;34m)\u001b[0m\u001b[0;34m\u001b[0m\u001b[0;34m\u001b[0m\u001b[0m\n\u001b[0m\u001b[1;32m     73\u001b[0m         \u001b[0mevaluation\u001b[0m\u001b[0;34m(\u001b[0m\u001b[0mmodel\u001b[0m\u001b[0;34m,\u001b[0m \u001b[0mval_loader\u001b[0m\u001b[0;34m,\u001b[0m \u001b[0moptimizer\u001b[0m\u001b[0;34m)\u001b[0m\u001b[0;34m\u001b[0m\u001b[0;34m\u001b[0m\u001b[0m\n",
      "\u001b[0;32m<ipython-input-303-b6dbae115759>\u001b[0m in \u001b[0;36mtrain_epoch\u001b[0;34m(model, train_loader, optimizer)\u001b[0m\n\u001b[1;32m     41\u001b[0m         \u001b[0macc\u001b[0m \u001b[0;34m=\u001b[0m \u001b[0mpredicted\u001b[0m\u001b[0;34m.\u001b[0m\u001b[0msqueeze\u001b[0m\u001b[0;34m(\u001b[0m\u001b[0;36m1\u001b[0m\u001b[0;34m)\u001b[0m\u001b[0;34m.\u001b[0m\u001b[0meq\u001b[0m\u001b[0;34m(\u001b[0m\u001b[0mexpected_out\u001b[0m\u001b[0;34m)\u001b[0m\u001b[0;34m.\u001b[0m\u001b[0msum\u001b[0m\u001b[0;34m(\u001b[0m\u001b[0;34m)\u001b[0m\u001b[0;34m/\u001b[0m\u001b[0mlen\u001b[0m\u001b[0;34m(\u001b[0m\u001b[0mexpected_out\u001b[0m\u001b[0;34m)\u001b[0m\u001b[0;34m\u001b[0m\u001b[0;34m\u001b[0m\u001b[0m\n\u001b[0;32m---> 42\u001b[0;31m         \u001b[0mloss\u001b[0m\u001b[0;34m.\u001b[0m\u001b[0mbackward\u001b[0m\u001b[0;34m(\u001b[0m\u001b[0;34m)\u001b[0m\u001b[0;34m\u001b[0m\u001b[0;34m\u001b[0m\u001b[0m\n\u001b[0m\u001b[1;32m     43\u001b[0m         \u001b[0moptimizer\u001b[0m\u001b[0;34m.\u001b[0m\u001b[0mstep\u001b[0m\u001b[0;34m(\u001b[0m\u001b[0;34m)\u001b[0m\u001b[0;34m\u001b[0m\u001b[0;34m\u001b[0m\u001b[0m\n",
      "\u001b[0;32m/usr/local/Cellar/jupyterlab/2.2.8/libexec/lib/python3.8/site-packages/torch/tensor.py\u001b[0m in \u001b[0;36mbackward\u001b[0;34m(self, gradient, retain_graph, create_graph)\u001b[0m\n\u001b[1;32m    220\u001b[0m                 create_graph=create_graph)\n\u001b[0;32m--> 221\u001b[0;31m         \u001b[0mtorch\u001b[0m\u001b[0;34m.\u001b[0m\u001b[0mautograd\u001b[0m\u001b[0;34m.\u001b[0m\u001b[0mbackward\u001b[0m\u001b[0;34m(\u001b[0m\u001b[0mself\u001b[0m\u001b[0;34m,\u001b[0m \u001b[0mgradient\u001b[0m\u001b[0;34m,\u001b[0m \u001b[0mretain_graph\u001b[0m\u001b[0;34m,\u001b[0m \u001b[0mcreate_graph\u001b[0m\u001b[0;34m)\u001b[0m\u001b[0;34m\u001b[0m\u001b[0;34m\u001b[0m\u001b[0m\n\u001b[0m\u001b[1;32m    222\u001b[0m \u001b[0;34m\u001b[0m\u001b[0m\n",
      "\u001b[0;32m/usr/local/Cellar/jupyterlab/2.2.8/libexec/lib/python3.8/site-packages/torch/autograd/__init__.py\u001b[0m in \u001b[0;36mbackward\u001b[0;34m(tensors, grad_tensors, retain_graph, create_graph, grad_variables)\u001b[0m\n\u001b[1;32m    129\u001b[0m \u001b[0;34m\u001b[0m\u001b[0m\n\u001b[0;32m--> 130\u001b[0;31m     Variable._execution_engine.run_backward(\n\u001b[0m\u001b[1;32m    131\u001b[0m         \u001b[0mtensors\u001b[0m\u001b[0;34m,\u001b[0m \u001b[0mgrad_tensors_\u001b[0m\u001b[0;34m,\u001b[0m \u001b[0mretain_graph\u001b[0m\u001b[0;34m,\u001b[0m \u001b[0mcreate_graph\u001b[0m\u001b[0;34m,\u001b[0m\u001b[0;34m\u001b[0m\u001b[0;34m\u001b[0m\u001b[0m\n",
      "\u001b[0;31mKeyboardInterrupt\u001b[0m: ",
      "\nDuring handling of the above exception, another exception occurred:\n",
      "\u001b[0;31mAttributeError\u001b[0m                            Traceback (most recent call last)",
      "\u001b[0;32m/usr/local/Cellar/jupyterlab/2.2.8/libexec/lib/python3.8/site-packages/IPython/core/interactiveshell.py\u001b[0m in \u001b[0;36mshowtraceback\u001b[0;34m(self, exc_tuple, filename, tb_offset, exception_only, running_compiled_code)\u001b[0m\n\u001b[1;32m   2043\u001b[0m                         \u001b[0;31m# in the engines. This should return a list of strings.\u001b[0m\u001b[0;34m\u001b[0m\u001b[0;34m\u001b[0m\u001b[0;34m\u001b[0m\u001b[0m\n\u001b[0;32m-> 2044\u001b[0;31m                         \u001b[0mstb\u001b[0m \u001b[0;34m=\u001b[0m \u001b[0mvalue\u001b[0m\u001b[0;34m.\u001b[0m\u001b[0m_render_traceback_\u001b[0m\u001b[0;34m(\u001b[0m\u001b[0;34m)\u001b[0m\u001b[0;34m\u001b[0m\u001b[0;34m\u001b[0m\u001b[0m\n\u001b[0m\u001b[1;32m   2045\u001b[0m                     \u001b[0;32mexcept\u001b[0m \u001b[0mException\u001b[0m\u001b[0;34m:\u001b[0m\u001b[0;34m\u001b[0m\u001b[0;34m\u001b[0m\u001b[0m\n",
      "\u001b[0;31mAttributeError\u001b[0m: 'KeyboardInterrupt' object has no attribute '_render_traceback_'",
      "\nDuring handling of the above exception, another exception occurred:\n",
      "\u001b[0;31mTypeError\u001b[0m                                 Traceback (most recent call last)",
      "    \u001b[0;31m[... skipping hidden 1 frame]\u001b[0m\n",
      "\u001b[0;32m/usr/local/Cellar/jupyterlab/2.2.8/libexec/lib/python3.8/site-packages/IPython/core/interactiveshell.py\u001b[0m in \u001b[0;36mshowtraceback\u001b[0;34m(self, exc_tuple, filename, tb_offset, exception_only, running_compiled_code)\u001b[0m\n\u001b[1;32m   2044\u001b[0m                         \u001b[0mstb\u001b[0m \u001b[0;34m=\u001b[0m \u001b[0mvalue\u001b[0m\u001b[0;34m.\u001b[0m\u001b[0m_render_traceback_\u001b[0m\u001b[0;34m(\u001b[0m\u001b[0;34m)\u001b[0m\u001b[0;34m\u001b[0m\u001b[0;34m\u001b[0m\u001b[0m\n\u001b[1;32m   2045\u001b[0m                     \u001b[0;32mexcept\u001b[0m \u001b[0mException\u001b[0m\u001b[0;34m:\u001b[0m\u001b[0;34m\u001b[0m\u001b[0;34m\u001b[0m\u001b[0m\n\u001b[0;32m-> 2046\u001b[0;31m                         stb = self.InteractiveTB.structured_traceback(etype,\n\u001b[0m\u001b[1;32m   2047\u001b[0m                                             value, tb, tb_offset=tb_offset)\n\u001b[1;32m   2048\u001b[0m \u001b[0;34m\u001b[0m\u001b[0m\n",
      "\u001b[0;32m/usr/local/Cellar/jupyterlab/2.2.8/libexec/lib/python3.8/site-packages/IPython/core/ultratb.py\u001b[0m in \u001b[0;36mstructured_traceback\u001b[0;34m(self, etype, value, tb, tb_offset, number_of_lines_of_context)\u001b[0m\n\u001b[1;32m   1433\u001b[0m         \u001b[0;32melse\u001b[0m\u001b[0;34m:\u001b[0m\u001b[0;34m\u001b[0m\u001b[0;34m\u001b[0m\u001b[0m\n\u001b[1;32m   1434\u001b[0m             \u001b[0mself\u001b[0m\u001b[0;34m.\u001b[0m\u001b[0mtb\u001b[0m \u001b[0;34m=\u001b[0m \u001b[0mtb\u001b[0m\u001b[0;34m\u001b[0m\u001b[0;34m\u001b[0m\u001b[0m\n\u001b[0;32m-> 1435\u001b[0;31m         return FormattedTB.structured_traceback(\n\u001b[0m\u001b[1;32m   1436\u001b[0m             self, etype, value, tb, tb_offset, number_of_lines_of_context)\n\u001b[1;32m   1437\u001b[0m \u001b[0;34m\u001b[0m\u001b[0m\n",
      "\u001b[0;32m/usr/local/Cellar/jupyterlab/2.2.8/libexec/lib/python3.8/site-packages/IPython/core/ultratb.py\u001b[0m in \u001b[0;36mstructured_traceback\u001b[0;34m(self, etype, value, tb, tb_offset, number_of_lines_of_context)\u001b[0m\n\u001b[1;32m   1333\u001b[0m         \u001b[0;32mif\u001b[0m \u001b[0mmode\u001b[0m \u001b[0;32min\u001b[0m \u001b[0mself\u001b[0m\u001b[0;34m.\u001b[0m\u001b[0mverbose_modes\u001b[0m\u001b[0;34m:\u001b[0m\u001b[0;34m\u001b[0m\u001b[0;34m\u001b[0m\u001b[0m\n\u001b[1;32m   1334\u001b[0m             \u001b[0;31m# Verbose modes need a full traceback\u001b[0m\u001b[0;34m\u001b[0m\u001b[0;34m\u001b[0m\u001b[0;34m\u001b[0m\u001b[0m\n\u001b[0;32m-> 1335\u001b[0;31m             return VerboseTB.structured_traceback(\n\u001b[0m\u001b[1;32m   1336\u001b[0m                 \u001b[0mself\u001b[0m\u001b[0;34m,\u001b[0m \u001b[0metype\u001b[0m\u001b[0;34m,\u001b[0m \u001b[0mvalue\u001b[0m\u001b[0;34m,\u001b[0m \u001b[0mtb\u001b[0m\u001b[0;34m,\u001b[0m \u001b[0mtb_offset\u001b[0m\u001b[0;34m,\u001b[0m \u001b[0mnumber_of_lines_of_context\u001b[0m\u001b[0;34m\u001b[0m\u001b[0;34m\u001b[0m\u001b[0m\n\u001b[1;32m   1337\u001b[0m             )\n",
      "\u001b[0;32m/usr/local/Cellar/jupyterlab/2.2.8/libexec/lib/python3.8/site-packages/IPython/core/ultratb.py\u001b[0m in \u001b[0;36mstructured_traceback\u001b[0;34m(self, etype, evalue, etb, tb_offset, number_of_lines_of_context)\u001b[0m\n\u001b[1;32m   1190\u001b[0m         \u001b[0;34m\"\"\"Return a nice text document describing the traceback.\"\"\"\u001b[0m\u001b[0;34m\u001b[0m\u001b[0;34m\u001b[0m\u001b[0m\n\u001b[1;32m   1191\u001b[0m \u001b[0;34m\u001b[0m\u001b[0m\n\u001b[0;32m-> 1192\u001b[0;31m         formatted_exception = self.format_exception_as_a_whole(etype, evalue, etb, number_of_lines_of_context,\n\u001b[0m\u001b[1;32m   1193\u001b[0m                                                                tb_offset)\n\u001b[1;32m   1194\u001b[0m \u001b[0;34m\u001b[0m\u001b[0m\n",
      "\u001b[0;32m/usr/local/Cellar/jupyterlab/2.2.8/libexec/lib/python3.8/site-packages/IPython/core/ultratb.py\u001b[0m in \u001b[0;36mformat_exception_as_a_whole\u001b[0;34m(self, etype, evalue, etb, number_of_lines_of_context, tb_offset)\u001b[0m\n\u001b[1;32m   1148\u001b[0m \u001b[0;34m\u001b[0m\u001b[0m\n\u001b[1;32m   1149\u001b[0m \u001b[0;34m\u001b[0m\u001b[0m\n\u001b[0;32m-> 1150\u001b[0;31m         \u001b[0mlast_unique\u001b[0m\u001b[0;34m,\u001b[0m \u001b[0mrecursion_repeat\u001b[0m \u001b[0;34m=\u001b[0m \u001b[0mfind_recursion\u001b[0m\u001b[0;34m(\u001b[0m\u001b[0morig_etype\u001b[0m\u001b[0;34m,\u001b[0m \u001b[0mevalue\u001b[0m\u001b[0;34m,\u001b[0m \u001b[0mrecords\u001b[0m\u001b[0;34m)\u001b[0m\u001b[0;34m\u001b[0m\u001b[0;34m\u001b[0m\u001b[0m\n\u001b[0m\u001b[1;32m   1151\u001b[0m \u001b[0;34m\u001b[0m\u001b[0m\n\u001b[1;32m   1152\u001b[0m         \u001b[0mframes\u001b[0m \u001b[0;34m=\u001b[0m \u001b[0mself\u001b[0m\u001b[0;34m.\u001b[0m\u001b[0mformat_records\u001b[0m\u001b[0;34m(\u001b[0m\u001b[0mrecords\u001b[0m\u001b[0;34m,\u001b[0m \u001b[0mlast_unique\u001b[0m\u001b[0;34m,\u001b[0m \u001b[0mrecursion_repeat\u001b[0m\u001b[0;34m)\u001b[0m\u001b[0;34m\u001b[0m\u001b[0;34m\u001b[0m\u001b[0m\n",
      "\u001b[0;32m/usr/local/Cellar/jupyterlab/2.2.8/libexec/lib/python3.8/site-packages/IPython/core/ultratb.py\u001b[0m in \u001b[0;36mfind_recursion\u001b[0;34m(etype, value, records)\u001b[0m\n\u001b[1;32m    449\u001b[0m     \u001b[0;31m# first frame (from in to out) that looks different.\u001b[0m\u001b[0;34m\u001b[0m\u001b[0;34m\u001b[0m\u001b[0;34m\u001b[0m\u001b[0m\n\u001b[1;32m    450\u001b[0m     \u001b[0;32mif\u001b[0m \u001b[0;32mnot\u001b[0m \u001b[0mis_recursion_error\u001b[0m\u001b[0;34m(\u001b[0m\u001b[0metype\u001b[0m\u001b[0;34m,\u001b[0m \u001b[0mvalue\u001b[0m\u001b[0;34m,\u001b[0m \u001b[0mrecords\u001b[0m\u001b[0;34m)\u001b[0m\u001b[0;34m:\u001b[0m\u001b[0;34m\u001b[0m\u001b[0;34m\u001b[0m\u001b[0m\n\u001b[0;32m--> 451\u001b[0;31m         \u001b[0;32mreturn\u001b[0m \u001b[0mlen\u001b[0m\u001b[0;34m(\u001b[0m\u001b[0mrecords\u001b[0m\u001b[0;34m)\u001b[0m\u001b[0;34m,\u001b[0m \u001b[0;36m0\u001b[0m\u001b[0;34m\u001b[0m\u001b[0;34m\u001b[0m\u001b[0m\n\u001b[0m\u001b[1;32m    452\u001b[0m \u001b[0;34m\u001b[0m\u001b[0m\n\u001b[1;32m    453\u001b[0m     \u001b[0;31m# Select filename, lineno, func_name to track frames with\u001b[0m\u001b[0;34m\u001b[0m\u001b[0;34m\u001b[0m\u001b[0;34m\u001b[0m\u001b[0m\n",
      "\u001b[0;31mTypeError\u001b[0m: object of type 'NoneType' has no len()"
     ]
    }
   ],
   "source": [
    "h = 120\n",
    "model = FFNN(72, h, output_dim) # 72 is num of features\n",
    "train_and_evaluate(30, model, train_dataloader, test_dataloader)"
   ]
  },
  {
   "cell_type": "markdown",
   "metadata": {},
   "source": [
    "# Decision Tree Classifier"
   ]
  },
  {
   "cell_type": "code",
   "execution_count": 305,
   "metadata": {},
   "outputs": [],
   "source": [
    "X_train, X_test, y_train, y_test = train_test_split(\n",
    "    X, y, test_size=0.33, random_state=42)"
   ]
  },
  {
   "cell_type": "code",
   "execution_count": 310,
   "metadata": {},
   "outputs": [
    {
     "name": "stdout",
     "output_type": "stream",
     "text": [
      "Accuracy: 0.9497522551137085\n",
      "Accuracy: 0.7317513541397989\n"
     ]
    }
   ],
   "source": [
    "from sklearn.tree import DecisionTreeClassifier\n",
    "from sklearn import metrics\n",
    "from sklearn.model_selection import cross_val_score\n",
    "\n",
    "# Create Decision Tree classifer object\n",
    "clf = DecisionTreeClassifier(class_weight=None, criterion='gini', max_depth=None,\n",
    "            max_features=None, max_leaf_nodes=2900,\n",
    "            min_impurity_decrease=1e-07, min_samples_leaf=1,\n",
    "            min_samples_split=2, min_weight_fraction_leaf=0.0,\n",
    "            random_state=None, splitter='best')\n",
    "# Train Decision Tree Classifer\n",
    "clf = clf.fit(X_train,y_train)\n",
    "y_pred = clf.predict(X_train)\n",
    "print(\"Accuracy:\", metrics.accuracy_score(y_train, y_pred))\n",
    "y_pred = clf.predict(X_test)\n",
    "print(\"Accuracy:\", metrics.accuracy_score(y_test, y_pred))"
   ]
  },
  {
   "cell_type": "markdown",
   "metadata": {},
   "source": [
    "# Random Forest Classifier"
   ]
  },
  {
   "cell_type": "code",
   "execution_count": 302,
   "metadata": {
    "scrolled": true
   },
   "outputs": [
    {
     "name": "stdout",
     "output_type": "stream",
     "text": [
      "Accuracy: 0.9320924914242155\n",
      "Accuracy: 0.7717307196285788\n"
     ]
    }
   ],
   "source": [
    "from sklearn.ensemble import RandomForestClassifier\n",
    "clf = RandomForestClassifier(class_weight=None, criterion='entropy', max_depth=None,\n",
    "            max_features=None, max_leaf_nodes=1600,\n",
    "            min_samples_leaf=1,\n",
    "            min_samples_split=2, min_weight_fraction_leaf=0.0,\n",
    "            random_state=None)\n",
    "# Train Decision Tree Classifer\n",
    "clf = clf.fit(X_train,y_train)\n",
    "y_pred = clf.predict(X_train)\n",
    "print(\"Accuracy:\", metrics.accuracy_score(y_train, y_pred))\n",
    "y_pred = clf.predict(X_test)\n",
    "print(\"Accuracy:\", metrics.accuracy_score(y_test, y_pred))"
   ]
  }
 ],
 "metadata": {
  "kernelspec": {
   "display_name": "Python 3",
   "language": "python",
   "name": "python3"
  },
  "language_info": {
   "codemirror_mode": {
    "name": "ipython",
    "version": 3
   },
   "file_extension": ".py",
   "mimetype": "text/x-python",
   "name": "python",
   "nbconvert_exporter": "python",
   "pygments_lexer": "ipython3",
   "version": "3.8.5"
  }
 },
 "nbformat": 4,
 "nbformat_minor": 4
}
