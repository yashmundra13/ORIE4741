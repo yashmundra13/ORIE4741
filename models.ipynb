{
 "cells": [
  {
   "cell_type": "code",
   "execution_count": 1,
   "metadata": {},
   "outputs": [],
   "source": [
    "%matplotlib inline\n",
    "import matplotlib.pyplot as plt\n",
    "import sys\n",
    "import numpy as np\n",
    "import pandas as pd\n",
    "import matplotlib"
   ]
  },
  {
   "cell_type": "code",
   "execution_count": 2,
   "metadata": {},
   "outputs": [
    {
     "data": {
      "text/html": [
       "<div>\n",
       "<style scoped>\n",
       "    .dataframe tbody tr th:only-of-type {\n",
       "        vertical-align: middle;\n",
       "    }\n",
       "\n",
       "    .dataframe tbody tr th {\n",
       "        vertical-align: top;\n",
       "    }\n",
       "\n",
       "    .dataframe thead th {\n",
       "        text-align: right;\n",
       "    }\n",
       "</style>\n",
       "<table border=\"1\" class=\"dataframe\">\n",
       "  <thead>\n",
       "    <tr style=\"text-align: right;\">\n",
       "      <th></th>\n",
       "      <th>Unnamed: 0</th>\n",
       "      <th>level_0</th>\n",
       "      <th>CollectionDate</th>\n",
       "      <th>FacilityID</th>\n",
       "      <th>State</th>\n",
       "      <th>ContaminantCount</th>\n",
       "      <th>index</th>\n",
       "      <th>FacilityWaterType</th>\n",
       "      <th>Zip</th>\n",
       "      <th>LatitudePWS</th>\n",
       "      <th>...</th>\n",
       "      <th>PercentHighAdditive</th>\n",
       "      <th>PercentHFJob</th>\n",
       "      <th>IngredientName</th>\n",
       "      <th>Purpose</th>\n",
       "      <th>Supplier</th>\n",
       "      <th>JobDuration</th>\n",
       "      <th>TotalBaseWaterVolume</th>\n",
       "      <th>TotalBaseNonWaterVolume</th>\n",
       "      <th>distance_nearest</th>\n",
       "      <th>distance_20_nearest</th>\n",
       "    </tr>\n",
       "  </thead>\n",
       "  <tbody>\n",
       "    <tr>\n",
       "      <th>1</th>\n",
       "      <td>1</td>\n",
       "      <td>13420</td>\n",
       "      <td>2014-02-06</td>\n",
       "      <td>1</td>\n",
       "      <td>CA</td>\n",
       "      <td>28</td>\n",
       "      <td>67540</td>\n",
       "      <td>SW</td>\n",
       "      <td>91802</td>\n",
       "      <td>33.786594</td>\n",
       "      <td>...</td>\n",
       "      <td>30.000000</td>\n",
       "      <td>1.729810</td>\n",
       "      <td>('Ethoxylated Alcohol', 'Sodium Aryl Sulfonate...</td>\n",
       "      <td>('Surfactant', 'Non-emulsifier', 'Scale Inhibi...</td>\n",
       "      <td>('Baker Hughes', 'Other Chemicals', 'Operator')</td>\n",
       "      <td>1.0</td>\n",
       "      <td>287133.0</td>\n",
       "      <td>0.0</td>\n",
       "      <td>11.066041</td>\n",
       "      <td>11.722878</td>\n",
       "    </tr>\n",
       "    <tr>\n",
       "      <th>4</th>\n",
       "      <td>4</td>\n",
       "      <td>13423</td>\n",
       "      <td>2014-02-06</td>\n",
       "      <td>1</td>\n",
       "      <td>FL</td>\n",
       "      <td>28</td>\n",
       "      <td>89596</td>\n",
       "      <td>GW</td>\n",
       "      <td>32353</td>\n",
       "      <td>30.549676</td>\n",
       "      <td>...</td>\n",
       "      <td>36.573585</td>\n",
       "      <td>1.897712</td>\n",
       "      <td>('Aluminum Oxide', 'Ethylene Glycol', 'Ethoxyl...</td>\n",
       "      <td>('Cross-linkers', 'Bulk Acid', 'Acid Corrosion...</td>\n",
       "      <td>('SAGA PETROLEUM', 'Nabors Completion and Prod...</td>\n",
       "      <td>0.0</td>\n",
       "      <td>53000.0</td>\n",
       "      <td>0.0</td>\n",
       "      <td>4.053320</td>\n",
       "      <td>7.282085</td>\n",
       "    </tr>\n",
       "    <tr>\n",
       "      <th>5</th>\n",
       "      <td>5</td>\n",
       "      <td>13424</td>\n",
       "      <td>2014-02-06</td>\n",
       "      <td>1</td>\n",
       "      <td>MA</td>\n",
       "      <td>21</td>\n",
       "      <td>55442</td>\n",
       "      <td>GW</td>\n",
       "      <td>1720</td>\n",
       "      <td>42.477142</td>\n",
       "      <td>...</td>\n",
       "      <td>27.013514</td>\n",
       "      <td>2.688290</td>\n",
       "      <td>('Hydrochloric Acid', 'Alcohol Ethoxylate', 'C...</td>\n",
       "      <td>('Friction Reducer', 'Non-Emulsifier', 'Iron C...</td>\n",
       "      <td>('Chemplex', 'Reagent', 'TSS', 'Rain for Rent')</td>\n",
       "      <td>15.0</td>\n",
       "      <td>12878460.0</td>\n",
       "      <td>0.0</td>\n",
       "      <td>4.174925</td>\n",
       "      <td>4.437170</td>\n",
       "    </tr>\n",
       "    <tr>\n",
       "      <th>6</th>\n",
       "      <td>6</td>\n",
       "      <td>13425</td>\n",
       "      <td>2014-02-06</td>\n",
       "      <td>1</td>\n",
       "      <td>MD</td>\n",
       "      <td>26</td>\n",
       "      <td>50446</td>\n",
       "      <td>SW</td>\n",
       "      <td>21078</td>\n",
       "      <td>39.554644</td>\n",
       "      <td>...</td>\n",
       "      <td>32.940000</td>\n",
       "      <td>2.857143</td>\n",
       "      <td>('Potassium salt of diethylene triamine penta ...</td>\n",
       "      <td>('Bulk Acid', 'Friction Reducer', 'Proppant', ...</td>\n",
       "      <td>('U.S. Well Services, LLC', 'Inflection Energy...</td>\n",
       "      <td>5.0</td>\n",
       "      <td>6132042.0</td>\n",
       "      <td>0.0</td>\n",
       "      <td>1.922339</td>\n",
       "      <td>2.061130</td>\n",
       "    </tr>\n",
       "    <tr>\n",
       "      <th>7</th>\n",
       "      <td>7</td>\n",
       "      <td>13426</td>\n",
       "      <td>2014-02-06</td>\n",
       "      <td>1</td>\n",
       "      <td>MN</td>\n",
       "      <td>21</td>\n",
       "      <td>39511</td>\n",
       "      <td>SW</td>\n",
       "      <td>55427</td>\n",
       "      <td>45.006764</td>\n",
       "      <td>...</td>\n",
       "      <td>23.654167</td>\n",
       "      <td>4.147837</td>\n",
       "      <td>('Alkyl amine salts', '2,2-dibromo-3-nitrilopr...</td>\n",
       "      <td>('Scale Inhibitor', 'Flowback Enhancer', 'Othe...</td>\n",
       "      <td>(nan, 'Trican', 'Customer')</td>\n",
       "      <td>1.0</td>\n",
       "      <td>90509.0</td>\n",
       "      <td>0.0</td>\n",
       "      <td>8.230094</td>\n",
       "      <td>8.549826</td>\n",
       "    </tr>\n",
       "  </tbody>\n",
       "</table>\n",
       "<p>5 rows × 28 columns</p>\n",
       "</div>"
      ],
      "text/plain": [
       "   Unnamed: 0  level_0 CollectionDate  FacilityID State  ContaminantCount  \\\n",
       "1           1    13420     2014-02-06           1    CA                28   \n",
       "4           4    13423     2014-02-06           1    FL                28   \n",
       "5           5    13424     2014-02-06           1    MA                21   \n",
       "6           6    13425     2014-02-06           1    MD                26   \n",
       "7           7    13426     2014-02-06           1    MN                21   \n",
       "\n",
       "   index FacilityWaterType    Zip  LatitudePWS  ...  PercentHighAdditive  \\\n",
       "1  67540                SW  91802    33.786594  ...            30.000000   \n",
       "4  89596                GW  32353    30.549676  ...            36.573585   \n",
       "5  55442                GW   1720    42.477142  ...            27.013514   \n",
       "6  50446                SW  21078    39.554644  ...            32.940000   \n",
       "7  39511                SW  55427    45.006764  ...            23.654167   \n",
       "\n",
       "   PercentHFJob                                     IngredientName  \\\n",
       "1      1.729810  ('Ethoxylated Alcohol', 'Sodium Aryl Sulfonate...   \n",
       "4      1.897712  ('Aluminum Oxide', 'Ethylene Glycol', 'Ethoxyl...   \n",
       "5      2.688290  ('Hydrochloric Acid', 'Alcohol Ethoxylate', 'C...   \n",
       "6      2.857143  ('Potassium salt of diethylene triamine penta ...   \n",
       "7      4.147837  ('Alkyl amine salts', '2,2-dibromo-3-nitrilopr...   \n",
       "\n",
       "                                             Purpose  \\\n",
       "1  ('Surfactant', 'Non-emulsifier', 'Scale Inhibi...   \n",
       "4  ('Cross-linkers', 'Bulk Acid', 'Acid Corrosion...   \n",
       "5  ('Friction Reducer', 'Non-Emulsifier', 'Iron C...   \n",
       "6  ('Bulk Acid', 'Friction Reducer', 'Proppant', ...   \n",
       "7  ('Scale Inhibitor', 'Flowback Enhancer', 'Othe...   \n",
       "\n",
       "                                            Supplier  JobDuration  \\\n",
       "1    ('Baker Hughes', 'Other Chemicals', 'Operator')          1.0   \n",
       "4  ('SAGA PETROLEUM', 'Nabors Completion and Prod...          0.0   \n",
       "5    ('Chemplex', 'Reagent', 'TSS', 'Rain for Rent')         15.0   \n",
       "6  ('U.S. Well Services, LLC', 'Inflection Energy...          5.0   \n",
       "7                        (nan, 'Trican', 'Customer')          1.0   \n",
       "\n",
       "   TotalBaseWaterVolume TotalBaseNonWaterVolume  distance_nearest  \\\n",
       "1              287133.0                     0.0         11.066041   \n",
       "4               53000.0                     0.0          4.053320   \n",
       "5            12878460.0                     0.0          4.174925   \n",
       "6             6132042.0                     0.0          1.922339   \n",
       "7               90509.0                     0.0          8.230094   \n",
       "\n",
       "   distance_20_nearest  \n",
       "1            11.722878  \n",
       "4             7.282085  \n",
       "5             4.437170  \n",
       "6             2.061130  \n",
       "7             8.549826  \n",
       "\n",
       "[5 rows x 28 columns]"
      ]
     },
     "execution_count": 2,
     "metadata": {},
     "output_type": "execute_result"
    }
   ],
   "source": [
    "df = pd.read_csv(\"data/contamination_fracking.csv\")\n",
    "df.dropna(inplace=True)\n",
    "df = df[~df['State'].apply(lambda x: str(x).isdigit())] # in some cases State is reported as a number\n",
    "df.head()"
   ]
  },
  {
   "cell_type": "code",
   "execution_count": 3,
   "metadata": {},
   "outputs": [
    {
     "name": "stdout",
     "output_type": "stream",
     "text": [
      "Index(['Unnamed: 0', 'level_0', 'CollectionDate', 'FacilityID', 'State',\n",
      "       'ContaminantCount', 'index', 'FacilityWaterType', 'Zip', 'LatitudePWS',\n",
      "       'LongitudePWS', 'IsContaminated', 'SizeBool', 'sampleId', 'geometry',\n",
      "       'LatitudeFracking', 'LongitudeFracking', 'JobEndDate',\n",
      "       'PercentHighAdditive', 'PercentHFJob', 'IngredientName', 'Purpose',\n",
      "       'Supplier', 'JobDuration', 'TotalBaseWaterVolume',\n",
      "       'TotalBaseNonWaterVolume', 'distance_nearest', 'distance_20_nearest'],\n",
      "      dtype='object')\n",
      "(23500, 28)\n",
      "['CA' 'FL' 'MA' 'MD' 'MN' 'NC' 'NE' 'NH' 'NY' 'OR' 'PA' 'TN' 'UT' 'VI'\n",
      " 'VT' 'WA' 'WI' 'CO' 'KS' 'RI' 'ID' 'SD' 'AR' 'HI' 'AZ' 'GA' 'KY' 'IA'\n",
      " 'VA' 'TX' 'NJ' 'NV' 'ME' 'SC' 'ND' 'MT' 'DE' 'WV' 'MI' 'LA' 'NM' 'AL'\n",
      " 'MO' 'IN' 'IL' 'OK' 'CT' 'OH' 'MS' 'AK' 'WY' 'PR' 'NN' 'AS']\n",
      "   State  distance_nearest\n",
      "0     AK         43.885362\n",
      "1     AL          1.196160\n",
      "2     AR          0.666612\n",
      "3     AS         76.471819\n",
      "4     AZ          5.093664\n",
      "5     CA         11.832887\n",
      "6     CO          0.483797\n",
      "7     CT          2.775099\n",
      "8     DE          2.374256\n",
      "9     FL          3.315412\n",
      "10    GA          3.203763\n",
      "11    HI         52.305520\n",
      "12    IA          5.429777\n",
      "13    ID          7.569975\n",
      "14    IL          5.179004\n",
      "15    IN          3.886451\n",
      "16    KS          1.209364\n",
      "17    KY          2.647604\n",
      "18    LA          0.459513\n",
      "19    MA          4.538360\n",
      "20    MD          2.450475\n",
      "21    ME          6.045618\n",
      "22    MI          2.169578\n",
      "23    MN          7.580472\n",
      "24    MO          2.946354\n",
      "25    MS          0.705073\n",
      "26    MT          5.481459\n",
      "27    NC          3.192873\n",
      "28    ND          1.197472\n",
      "29    NE          2.770459\n",
      "30    NH          4.413966\n",
      "31    NJ          1.973726\n",
      "32    NM          1.569373\n",
      "33    NN          1.481827\n",
      "34    NV          8.683717\n",
      "35    NY          2.037760\n",
      "36    OH          1.170404\n",
      "37    OK          0.135534\n",
      "38    OR         14.421287\n",
      "39    PA          1.251935\n",
      "40    PR         24.483054\n",
      "41    RI          4.089484\n",
      "42    SC          3.269189\n",
      "43    SD          3.777504\n",
      "44    TN          2.254735\n",
      "45    TX          0.329704\n",
      "46    UT          4.122218\n",
      "47    VA          2.005762\n",
      "48    VI         25.425856\n",
      "49    VT          3.533867\n",
      "50    WA         14.363558\n",
      "51    WI          6.521274\n",
      "52    WV          0.627035\n",
      "53    WY          0.709107\n",
      "   State  distance_20_nearest\n",
      "0     AK            44.432757\n",
      "1     AL             2.095246\n",
      "2     AR             0.805358\n",
      "3     AS            76.542082\n",
      "4     AZ             5.344833\n",
      "5     CA            11.975857\n",
      "6     CO             0.618675\n",
      "7     CT             2.843761\n",
      "8     DE             2.410810\n",
      "9     FL             4.751905\n",
      "10    GA             3.910582\n",
      "11    HI            52.536322\n",
      "12    IA             5.708892\n",
      "13    ID             7.726491\n",
      "14    IL             6.192649\n",
      "15    IN             4.785900\n",
      "16    KS             1.455098\n",
      "17    KY             3.026489\n",
      "18    LA             1.110913\n",
      "19    MA             4.597928\n",
      "20    MD             2.525107\n",
      "21    ME             6.121446\n",
      "22    MI             3.434299\n",
      "23    MN             7.978717\n",
      "24    MO             3.042346\n",
      "25    MS             1.532365\n",
      "26    MT             5.989156\n",
      "27    NC             3.445412\n",
      "28    ND             1.360546\n",
      "29    NE             3.357402\n",
      "30    NH             4.487309\n",
      "31    NJ             2.021032\n",
      "32    NM             1.761313\n",
      "33    NN             1.584547\n",
      "34    NV             8.782083\n",
      "35    NY             2.109008\n",
      "36    OH             1.445691\n",
      "37    OK             0.301158\n",
      "38    OR            14.530588\n",
      "39    PA             1.328004\n",
      "40    PR            24.723149\n",
      "41    RI             4.139144\n",
      "42    SC             3.695796\n",
      "43    SD             4.060746\n",
      "44    TN             2.730625\n",
      "45    TX             0.548322\n",
      "46    UT             4.160904\n",
      "47    VA             2.273057\n",
      "48    VI            25.526678\n",
      "49    VT             3.602252\n",
      "50    WA            14.657393\n",
      "51    WI             7.855699\n",
      "52    WV             0.803661\n",
      "53    WY             0.827434\n",
      "['AR' 'CO' 'KS' 'LA' 'MS' 'ND' 'NM' 'NN' 'OH' 'OK' 'PA' 'TX' 'WV' 'WY']\n",
      "['AK' 'AL' 'AS' 'AZ' 'CA' 'CT' 'DE' 'FL' 'GA' 'HI' 'IA' 'ID' 'IL' 'IN'\n",
      " 'KY' 'MA' 'MD' 'ME' 'MI' 'MN' 'MO' 'MT' 'NC' 'NE' 'NH' 'NJ' 'NV' 'NY'\n",
      " 'OR' 'PR' 'RI' 'SC' 'SD' 'TN' 'UT' 'VA' 'VI' 'VT' 'WA' 'WI']\n"
     ]
    }
   ],
   "source": [
    "print(df.columns)\n",
    "print(df.shape)\n",
    "print(df.State.unique())\n",
    "print(df.groupby('State', as_index=False)['distance_nearest'].mean())\n",
    "print(df.groupby('State', as_index=False)['distance_20_nearest'].mean())\n",
    "dftmp = df.groupby('State', as_index=False)['distance_20_nearest'].mean()\n",
    "states_common = dftmp[dftmp['distance_20_nearest'] <2 ].State.unique()\n",
    "states_sparse = dftmp[dftmp['distance_20_nearest'] >=2 ].State.unique()\n",
    "print(states_common)\n",
    "print(states_sparse)\n"
   ]
  },
  {
   "cell_type": "code",
   "execution_count": 4,
   "metadata": {},
   "outputs": [
    {
     "name": "stdout",
     "output_type": "stream",
     "text": [
      "(23500, 84)\n"
     ]
    }
   ],
   "source": [
    "from sklearn.preprocessing import OneHotEncoder\n",
    "\n",
    "enc = OneHotEncoder()\n",
    "df_ohe = df.copy()\n",
    "#print(df_ohe.columns)\n",
    "#df_ohe = df_ohe[df_ohe.State.isin(states_common)]\n",
    "#print(type(df_ohe))\n",
    "for col in ['FacilityWaterType','State']:\n",
    "    ohe = pd.get_dummies(df_ohe[col], prefix='{}'.format(col))\n",
    "    df_ohe = df_ohe.drop(col, 1) # drop the column that we are OHE-ing\n",
    "    df_ohe = pd.concat([df_ohe.reset_index(drop=True), ohe.reset_index(drop=True)], axis=1)\n",
    "print(df_ohe.shape)"
   ]
  },
  {
   "cell_type": "code",
   "execution_count": 5,
   "metadata": {},
   "outputs": [
    {
     "name": "stdout",
     "output_type": "stream",
     "text": [
      "Index(['FacilityID', 'ContaminantCount', 'LatitudePWS', 'LongitudePWS',\n",
      "       'IsContaminated', 'SizeBool', 'LatitudeFracking', 'LongitudeFracking',\n",
      "       'PercentHighAdditive', 'PercentHFJob', 'JobDuration',\n",
      "       'TotalBaseWaterVolume', 'TotalBaseNonWaterVolume', 'distance_nearest',\n",
      "       'distance_20_nearest', 'FacilityWaterType_GU', 'FacilityWaterType_GW',\n",
      "       'FacilityWaterType_MX', 'FacilityWaterType_SW', 'State_AK', 'State_AL',\n",
      "       'State_AR', 'State_AS', 'State_AZ', 'State_CA', 'State_CO', 'State_CT',\n",
      "       'State_DE', 'State_FL', 'State_GA', 'State_HI', 'State_IA', 'State_ID',\n",
      "       'State_IL', 'State_IN', 'State_KS', 'State_KY', 'State_LA', 'State_MA',\n",
      "       'State_MD', 'State_ME', 'State_MI', 'State_MN', 'State_MO', 'State_MS',\n",
      "       'State_MT', 'State_NC', 'State_ND', 'State_NE', 'State_NH', 'State_NJ',\n",
      "       'State_NM', 'State_NN', 'State_NV', 'State_NY', 'State_OH', 'State_OK',\n",
      "       'State_OR', 'State_PA', 'State_PR', 'State_RI', 'State_SC', 'State_SD',\n",
      "       'State_TN', 'State_TX', 'State_UT', 'State_VA', 'State_VI', 'State_VT',\n",
      "       'State_WA', 'State_WI', 'State_WV', 'State_WY'],\n",
      "      dtype='object')\n"
     ]
    },
    {
     "data": {
      "text/html": [
       "<div>\n",
       "<style scoped>\n",
       "    .dataframe tbody tr th:only-of-type {\n",
       "        vertical-align: middle;\n",
       "    }\n",
       "\n",
       "    .dataframe tbody tr th {\n",
       "        vertical-align: top;\n",
       "    }\n",
       "\n",
       "    .dataframe thead th {\n",
       "        text-align: right;\n",
       "    }\n",
       "</style>\n",
       "<table border=\"1\" class=\"dataframe\">\n",
       "  <thead>\n",
       "    <tr style=\"text-align: right;\">\n",
       "      <th></th>\n",
       "      <th>FacilityID</th>\n",
       "      <th>ContaminantCount</th>\n",
       "      <th>LatitudePWS</th>\n",
       "      <th>LongitudePWS</th>\n",
       "      <th>IsContaminated</th>\n",
       "      <th>SizeBool</th>\n",
       "      <th>LatitudeFracking</th>\n",
       "      <th>LongitudeFracking</th>\n",
       "      <th>PercentHighAdditive</th>\n",
       "      <th>PercentHFJob</th>\n",
       "      <th>...</th>\n",
       "      <th>State_TN</th>\n",
       "      <th>State_TX</th>\n",
       "      <th>State_UT</th>\n",
       "      <th>State_VA</th>\n",
       "      <th>State_VI</th>\n",
       "      <th>State_VT</th>\n",
       "      <th>State_WA</th>\n",
       "      <th>State_WI</th>\n",
       "      <th>State_WV</th>\n",
       "      <th>State_WY</th>\n",
       "    </tr>\n",
       "  </thead>\n",
       "  <tbody>\n",
       "    <tr>\n",
       "      <th>0</th>\n",
       "      <td>1</td>\n",
       "      <td>28</td>\n",
       "      <td>33.786594</td>\n",
       "      <td>-118.298662</td>\n",
       "      <td>1</td>\n",
       "      <td>0</td>\n",
       "      <td>36.200230</td>\n",
       "      <td>-107.499050</td>\n",
       "      <td>30.000000</td>\n",
       "      <td>1.729810</td>\n",
       "      <td>...</td>\n",
       "      <td>0</td>\n",
       "      <td>0</td>\n",
       "      <td>0</td>\n",
       "      <td>0</td>\n",
       "      <td>0</td>\n",
       "      <td>0</td>\n",
       "      <td>0</td>\n",
       "      <td>0</td>\n",
       "      <td>0</td>\n",
       "      <td>0</td>\n",
       "    </tr>\n",
       "    <tr>\n",
       "      <th>1</th>\n",
       "      <td>1</td>\n",
       "      <td>28</td>\n",
       "      <td>30.549676</td>\n",
       "      <td>-84.606864</td>\n",
       "      <td>0</td>\n",
       "      <td>0</td>\n",
       "      <td>33.406510</td>\n",
       "      <td>-87.482260</td>\n",
       "      <td>36.573585</td>\n",
       "      <td>1.897712</td>\n",
       "      <td>...</td>\n",
       "      <td>0</td>\n",
       "      <td>0</td>\n",
       "      <td>0</td>\n",
       "      <td>0</td>\n",
       "      <td>0</td>\n",
       "      <td>0</td>\n",
       "      <td>0</td>\n",
       "      <td>0</td>\n",
       "      <td>0</td>\n",
       "      <td>0</td>\n",
       "    </tr>\n",
       "    <tr>\n",
       "      <th>2</th>\n",
       "      <td>1</td>\n",
       "      <td>21</td>\n",
       "      <td>42.477142</td>\n",
       "      <td>-71.442200</td>\n",
       "      <td>0</td>\n",
       "      <td>0</td>\n",
       "      <td>41.812000</td>\n",
       "      <td>-75.563800</td>\n",
       "      <td>27.013514</td>\n",
       "      <td>2.688290</td>\n",
       "      <td>...</td>\n",
       "      <td>0</td>\n",
       "      <td>0</td>\n",
       "      <td>0</td>\n",
       "      <td>0</td>\n",
       "      <td>0</td>\n",
       "      <td>0</td>\n",
       "      <td>0</td>\n",
       "      <td>0</td>\n",
       "      <td>0</td>\n",
       "      <td>0</td>\n",
       "    </tr>\n",
       "    <tr>\n",
       "      <th>3</th>\n",
       "      <td>1</td>\n",
       "      <td>26</td>\n",
       "      <td>39.554644</td>\n",
       "      <td>-76.111180</td>\n",
       "      <td>0</td>\n",
       "      <td>0</td>\n",
       "      <td>41.312447</td>\n",
       "      <td>-76.889328</td>\n",
       "      <td>32.940000</td>\n",
       "      <td>2.857143</td>\n",
       "      <td>...</td>\n",
       "      <td>0</td>\n",
       "      <td>0</td>\n",
       "      <td>0</td>\n",
       "      <td>0</td>\n",
       "      <td>0</td>\n",
       "      <td>0</td>\n",
       "      <td>0</td>\n",
       "      <td>0</td>\n",
       "      <td>0</td>\n",
       "      <td>0</td>\n",
       "    </tr>\n",
       "    <tr>\n",
       "      <th>4</th>\n",
       "      <td>1</td>\n",
       "      <td>21</td>\n",
       "      <td>45.006764</td>\n",
       "      <td>-93.382230</td>\n",
       "      <td>0</td>\n",
       "      <td>0</td>\n",
       "      <td>48.960520</td>\n",
       "      <td>-100.600420</td>\n",
       "      <td>23.654167</td>\n",
       "      <td>4.147837</td>\n",
       "      <td>...</td>\n",
       "      <td>0</td>\n",
       "      <td>0</td>\n",
       "      <td>0</td>\n",
       "      <td>0</td>\n",
       "      <td>0</td>\n",
       "      <td>0</td>\n",
       "      <td>0</td>\n",
       "      <td>0</td>\n",
       "      <td>0</td>\n",
       "      <td>0</td>\n",
       "    </tr>\n",
       "  </tbody>\n",
       "</table>\n",
       "<p>5 rows × 73 columns</p>\n",
       "</div>"
      ],
      "text/plain": [
       "   FacilityID  ContaminantCount  LatitudePWS  LongitudePWS  IsContaminated  \\\n",
       "0           1                28    33.786594   -118.298662               1   \n",
       "1           1                28    30.549676    -84.606864               0   \n",
       "2           1                21    42.477142    -71.442200               0   \n",
       "3           1                26    39.554644    -76.111180               0   \n",
       "4           1                21    45.006764    -93.382230               0   \n",
       "\n",
       "   SizeBool  LatitudeFracking  LongitudeFracking  PercentHighAdditive  \\\n",
       "0         0         36.200230        -107.499050            30.000000   \n",
       "1         0         33.406510         -87.482260            36.573585   \n",
       "2         0         41.812000         -75.563800            27.013514   \n",
       "3         0         41.312447         -76.889328            32.940000   \n",
       "4         0         48.960520        -100.600420            23.654167   \n",
       "\n",
       "   PercentHFJob  ...  State_TN  State_TX  State_UT  State_VA  State_VI  \\\n",
       "0      1.729810  ...         0         0         0         0         0   \n",
       "1      1.897712  ...         0         0         0         0         0   \n",
       "2      2.688290  ...         0         0         0         0         0   \n",
       "3      2.857143  ...         0         0         0         0         0   \n",
       "4      4.147837  ...         0         0         0         0         0   \n",
       "\n",
       "   State_VT  State_WA  State_WI  State_WV  State_WY  \n",
       "0         0         0         0         0         0  \n",
       "1         0         0         0         0         0  \n",
       "2         0         0         0         0         0  \n",
       "3         0         0         0         0         0  \n",
       "4         0         0         0         0         0  \n",
       "\n",
       "[5 rows x 73 columns]"
      ]
     },
     "execution_count": 5,
     "metadata": {},
     "output_type": "execute_result"
    }
   ],
   "source": [
    "df_ohe = df_ohe.drop(['Unnamed: 0', # artifact of KNN\n",
    "                      'level_0', # artifact of merging\n",
    "                      'index', # artifact of merging\n",
    "                      'sampleId', # artifact of EDA\n",
    "                      'geometry', # artifact of KNN\n",
    "                      'JobEndDate', # will use duration instead of end date\n",
    "                      'IngredientName', # not currently encoding this\n",
    "                      'Zip', # not currently encoding this\n",
    "                      'CollectionDate', # do not need this\n",
    "                      'Supplier', # not currently encoding this\n",
    "                      'Purpose', # not currently encoding this \n",
    "                     ], axis=1)\n",
    "print(df_ohe.columns)\n",
    "df_ohe.head()"
   ]
  },
  {
   "cell_type": "code",
   "execution_count": 8,
   "metadata": {},
   "outputs": [
    {
     "name": "stdout",
     "output_type": "stream",
     "text": [
      "<class 'numpy.ndarray'>\n"
     ]
    }
   ],
   "source": [
    "import torch\n",
    "import torch.optim as optim\n",
    "from torch.utils.data import Dataset, DataLoader, SubsetRandomSampler, TensorDataset\n",
    "import tqdm \n",
    "from sklearn.model_selection import train_test_split\n",
    "import torch.nn as nn\n",
    "from tqdm.notebook import tqdm, trange\n",
    "from ipywidgets import IntProgress\n",
    "from sklearn import preprocessing\n",
    "\n",
    "df_ohe['CCCategory'] = df_ohe.apply(lambda row: 6 if row.ContaminantCount > 30 else row.ContaminantCount//6, axis=1)\n",
    "y = df_ohe['CCCategory'].values\n",
    "output_dim = len(df_ohe['CCCategory'].unique())\n",
    "df_ohe = df_ohe.drop(['CCCategory'], axis=1)\n",
    "#y = df_ohe['ContaminantCount'].values\n",
    "print(type(y))\n",
    "X = df_ohe.loc[:, df_ohe.columns != 'ContaminantCount'].to_numpy()\n",
    "X_train, X_test, y_train, y_test = train_test_split(\n",
    "    X, y, test_size=0.33, random_state=42)"
   ]
  },
  {
   "cell_type": "markdown",
   "metadata": {},
   "source": [
    "# Neural Network"
   ]
  },
  {
   "cell_type": "code",
   "execution_count": 9,
   "metadata": {},
   "outputs": [],
   "source": [
    "#torch_tensor_cc = torch.tensor(df_ohe['ContaminantCount'].values)\n",
    "#torch_tensor_vec = torch.from_numpy(df_ohe.loc[:, df_ohe.columns != 'ContaminantCount'].to_numpy())\n",
    "scaler = preprocessing.MinMaxScaler().fit(X_train)\n",
    "X_train = scaler.transform(X_train)\n",
    "X_test = scaler.transform(X_test)\n",
    "tensor_X_train = torch.tensor(X_train)\n",
    "tensor_y_train = torch.tensor(y_train)\n",
    "tensor_X_test = torch.tensor(X_test)\n",
    "tensor_y_test = torch.tensor(y_test)"
   ]
  },
  {
   "cell_type": "code",
   "execution_count": 10,
   "metadata": {},
   "outputs": [
    {
     "name": "stdout",
     "output_type": "stream",
     "text": [
      "(23500, 73)\n",
      "torch.Size([15745, 72])\n",
      "torch.Size([7755, 72])\n",
      "torch.Size([15745])\n",
      "torch.Size([7755])\n"
     ]
    }
   ],
   "source": [
    "print(df_ohe.shape)\n",
    "print(tensor_X_train.shape)\n",
    "print(tensor_X_test.shape)\n",
    "print(tensor_y_train.shape)\n",
    "print(tensor_y_test.shape)"
   ]
  },
  {
   "cell_type": "code",
   "execution_count": 39,
   "metadata": {},
   "outputs": [],
   "source": [
    "train_dataset = TensorDataset(tensor_X_train, tensor_y_train) \n",
    "test_dataset = TensorDataset(tensor_X_test, tensor_y_test)\n",
    "train_dataloader = DataLoader(train_dataset, batch_size=1)\n",
    "test_dataloader = DataLoader(test_dataset, batch_size=1)"
   ]
  },
  {
   "cell_type": "code",
   "execution_count": 28,
   "metadata": {},
   "outputs": [],
   "source": [
    "class FFNN(nn.Module):\n",
    "    def __init__(self, input_dim, h, output_dim): #input_dim=len(vocab),h=512,output_dim=len(emoticons)\n",
    "        super(FFNN, self).__init__()\n",
    "        self.h = h\n",
    "        self.W1 = nn.Linear(input_dim, h)\n",
    "        self.activation1 = nn.ReLU() # The rectified linear unit; one valid choice of activation function\n",
    "        self.W2 = nn.Linear(h, output_dim) \n",
    "        self.activation2 = nn.LogSoftmax(dim=1)\n",
    "        self.loss = nn.NLLLoss()\n",
    "    \n",
    "    def forward(self, input_vector):\n",
    "        z1 = self.W1(input_vector.float())\n",
    "        z2 = self.activation1(z1)\n",
    "        z3 = self.W2(z2)\n",
    "        #print('Softmax: {}'.format(str(self.softmax(z3))))\n",
    "        #print(z1)\n",
    "        #print(z2)\n",
    "        #print(z3)\n",
    "        return self.activation2(z3)\n",
    "    \n",
    "    def compute_loss(self, predicted_vector, gold_label):\n",
    "        return self.loss(predicted_vector, gold_label.long())\n",
    "    \n",
    "    def load_model(self, save_path):\n",
    "        self.load_state_dict(torch.load(save_path))\n",
    "\n",
    "    def save_model(self, save_path):\n",
    "        torch.save(self.state_dict(), save_path)\n",
    "\n",
    "def train_epoch(model, train_loader, optimizer):\n",
    "    model.train()\n",
    "    iters = 0\n",
    "    loss = 0.0\n",
    "    running_loss = 0\n",
    "    running_accuracy = 0\n",
    "    for (input_batch, expected_out) in tqdm(train_loader, leave=False, desc=\"Training Batches\"):\n",
    "        output = model(input_batch)\n",
    "        predicted = output.argmax(dim=1,keepdim=True)\n",
    "        optimizer.zero_grad()\n",
    "        loss = model.compute_loss(output, expected_out)\n",
    "        acc = np.true_divide(predicted.squeeze(1).eq(expected_out).sum(),len(expected_out))\n",
    "        loss.backward()\n",
    "        optimizer.step()\n",
    "        running_loss += loss.item()\n",
    "        running_accuracy += acc.item()\n",
    "        iters +=1\n",
    "        #print(running_loss)\n",
    "    print('Training Loss: {}'.format(running_loss/iters))\n",
    "    print('Training Accuracy: {}'.format(running_accuracy/iters))\n",
    "    \n",
    "def evaluation(model, test_loader, optimizer):\n",
    "    model.eval()\n",
    "    iters = 0\n",
    "    loss = 0.0\n",
    "    running_loss = 0\n",
    "    running_accuracy = 0\n",
    "    for (input_batch, expected_out) in tqdm(test_loader, leave=False, desc=\"Testing Batches\"):\n",
    "        output = model(input_batch)\n",
    "        predicted = output.argmax(dim=1,keepdim=True)\n",
    "        loss = model.compute_loss(output, expected_out)\n",
    "        acc = np.true_divide(predicted.squeeze(1).eq(expected_out).sum(),len(expected_out))\n",
    "        running_loss += loss.item()\n",
    "        running_accuracy += acc.item()\n",
    "        iters +=1\n",
    "        #print(running_loss)\n",
    "    print('Testing Loss: {}'.format(running_loss/iters))\n",
    "    print('Testing Accuracy: {}'.format(running_accuracy/iters))\n",
    "    \n",
    "def train_and_evaluate(number_of_epochs, model, train_loader, val_loader):\n",
    "    optimizer = optim.SGD(model.parameters(), lr=0.001, momentum=0.9)\n",
    "    for epoch in trange(number_of_epochs, desc=\"Epochs\"):\n",
    "        train_epoch(model, train_loader, optimizer)\n",
    "        evaluation(model, val_loader, optimizer)\n"
   ]
  },
  {
   "cell_type": "code",
   "execution_count": 29,
   "metadata": {},
   "outputs": [
    {
     "data": {
      "application/vnd.jupyter.widget-view+json": {
       "model_id": "a724095f041944f5b9068c112e10bda0",
       "version_major": 2,
       "version_minor": 0
      },
      "text/plain": [
       "HBox(children=(FloatProgress(value=0.0, description='Epochs', max=30.0, style=ProgressStyle(description_width=…"
      ]
     },
     "metadata": {},
     "output_type": "display_data"
    },
    {
     "data": {
      "application/vnd.jupyter.widget-view+json": {
       "model_id": "",
       "version_major": 2,
       "version_minor": 0
      },
      "text/plain": [
       "HBox(children=(FloatProgress(value=0.0, description='Training Batches', max=493.0, style=ProgressStyle(descrip…"
      ]
     },
     "metadata": {},
     "output_type": "display_data"
    },
    {
     "name": "stdout",
     "output_type": "stream",
     "text": [
      "Training Loss: 1.5624137500236774\n",
      "Training Accuracy: 0.3743661257606491\n"
     ]
    },
    {
     "data": {
      "application/vnd.jupyter.widget-view+json": {
       "model_id": "",
       "version_major": 2,
       "version_minor": 0
      },
      "text/plain": [
       "HBox(children=(FloatProgress(value=0.0, description='Testing Batches', max=243.0, style=ProgressStyle(descript…"
      ]
     },
     "metadata": {},
     "output_type": "display_data"
    },
    {
     "name": "stdout",
     "output_type": "stream",
     "text": [
      "Testing Loss: 1.4139223206680989\n",
      "Testing Accuracy: 0.4081088664421998\n"
     ]
    },
    {
     "data": {
      "application/vnd.jupyter.widget-view+json": {
       "model_id": "",
       "version_major": 2,
       "version_minor": 0
      },
      "text/plain": [
       "HBox(children=(FloatProgress(value=0.0, description='Training Batches', max=493.0, style=ProgressStyle(descrip…"
      ]
     },
     "metadata": {},
     "output_type": "display_data"
    },
    {
     "name": "stdout",
     "output_type": "stream",
     "text": [
      "Training Loss: 1.3842827487910736\n",
      "Training Accuracy: 0.46190415821501013\n"
     ]
    },
    {
     "data": {
      "application/vnd.jupyter.widget-view+json": {
       "model_id": "",
       "version_major": 2,
       "version_minor": 0
      },
      "text/plain": [
       "HBox(children=(FloatProgress(value=0.0, description='Testing Batches', max=243.0, style=ProgressStyle(descript…"
      ]
     },
     "metadata": {},
     "output_type": "display_data"
    },
    {
     "name": "stdout",
     "output_type": "stream",
     "text": [
      "Testing Loss: 1.35682308575744\n",
      "Testing Accuracy: 0.4804059109614665\n"
     ]
    },
    {
     "data": {
      "application/vnd.jupyter.widget-view+json": {
       "model_id": "",
       "version_major": 2,
       "version_minor": 0
      },
      "text/plain": [
       "HBox(children=(FloatProgress(value=0.0, description='Training Batches', max=493.0, style=ProgressStyle(descrip…"
      ]
     },
     "metadata": {},
     "output_type": "display_data"
    },
    {
     "name": "stdout",
     "output_type": "stream",
     "text": [
      "Training Loss: 1.3397561420533526\n",
      "Training Accuracy: 0.4870055780933063\n"
     ]
    },
    {
     "data": {
      "application/vnd.jupyter.widget-view+json": {
       "model_id": "",
       "version_major": 2,
       "version_minor": 0
      },
      "text/plain": [
       "HBox(children=(FloatProgress(value=0.0, description='Testing Batches', max=243.0, style=ProgressStyle(descript…"
      ]
     },
     "metadata": {},
     "output_type": "display_data"
    },
    {
     "name": "stdout",
     "output_type": "stream",
     "text": [
      "Testing Loss: 1.3198979931113162\n",
      "Testing Accuracy: 0.5057402731013841\n"
     ]
    },
    {
     "data": {
      "application/vnd.jupyter.widget-view+json": {
       "model_id": "",
       "version_major": 2,
       "version_minor": 0
      },
      "text/plain": [
       "HBox(children=(FloatProgress(value=0.0, description='Training Batches', max=493.0, style=ProgressStyle(descrip…"
      ]
     },
     "metadata": {},
     "output_type": "display_data"
    },
    {
     "name": "stdout",
     "output_type": "stream",
     "text": [
      "Training Loss: 1.3105787412390022\n",
      "Training Accuracy: 0.509001014198783\n"
     ]
    },
    {
     "data": {
      "application/vnd.jupyter.widget-view+json": {
       "model_id": "",
       "version_major": 2,
       "version_minor": 0
      },
      "text/plain": [
       "HBox(children=(FloatProgress(value=0.0, description='Testing Batches', max=243.0, style=ProgressStyle(descript…"
      ]
     },
     "metadata": {},
     "output_type": "display_data"
    },
    {
     "name": "stdout",
     "output_type": "stream",
     "text": [
      "Testing Loss: 1.2951114216949715\n",
      "Testing Accuracy: 0.5146020389075945\n"
     ]
    },
    {
     "data": {
      "application/vnd.jupyter.widget-view+json": {
       "model_id": "",
       "version_major": 2,
       "version_minor": 0
      },
      "text/plain": [
       "HBox(children=(FloatProgress(value=0.0, description='Training Batches', max=493.0, style=ProgressStyle(descrip…"
      ]
     },
     "metadata": {},
     "output_type": "display_data"
    },
    {
     "name": "stdout",
     "output_type": "stream",
     "text": [
      "Training Loss: 1.2906788830583042\n",
      "Training Accuracy: 0.5155933062880325\n"
     ]
    },
    {
     "data": {
      "application/vnd.jupyter.widget-view+json": {
       "model_id": "",
       "version_major": 2,
       "version_minor": 0
      },
      "text/plain": [
       "HBox(children=(FloatProgress(value=0.0, description='Testing Batches', max=243.0, style=ProgressStyle(descript…"
      ]
     },
     "metadata": {},
     "output_type": "display_data"
    },
    {
     "name": "stdout",
     "output_type": "stream",
     "text": [
      "Testing Loss: 1.2774954990104392\n",
      "Testing Accuracy: 0.5189744668911336\n"
     ]
    },
    {
     "data": {
      "application/vnd.jupyter.widget-view+json": {
       "model_id": "",
       "version_major": 2,
       "version_minor": 0
      },
      "text/plain": [
       "HBox(children=(FloatProgress(value=0.0, description='Training Batches', max=493.0, style=ProgressStyle(descrip…"
      ]
     },
     "metadata": {},
     "output_type": "display_data"
    },
    {
     "name": "stdout",
     "output_type": "stream",
     "text": [
      "Training Loss: 1.2758930405303381\n",
      "Training Accuracy: 0.521551724137931\n"
     ]
    },
    {
     "data": {
      "application/vnd.jupyter.widget-view+json": {
       "model_id": "",
       "version_major": 2,
       "version_minor": 0
      },
      "text/plain": [
       "HBox(children=(FloatProgress(value=0.0, description='Testing Batches', max=243.0, style=ProgressStyle(descript…"
      ]
     },
     "metadata": {},
     "output_type": "display_data"
    },
    {
     "name": "stdout",
     "output_type": "stream",
     "text": [
      "Testing Loss: 1.2641998058483925\n",
      "Testing Accuracy: 0.5268191170968949\n"
     ]
    },
    {
     "data": {
      "application/vnd.jupyter.widget-view+json": {
       "model_id": "",
       "version_major": 2,
       "version_minor": 0
      },
      "text/plain": [
       "HBox(children=(FloatProgress(value=0.0, description='Training Batches', max=493.0, style=ProgressStyle(descrip…"
      ]
     },
     "metadata": {},
     "output_type": "display_data"
    },
    {
     "name": "stdout",
     "output_type": "stream",
     "text": [
      "Training Loss: 1.2642324760284191\n",
      "Training Accuracy: 0.5251014198782962\n"
     ]
    },
    {
     "data": {
      "application/vnd.jupyter.widget-view+json": {
       "model_id": "",
       "version_major": 2,
       "version_minor": 0
      },
      "text/plain": [
       "HBox(children=(FloatProgress(value=0.0, description='Testing Batches', max=243.0, style=ProgressStyle(descript…"
      ]
     },
     "metadata": {},
     "output_type": "display_data"
    },
    {
     "name": "stdout",
     "output_type": "stream",
     "text": [
      "Testing Loss: 1.2536973769282118\n",
      "Testing Accuracy: 0.5296483352038908\n"
     ]
    },
    {
     "data": {
      "application/vnd.jupyter.widget-view+json": {
       "model_id": "",
       "version_major": 2,
       "version_minor": 0
      },
      "text/plain": [
       "HBox(children=(FloatProgress(value=0.0, description='Training Batches', max=493.0, style=ProgressStyle(descrip…"
      ]
     },
     "metadata": {},
     "output_type": "display_data"
    },
    {
     "name": "stdout",
     "output_type": "stream",
     "text": [
      "Training Loss: 1.2545674062403898\n",
      "Training Accuracy: 0.526369168356998\n"
     ]
    },
    {
     "data": {
      "application/vnd.jupyter.widget-view+json": {
       "model_id": "",
       "version_major": 2,
       "version_minor": 0
      },
      "text/plain": [
       "HBox(children=(FloatProgress(value=0.0, description='Testing Batches', max=243.0, style=ProgressStyle(descript…"
      ]
     },
     "metadata": {},
     "output_type": "display_data"
    },
    {
     "name": "stdout",
     "output_type": "stream",
     "text": [
      "Testing Loss: 1.2450063275211634\n",
      "Testing Accuracy: 0.5304199401421624\n"
     ]
    },
    {
     "data": {
      "application/vnd.jupyter.widget-view+json": {
       "model_id": "",
       "version_major": 2,
       "version_minor": 0
      },
      "text/plain": [
       "HBox(children=(FloatProgress(value=0.0, description='Training Batches', max=493.0, style=ProgressStyle(descrip…"
      ]
     },
     "metadata": {},
     "output_type": "display_data"
    },
    {
     "name": "stdout",
     "output_type": "stream",
     "text": [
      "Training Loss: 1.2462862017913958\n",
      "Training Accuracy: 0.5284609533468559\n"
     ]
    },
    {
     "data": {
      "application/vnd.jupyter.widget-view+json": {
       "model_id": "",
       "version_major": 2,
       "version_minor": 0
      },
      "text/plain": [
       "HBox(children=(FloatProgress(value=0.0, description='Testing Batches', max=243.0, style=ProgressStyle(descript…"
      ]
     },
     "metadata": {},
     "output_type": "display_data"
    },
    {
     "name": "stdout",
     "output_type": "stream",
     "text": [
      "Testing Loss: 1.2375915092205314\n",
      "Testing Accuracy: 0.5309343434343435\n"
     ]
    },
    {
     "data": {
      "application/vnd.jupyter.widget-view+json": {
       "model_id": "",
       "version_major": 2,
       "version_minor": 0
      },
      "text/plain": [
       "HBox(children=(FloatProgress(value=0.0, description='Training Batches', max=493.0, style=ProgressStyle(descrip…"
      ]
     },
     "metadata": {},
     "output_type": "display_data"
    },
    {
     "name": "stdout",
     "output_type": "stream",
     "text": [
      "Training Loss: 1.2390169282472159\n",
      "Training Accuracy: 0.5273833671399595\n"
     ]
    },
    {
     "data": {
      "application/vnd.jupyter.widget-view+json": {
       "model_id": "",
       "version_major": 2,
       "version_minor": 0
      },
      "text/plain": [
       "HBox(children=(FloatProgress(value=0.0, description='Testing Batches', max=243.0, style=ProgressStyle(descript…"
      ]
     },
     "metadata": {},
     "output_type": "display_data"
    },
    {
     "name": "stdout",
     "output_type": "stream",
     "text": [
      "Testing Loss: 1.2311154670185513\n",
      "Testing Accuracy: 0.5313201459034793\n"
     ]
    },
    {
     "data": {
      "application/vnd.jupyter.widget-view+json": {
       "model_id": "",
       "version_major": 2,
       "version_minor": 0
      },
      "text/plain": [
       "HBox(children=(FloatProgress(value=0.0, description='Training Batches', max=493.0, style=ProgressStyle(descrip…"
      ]
     },
     "metadata": {},
     "output_type": "display_data"
    },
    {
     "name": "stdout",
     "output_type": "stream",
     "text": [
      "Training Loss: 1.2325342341078707\n",
      "Training Accuracy: 0.5276369168356998\n"
     ]
    },
    {
     "data": {
      "application/vnd.jupyter.widget-view+json": {
       "model_id": "",
       "version_major": 2,
       "version_minor": 0
      },
      "text/plain": [
       "HBox(children=(FloatProgress(value=0.0, description='Testing Batches', max=243.0, style=ProgressStyle(descript…"
      ]
     },
     "metadata": {},
     "output_type": "display_data"
    },
    {
     "name": "stdout",
     "output_type": "stream",
     "text": [
      "Testing Loss: 1.2254193523293169\n",
      "Testing Accuracy: 0.5327347549569772\n"
     ]
    },
    {
     "data": {
      "application/vnd.jupyter.widget-view+json": {
       "model_id": "",
       "version_major": 2,
       "version_minor": 0
      },
      "text/plain": [
       "HBox(children=(FloatProgress(value=0.0, description='Training Batches', max=493.0, style=ProgressStyle(descrip…"
      ]
     },
     "metadata": {},
     "output_type": "display_data"
    },
    {
     "name": "stdout",
     "output_type": "stream",
     "text": [
      "Training Loss: 1.2267102107073182\n",
      "Training Accuracy: 0.52776369168357\n"
     ]
    },
    {
     "data": {
      "application/vnd.jupyter.widget-view+json": {
       "model_id": "",
       "version_major": 2,
       "version_minor": 0
      },
      "text/plain": [
       "HBox(children=(FloatProgress(value=0.0, description='Testing Batches', max=243.0, style=ProgressStyle(descript…"
      ]
     },
     "metadata": {},
     "output_type": "display_data"
    },
    {
     "name": "stdout",
     "output_type": "stream",
     "text": [
      "Testing Loss: 1.2203321449550582\n",
      "Testing Accuracy: 0.5328633557800225\n"
     ]
    },
    {
     "data": {
      "application/vnd.jupyter.widget-view+json": {
       "model_id": "",
       "version_major": 2,
       "version_minor": 0
      },
      "text/plain": [
       "HBox(children=(FloatProgress(value=0.0, description='Training Batches', max=493.0, style=ProgressStyle(descrip…"
      ]
     },
     "metadata": {},
     "output_type": "display_data"
    },
    {
     "name": "stdout",
     "output_type": "stream",
     "text": [
      "Training Loss: 1.2214275102828145\n",
      "Training Accuracy: 0.5287778904665315\n"
     ]
    },
    {
     "data": {
      "application/vnd.jupyter.widget-view+json": {
       "model_id": "",
       "version_major": 2,
       "version_minor": 0
      },
      "text/plain": [
       "HBox(children=(FloatProgress(value=0.0, description='Testing Batches', max=243.0, style=ProgressStyle(descript…"
      ]
     },
     "metadata": {},
     "output_type": "display_data"
    },
    {
     "name": "stdout",
     "output_type": "stream",
     "text": [
      "Testing Loss: 1.2157606560997511\n",
      "Testing Accuracy: 0.5329919566030678\n"
     ]
    },
    {
     "data": {
      "application/vnd.jupyter.widget-view+json": {
       "model_id": "",
       "version_major": 2,
       "version_minor": 0
      },
      "text/plain": [
       "HBox(children=(FloatProgress(value=0.0, description='Training Batches', max=493.0, style=ProgressStyle(descrip…"
      ]
     },
     "metadata": {},
     "output_type": "display_data"
    },
    {
     "name": "stdout",
     "output_type": "stream",
     "text": [
      "Training Loss: 1.2166042106630353\n",
      "Training Accuracy: 0.5287778904665315\n"
     ]
    },
    {
     "data": {
      "application/vnd.jupyter.widget-view+json": {
       "model_id": "",
       "version_major": 2,
       "version_minor": 0
      },
      "text/plain": [
       "HBox(children=(FloatProgress(value=0.0, description='Testing Batches', max=243.0, style=ProgressStyle(descript…"
      ]
     },
     "metadata": {},
     "output_type": "display_data"
    },
    {
     "name": "stdout",
     "output_type": "stream",
     "text": [
      "Testing Loss: 1.2116395507329776\n",
      "Testing Accuracy: 0.5332491582491583\n"
     ]
    },
    {
     "data": {
      "application/vnd.jupyter.widget-view+json": {
       "model_id": "",
       "version_major": 2,
       "version_minor": 0
      },
      "text/plain": [
       "HBox(children=(FloatProgress(value=0.0, description='Training Batches', max=493.0, style=ProgressStyle(descrip…"
      ]
     },
     "metadata": {},
     "output_type": "display_data"
    },
    {
     "name": "stdout",
     "output_type": "stream",
     "text": [
      "Training Loss: 1.2122104682980397\n",
      "Training Accuracy: 0.5296653144016227\n"
     ]
    },
    {
     "data": {
      "application/vnd.jupyter.widget-view+json": {
       "model_id": "",
       "version_major": 2,
       "version_minor": 0
      },
      "text/plain": [
       "HBox(children=(FloatProgress(value=0.0, description='Testing Batches', max=243.0, style=ProgressStyle(descript…"
      ]
     },
     "metadata": {},
     "output_type": "display_data"
    },
    {
     "name": "stdout",
     "output_type": "stream",
     "text": [
      "Testing Loss: 1.2079285925307883\n",
      "Testing Accuracy: 0.5322203516647962\n"
     ]
    },
    {
     "data": {
      "application/vnd.jupyter.widget-view+json": {
       "model_id": "",
       "version_major": 2,
       "version_minor": 0
      },
      "text/plain": [
       "HBox(children=(FloatProgress(value=0.0, description='Training Batches', max=493.0, style=ProgressStyle(descrip…"
      ]
     },
     "metadata": {},
     "output_type": "display_data"
    },
    {
     "name": "stdout",
     "output_type": "stream",
     "text": [
      "Training Loss: 1.2082048306358755\n",
      "Training Accuracy: 0.5308062880324543\n"
     ]
    },
    {
     "data": {
      "application/vnd.jupyter.widget-view+json": {
       "model_id": "",
       "version_major": 2,
       "version_minor": 0
      },
      "text/plain": [
       "HBox(children=(FloatProgress(value=0.0, description='Testing Batches', max=243.0, style=ProgressStyle(descript…"
      ]
     },
     "metadata": {},
     "output_type": "display_data"
    },
    {
     "name": "stdout",
     "output_type": "stream",
     "text": [
      "Testing Loss: 1.2045721737936201\n",
      "Testing Accuracy: 0.5329919566030678\n"
     ]
    },
    {
     "data": {
      "application/vnd.jupyter.widget-view+json": {
       "model_id": "",
       "version_major": 2,
       "version_minor": 0
      },
      "text/plain": [
       "HBox(children=(FloatProgress(value=0.0, description='Training Batches', max=493.0, style=ProgressStyle(descrip…"
      ]
     },
     "metadata": {},
     "output_type": "display_data"
    },
    {
     "name": "stdout",
     "output_type": "stream",
     "text": [
      "Training Loss: 1.2045390996439704\n",
      "Training Accuracy: 0.5320106490872211\n"
     ]
    },
    {
     "data": {
      "application/vnd.jupyter.widget-view+json": {
       "model_id": "",
       "version_major": 2,
       "version_minor": 0
      },
      "text/plain": [
       "HBox(children=(FloatProgress(value=0.0, description='Testing Batches', max=243.0, style=ProgressStyle(descript…"
      ]
     },
     "metadata": {},
     "output_type": "display_data"
    },
    {
     "name": "stdout",
     "output_type": "stream",
     "text": [
      "Testing Loss: 1.2015395169395477\n",
      "Testing Accuracy: 0.5333894500561168\n"
     ]
    },
    {
     "data": {
      "application/vnd.jupyter.widget-view+json": {
       "model_id": "",
       "version_major": 2,
       "version_minor": 0
      },
      "text/plain": [
       "HBox(children=(FloatProgress(value=0.0, description='Training Batches', max=493.0, style=ProgressStyle(descrip…"
      ]
     },
     "metadata": {},
     "output_type": "display_data"
    },
    {
     "name": "stdout",
     "output_type": "stream",
     "text": [
      "Training Loss: 1.2011694171849419\n",
      "Training Accuracy: 0.5344193711967545\n"
     ]
    },
    {
     "data": {
      "application/vnd.jupyter.widget-view+json": {
       "model_id": "",
       "version_major": 2,
       "version_minor": 0
      },
      "text/plain": [
       "HBox(children=(FloatProgress(value=0.0, description='Testing Batches', max=243.0, style=ProgressStyle(descript…"
      ]
     },
     "metadata": {},
     "output_type": "display_data"
    },
    {
     "name": "stdout",
     "output_type": "stream",
     "text": [
      "Testing Loss: 1.198769288543811\n",
      "Testing Accuracy: 0.5336466517022073\n"
     ]
    },
    {
     "data": {
      "application/vnd.jupyter.widget-view+json": {
       "model_id": "",
       "version_major": 2,
       "version_minor": 0
      },
      "text/plain": [
       "HBox(children=(FloatProgress(value=0.0, description='Training Batches', max=493.0, style=ProgressStyle(descrip…"
      ]
     },
     "metadata": {},
     "output_type": "display_data"
    },
    {
     "name": "stdout",
     "output_type": "stream",
     "text": [
      "Training Loss: 1.1980693435814027\n",
      "Training Accuracy: 0.5370182555780934\n"
     ]
    },
    {
     "data": {
      "application/vnd.jupyter.widget-view+json": {
       "model_id": "",
       "version_major": 2,
       "version_minor": 0
      },
      "text/plain": [
       "HBox(children=(FloatProgress(value=0.0, description='Testing Batches', max=243.0, style=ProgressStyle(descript…"
      ]
     },
     "metadata": {},
     "output_type": "display_data"
    },
    {
     "name": "stdout",
     "output_type": "stream",
     "text": [
      "Testing Loss: 1.1962514980830283\n",
      "Testing Accuracy: 0.5357042648709316\n"
     ]
    },
    {
     "data": {
      "application/vnd.jupyter.widget-view+json": {
       "model_id": "",
       "version_major": 2,
       "version_minor": 0
      },
      "text/plain": [
       "HBox(children=(FloatProgress(value=0.0, description='Training Batches', max=493.0, style=ProgressStyle(descrip…"
      ]
     },
     "metadata": {},
     "output_type": "display_data"
    },
    {
     "name": "stdout",
     "output_type": "stream",
     "text": [
      "Training Loss: 1.195207988091463\n",
      "Training Accuracy: 0.5386029411764706\n"
     ]
    },
    {
     "data": {
      "application/vnd.jupyter.widget-view+json": {
       "model_id": "",
       "version_major": 2,
       "version_minor": 0
      },
      "text/plain": [
       "HBox(children=(FloatProgress(value=0.0, description='Testing Batches', max=243.0, style=ProgressStyle(descript…"
      ]
     },
     "metadata": {},
     "output_type": "display_data"
    },
    {
     "name": "stdout",
     "output_type": "stream",
     "text": [
      "Testing Loss: 1.1939407861772389\n",
      "Testing Accuracy: 0.5366044706322485\n"
     ]
    },
    {
     "data": {
      "application/vnd.jupyter.widget-view+json": {
       "model_id": "",
       "version_major": 2,
       "version_minor": 0
      },
      "text/plain": [
       "HBox(children=(FloatProgress(value=0.0, description='Training Batches', max=493.0, style=ProgressStyle(descrip…"
      ]
     },
     "metadata": {},
     "output_type": "display_data"
    },
    {
     "name": "stdout",
     "output_type": "stream",
     "text": [
      "Training Loss: 1.1925476052577306\n",
      "Training Accuracy: 0.5394903651115619\n"
     ]
    },
    {
     "data": {
      "application/vnd.jupyter.widget-view+json": {
       "model_id": "",
       "version_major": 2,
       "version_minor": 0
      },
      "text/plain": [
       "HBox(children=(FloatProgress(value=0.0, description='Testing Batches', max=243.0, style=ProgressStyle(descript…"
      ]
     },
     "metadata": {},
     "output_type": "display_data"
    },
    {
     "name": "stdout",
     "output_type": "stream",
     "text": [
      "Testing Loss: 1.1917996102399786\n",
      "Testing Accuracy: 0.5366044706322485\n"
     ]
    },
    {
     "data": {
      "application/vnd.jupyter.widget-view+json": {
       "model_id": "",
       "version_major": 2,
       "version_minor": 0
      },
      "text/plain": [
       "HBox(children=(FloatProgress(value=0.0, description='Training Batches', max=493.0, style=ProgressStyle(descrip…"
      ]
     },
     "metadata": {},
     "output_type": "display_data"
    },
    {
     "name": "stdout",
     "output_type": "stream",
     "text": [
      "Training Loss: 1.1900650753089912\n",
      "Training Accuracy: 0.5408215010141988\n"
     ]
    },
    {
     "data": {
      "application/vnd.jupyter.widget-view+json": {
       "model_id": "",
       "version_major": 2,
       "version_minor": 0
      },
      "text/plain": [
       "HBox(children=(FloatProgress(value=0.0, description='Testing Batches', max=243.0, style=ProgressStyle(descript…"
      ]
     },
     "metadata": {},
     "output_type": "display_data"
    },
    {
     "name": "stdout",
     "output_type": "stream",
     "text": [
      "Testing Loss: 1.1898217448972381\n",
      "Testing Accuracy: 0.5385334829779275\n"
     ]
    },
    {
     "data": {
      "application/vnd.jupyter.widget-view+json": {
       "model_id": "",
       "version_major": 2,
       "version_minor": 0
      },
      "text/plain": [
       "HBox(children=(FloatProgress(value=0.0, description='Training Batches', max=493.0, style=ProgressStyle(descrip…"
      ]
     },
     "metadata": {},
     "output_type": "display_data"
    },
    {
     "name": "stdout",
     "output_type": "stream",
     "text": [
      "Training Loss: 1.1877677982888406\n",
      "Training Accuracy: 0.5419624746450304\n"
     ]
    },
    {
     "data": {
      "application/vnd.jupyter.widget-view+json": {
       "model_id": "",
       "version_major": 2,
       "version_minor": 0
      },
      "text/plain": [
       "HBox(children=(FloatProgress(value=0.0, description='Testing Batches', max=243.0, style=ProgressStyle(descript…"
      ]
     },
     "metadata": {},
     "output_type": "display_data"
    },
    {
     "name": "stdout",
     "output_type": "stream",
     "text": [
      "Testing Loss: 1.187992764107975\n",
      "Testing Accuracy: 0.5394336887392444\n"
     ]
    },
    {
     "data": {
      "application/vnd.jupyter.widget-view+json": {
       "model_id": "",
       "version_major": 2,
       "version_minor": 0
      },
      "text/plain": [
       "HBox(children=(FloatProgress(value=0.0, description='Training Batches', max=493.0, style=ProgressStyle(descrip…"
      ]
     },
     "metadata": {},
     "output_type": "display_data"
    },
    {
     "name": "stdout",
     "output_type": "stream",
     "text": [
      "Training Loss: 1.1856215993361832\n",
      "Training Accuracy: 0.543040060851927\n"
     ]
    },
    {
     "data": {
      "application/vnd.jupyter.widget-view+json": {
       "model_id": "",
       "version_major": 2,
       "version_minor": 0
      },
      "text/plain": [
       "HBox(children=(FloatProgress(value=0.0, description='Testing Batches', max=243.0, style=ProgressStyle(descript…"
      ]
     },
     "metadata": {},
     "output_type": "display_data"
    },
    {
     "name": "stdout",
     "output_type": "stream",
     "text": [
      "Testing Loss: 1.1862844876301142\n",
      "Testing Accuracy: 0.5396908903853349\n"
     ]
    },
    {
     "data": {
      "application/vnd.jupyter.widget-view+json": {
       "model_id": "",
       "version_major": 2,
       "version_minor": 0
      },
      "text/plain": [
       "HBox(children=(FloatProgress(value=0.0, description='Training Batches', max=493.0, style=ProgressStyle(descrip…"
      ]
     },
     "metadata": {},
     "output_type": "display_data"
    },
    {
     "name": "stdout",
     "output_type": "stream",
     "text": [
      "Training Loss: 1.183611528203647\n",
      "Training Accuracy: 0.5435471602434077\n"
     ]
    },
    {
     "data": {
      "application/vnd.jupyter.widget-view+json": {
       "model_id": "",
       "version_major": 2,
       "version_minor": 0
      },
      "text/plain": [
       "HBox(children=(FloatProgress(value=0.0, description='Testing Batches', max=243.0, style=ProgressStyle(descript…"
      ]
     },
     "metadata": {},
     "output_type": "display_data"
    },
    {
     "name": "stdout",
     "output_type": "stream",
     "text": [
      "Testing Loss: 1.1846957162574485\n",
      "Testing Accuracy: 0.5396908903853349\n"
     ]
    },
    {
     "data": {
      "application/vnd.jupyter.widget-view+json": {
       "model_id": "",
       "version_major": 2,
       "version_minor": 0
      },
      "text/plain": [
       "HBox(children=(FloatProgress(value=0.0, description='Training Batches', max=493.0, style=ProgressStyle(descrip…"
      ]
     },
     "metadata": {},
     "output_type": "display_data"
    },
    {
     "name": "stdout",
     "output_type": "stream",
     "text": [
      "Training Loss: 1.1817196079852856\n",
      "Training Accuracy: 0.5435471602434077\n"
     ]
    },
    {
     "data": {
      "application/vnd.jupyter.widget-view+json": {
       "model_id": "",
       "version_major": 2,
       "version_minor": 0
      },
      "text/plain": [
       "HBox(children=(FloatProgress(value=0.0, description='Testing Batches', max=243.0, style=ProgressStyle(descript…"
      ]
     },
     "metadata": {},
     "output_type": "display_data"
    },
    {
     "name": "stdout",
     "output_type": "stream",
     "text": [
      "Testing Loss: 1.1832001189636105\n",
      "Testing Accuracy: 0.5391764870931538\n"
     ]
    },
    {
     "data": {
      "application/vnd.jupyter.widget-view+json": {
       "model_id": "",
       "version_major": 2,
       "version_minor": 0
      },
      "text/plain": [
       "HBox(children=(FloatProgress(value=0.0, description='Training Batches', max=493.0, style=ProgressStyle(descrip…"
      ]
     },
     "metadata": {},
     "output_type": "display_data"
    },
    {
     "name": "stdout",
     "output_type": "stream",
     "text": [
      "Training Loss: 1.179931712803444\n",
      "Training Accuracy: 0.5440542596348884\n"
     ]
    },
    {
     "data": {
      "application/vnd.jupyter.widget-view+json": {
       "model_id": "",
       "version_major": 2,
       "version_minor": 0
      },
      "text/plain": [
       "HBox(children=(FloatProgress(value=0.0, description='Testing Batches', max=243.0, style=ProgressStyle(descript…"
      ]
     },
     "metadata": {},
     "output_type": "display_data"
    },
    {
     "name": "stdout",
     "output_type": "stream",
     "text": [
      "Testing Loss: 1.181769747547652\n",
      "Testing Accuracy: 0.5390478862701086\n"
     ]
    },
    {
     "data": {
      "application/vnd.jupyter.widget-view+json": {
       "model_id": "",
       "version_major": 2,
       "version_minor": 0
      },
      "text/plain": [
       "HBox(children=(FloatProgress(value=0.0, description='Training Batches', max=493.0, style=ProgressStyle(descrip…"
      ]
     },
     "metadata": {},
     "output_type": "display_data"
    },
    {
     "name": "stdout",
     "output_type": "stream",
     "text": [
      "Training Loss: 1.1782311368544736\n",
      "Training Accuracy: 0.5442444219066938\n"
     ]
    },
    {
     "data": {
      "application/vnd.jupyter.widget-view+json": {
       "model_id": "",
       "version_major": 2,
       "version_minor": 0
      },
      "text/plain": [
       "HBox(children=(FloatProgress(value=0.0, description='Testing Batches', max=243.0, style=ProgressStyle(descript…"
      ]
     },
     "metadata": {},
     "output_type": "display_data"
    },
    {
     "name": "stdout",
     "output_type": "stream",
     "text": [
      "Testing Loss: 1.1803984661651736\n",
      "Testing Accuracy: 0.538790684624018\n"
     ]
    },
    {
     "data": {
      "application/vnd.jupyter.widget-view+json": {
       "model_id": "",
       "version_major": 2,
       "version_minor": 0
      },
      "text/plain": [
       "HBox(children=(FloatProgress(value=0.0, description='Training Batches', max=493.0, style=ProgressStyle(descrip…"
      ]
     },
     "metadata": {},
     "output_type": "display_data"
    },
    {
     "name": "stdout",
     "output_type": "stream",
     "text": [
      "Training Loss: 1.1765941533186373\n",
      "Training Accuracy: 0.5446247464503042\n"
     ]
    },
    {
     "data": {
      "application/vnd.jupyter.widget-view+json": {
       "model_id": "",
       "version_major": 2,
       "version_minor": 0
      },
      "text/plain": [
       "HBox(children=(FloatProgress(value=0.0, description='Testing Batches', max=243.0, style=ProgressStyle(descript…"
      ]
     },
     "metadata": {},
     "output_type": "display_data"
    },
    {
     "name": "stdout",
     "output_type": "stream",
     "text": [
      "Testing Loss: 1.1790906907109076\n",
      "Testing Accuracy: 0.538790684624018\n"
     ]
    },
    {
     "data": {
      "application/vnd.jupyter.widget-view+json": {
       "model_id": "",
       "version_major": 2,
       "version_minor": 0
      },
      "text/plain": [
       "HBox(children=(FloatProgress(value=0.0, description='Training Batches', max=493.0, style=ProgressStyle(descrip…"
      ]
     },
     "metadata": {},
     "output_type": "display_data"
    },
    {
     "name": "stdout",
     "output_type": "stream",
     "text": [
      "Training Loss: 1.1750371850890997\n",
      "Training Accuracy: 0.544434584178499\n"
     ]
    },
    {
     "data": {
      "application/vnd.jupyter.widget-view+json": {
       "model_id": "",
       "version_major": 2,
       "version_minor": 0
      },
      "text/plain": [
       "HBox(children=(FloatProgress(value=0.0, description='Testing Batches', max=243.0, style=ProgressStyle(descript…"
      ]
     },
     "metadata": {},
     "output_type": "display_data"
    },
    {
     "name": "stdout",
     "output_type": "stream",
     "text": [
      "Testing Loss: 1.1777918370662894\n",
      "Testing Accuracy: 0.5385334829779275\n",
      "\n"
     ]
    }
   ],
   "source": [
    "h = 120\n",
    "model = FFNN(72, h, output_dim) # 72 is num of features\n",
    "train_and_evaluate(30, model, train_dataloader, test_dataloader)"
   ]
  },
  {
   "cell_type": "markdown",
   "metadata": {},
   "source": [
    "# Decision Tree Classifier"
   ]
  },
  {
   "cell_type": "code",
   "execution_count": 30,
   "metadata": {},
   "outputs": [],
   "source": [
    "X_train, X_test, y_train, y_test = train_test_split(\n",
    "    X, y, test_size=0.33, random_state=42)"
   ]
  },
  {
   "cell_type": "code",
   "execution_count": 31,
   "metadata": {},
   "outputs": [
    {
     "name": "stdout",
     "output_type": "stream",
     "text": [
      "Accuracy: 0.9502699269609399\n",
      "Accuracy: 0.7311411992263056\n"
     ]
    }
   ],
   "source": [
    "from sklearn.tree import DecisionTreeClassifier\n",
    "from sklearn import metrics\n",
    "from sklearn.model_selection import cross_val_score\n",
    "\n",
    "# Create Decision Tree classifer object\n",
    "clf = DecisionTreeClassifier(class_weight=None, criterion='gini', max_depth=None,\n",
    "            max_features=None, max_leaf_nodes=2900,\n",
    "            min_impurity_decrease=1e-07, min_samples_leaf=1,\n",
    "            min_samples_split=2, min_weight_fraction_leaf=0.0,\n",
    "            random_state=None, splitter='best')\n",
    "# Train Decision Tree Classifer\n",
    "clf = clf.fit(X_train,y_train)\n",
    "y_pred = clf.predict(X_train)\n",
    "print(\"Accuracy:\", metrics.accuracy_score(y_train, y_pred))\n",
    "y_pred = clf.predict(X_test)\n",
    "print(\"Accuracy:\", metrics.accuracy_score(y_test, y_pred))"
   ]
  },
  {
   "cell_type": "markdown",
   "metadata": {},
   "source": [
    "# Random Forest Classifier"
   ]
  },
  {
   "cell_type": "code",
   "execution_count": 32,
   "metadata": {
    "scrolled": true
   },
   "outputs": [
    {
     "name": "stdout",
     "output_type": "stream",
     "text": [
      "Accuracy: 0.9306446490949508\n",
      "Accuracy: 0.7773049645390071\n"
     ]
    }
   ],
   "source": [
    "from sklearn.ensemble import RandomForestClassifier\n",
    "clf = RandomForestClassifier(class_weight=None, criterion='entropy', max_depth=None,\n",
    "            max_features=None, max_leaf_nodes=1600,\n",
    "            min_samples_leaf=1,\n",
    "            min_samples_split=2, min_weight_fraction_leaf=0.0,\n",
    "            random_state=None)\n",
    "# Train Decision Tree Classifer\n",
    "clf = clf.fit(X_train,y_train)\n",
    "y_pred = clf.predict(X_train)\n",
    "print(\"Accuracy:\", metrics.accuracy_score(y_train, y_pred))\n",
    "y_pred = clf.predict(X_test)\n",
    "print(\"Accuracy:\", metrics.accuracy_score(y_test, y_pred))"
   ]
  },
  {
   "cell_type": "markdown",
   "metadata": {},
   "source": [
    "# PCA"
   ]
  },
  {
   "cell_type": "code",
   "execution_count": 36,
   "metadata": {},
   "outputs": [
    {
     "name": "stdout",
     "output_type": "stream",
     "text": [
      "DT Accuracy: 0.9751032073674182\n",
      "DT Accuracy: 0.6879432624113475\n",
      "RF Accuracy: 0.9717370593839314\n",
      "RF Accuracy: 0.7356544165054804\n"
     ]
    }
   ],
   "source": [
    "from sklearn.decomposition import PCA\n",
    "\n",
    "pca = PCA(n_components=50)\n",
    "X_pca = pca.fit_transform(X)\n",
    "\n",
    "X_train, X_test, y_train, y_test = train_test_split(\n",
    "    X_pca, y, test_size=0.33, random_state=42)\n",
    "\n",
    "clf = DecisionTreeClassifier(class_weight=None, criterion='gini', max_depth=None,\n",
    "            max_features=None, max_leaf_nodes=2900,\n",
    "            min_impurity_decrease=1e-07, min_samples_leaf=1,\n",
    "            min_samples_split=2, min_weight_fraction_leaf=0.0,\n",
    "            random_state=None, splitter='best')\n",
    "# Train Decision Tree Classifer\n",
    "clf = clf.fit(X_train,y_train)\n",
    "y_pred = clf.predict(X_train)\n",
    "print(\"DT Accuracy:\", metrics.accuracy_score(y_train, y_pred))\n",
    "y_pred = clf.predict(X_test)\n",
    "print(\"DT Accuracy:\", metrics.accuracy_score(y_test, y_pred))\n",
    "\n",
    "clf = RandomForestClassifier(class_weight=None, criterion='entropy', max_depth=None,\n",
    "            max_features=None, max_leaf_nodes=1600,\n",
    "            min_samples_leaf=1,\n",
    "            min_samples_split=2, min_weight_fraction_leaf=0.0,\n",
    "            random_state=None)\n",
    "# Train Decision Tree Classifer\n",
    "clf = clf.fit(X_train,y_train)\n",
    "y_pred = clf.predict(X_train)\n",
    "print(\"RF Accuracy:\", metrics.accuracy_score(y_train, y_pred))\n",
    "y_pred = clf.predict(X_test)\n",
    "print(\"RF Accuracy:\", metrics.accuracy_score(y_test, y_pred))"
   ]
  },
  {
   "cell_type": "code",
   "execution_count": 40,
   "metadata": {},
   "outputs": [],
   "source": [
    "scaler = preprocessing.MinMaxScaler().fit(X_train)\n",
    "X_train = scaler.transform(X_train)\n",
    "X_test = scaler.transform(X_test)\n",
    "tensor_X_train = torch.tensor(X_train)\n",
    "tensor_y_train = torch.tensor(y_train)\n",
    "tensor_X_test = torch.tensor(X_test)\n",
    "tensor_y_test = torch.tensor(y_test)\n",
    "train_dataset = TensorDataset(tensor_X_train, tensor_y_train) \n",
    "test_dataset = TensorDataset(tensor_X_test, tensor_y_test)\n",
    "train_dataloader = DataLoader(train_dataset, batch_size=1)\n",
    "test_dataloader = DataLoader(test_dataset, batch_size=1)"
   ]
  },
  {
   "cell_type": "code",
   "execution_count": 42,
   "metadata": {},
   "outputs": [
    {
     "data": {
      "application/vnd.jupyter.widget-view+json": {
       "model_id": "67b7a24bf82f477da18d8cef89e1a73d",
       "version_major": 2,
       "version_minor": 0
      },
      "text/plain": [
       "HBox(children=(FloatProgress(value=0.0, description='Epochs', max=30.0, style=ProgressStyle(description_width=…"
      ]
     },
     "metadata": {},
     "output_type": "display_data"
    },
    {
     "data": {
      "application/vnd.jupyter.widget-view+json": {
       "model_id": "",
       "version_major": 2,
       "version_minor": 0
      },
      "text/plain": [
       "HBox(children=(FloatProgress(value=0.0, description='Training Batches', max=15745.0, style=ProgressStyle(descr…"
      ]
     },
     "metadata": {},
     "output_type": "display_data"
    },
    {
     "name": "stdout",
     "output_type": "stream",
     "text": [
      "Training Loss: 1.3158063087483443\n",
      "Training Accuracy: 0.4808510638297872\n"
     ]
    },
    {
     "data": {
      "application/vnd.jupyter.widget-view+json": {
       "model_id": "",
       "version_major": 2,
       "version_minor": 0
      },
      "text/plain": [
       "HBox(children=(FloatProgress(value=0.0, description='Testing Batches', max=7755.0, style=ProgressStyle(descrip…"
      ]
     },
     "metadata": {},
     "output_type": "display_data"
    },
    {
     "name": "stdout",
     "output_type": "stream",
     "text": [
      "Testing Loss: 1.228442894797568\n",
      "Testing Accuracy: 0.5249516441005803\n"
     ]
    },
    {
     "data": {
      "application/vnd.jupyter.widget-view+json": {
       "model_id": "",
       "version_major": 2,
       "version_minor": 0
      },
      "text/plain": [
       "HBox(children=(FloatProgress(value=0.0, description='Training Batches', max=15745.0, style=ProgressStyle(descr…"
      ]
     },
     "metadata": {},
     "output_type": "display_data"
    },
    {
     "name": "stdout",
     "output_type": "stream",
     "text": [
      "Training Loss: 1.232364973777928\n",
      "Training Accuracy: 0.5201651317878692\n"
     ]
    },
    {
     "data": {
      "application/vnd.jupyter.widget-view+json": {
       "model_id": "",
       "version_major": 2,
       "version_minor": 0
      },
      "text/plain": [
       "HBox(children=(FloatProgress(value=0.0, description='Testing Batches', max=7755.0, style=ProgressStyle(descrip…"
      ]
     },
     "metadata": {},
     "output_type": "display_data"
    },
    {
     "name": "stdout",
     "output_type": "stream",
     "text": [
      "Testing Loss: 1.1982564906279245\n",
      "Testing Accuracy: 0.5390070921985816\n"
     ]
    },
    {
     "data": {
      "application/vnd.jupyter.widget-view+json": {
       "model_id": "",
       "version_major": 2,
       "version_minor": 0
      },
      "text/plain": [
       "HBox(children=(FloatProgress(value=0.0, description='Training Batches', max=15745.0, style=ProgressStyle(descr…"
      ]
     },
     "metadata": {},
     "output_type": "display_data"
    },
    {
     "name": "stdout",
     "output_type": "stream",
     "text": [
      "Training Loss: 1.2078908465010054\n",
      "Training Accuracy: 0.5323594791997459\n"
     ]
    },
    {
     "data": {
      "application/vnd.jupyter.widget-view+json": {
       "model_id": "",
       "version_major": 2,
       "version_minor": 0
      },
      "text/plain": [
       "HBox(children=(FloatProgress(value=0.0, description='Testing Batches', max=7755.0, style=ProgressStyle(descrip…"
      ]
     },
     "metadata": {},
     "output_type": "display_data"
    },
    {
     "name": "stdout",
     "output_type": "stream",
     "text": [
      "Testing Loss: 1.180022254993576\n",
      "Testing Accuracy: 0.5427466150870406\n"
     ]
    },
    {
     "data": {
      "application/vnd.jupyter.widget-view+json": {
       "model_id": "",
       "version_major": 2,
       "version_minor": 0
      },
      "text/plain": [
       "HBox(children=(FloatProgress(value=0.0, description='Training Batches', max=15745.0, style=ProgressStyle(descr…"
      ]
     },
     "metadata": {},
     "output_type": "display_data"
    },
    {
     "name": "stdout",
     "output_type": "stream",
     "text": [
      "Training Loss: 1.1882054375987956\n",
      "Training Accuracy: 0.5446173388377262\n"
     ]
    },
    {
     "data": {
      "application/vnd.jupyter.widget-view+json": {
       "model_id": "",
       "version_major": 2,
       "version_minor": 0
      },
      "text/plain": [
       "HBox(children=(FloatProgress(value=0.0, description='Testing Batches', max=7755.0, style=ProgressStyle(descrip…"
      ]
     },
     "metadata": {},
     "output_type": "display_data"
    },
    {
     "name": "stdout",
     "output_type": "stream",
     "text": [
      "Testing Loss: 1.165661074614079\n",
      "Testing Accuracy: 0.5472598323662153\n"
     ]
    },
    {
     "data": {
      "application/vnd.jupyter.widget-view+json": {
       "model_id": "",
       "version_major": 2,
       "version_minor": 0
      },
      "text/plain": [
       "HBox(children=(FloatProgress(value=0.0, description='Training Batches', max=15745.0, style=ProgressStyle(descr…"
      ]
     },
     "metadata": {},
     "output_type": "display_data"
    },
    {
     "name": "stdout",
     "output_type": "stream",
     "text": [
      "Training Loss: 1.1713360641808235\n",
      "Training Accuracy: 0.5524293426484598\n"
     ]
    },
    {
     "data": {
      "application/vnd.jupyter.widget-view+json": {
       "model_id": "",
       "version_major": 2,
       "version_minor": 0
      },
      "text/plain": [
       "HBox(children=(FloatProgress(value=0.0, description='Testing Batches', max=7755.0, style=ProgressStyle(descrip…"
      ]
     },
     "metadata": {},
     "output_type": "display_data"
    },
    {
     "name": "stdout",
     "output_type": "stream",
     "text": [
      "Testing Loss: 1.1518583970404994\n",
      "Testing Accuracy: 0.5531914893617021\n"
     ]
    },
    {
     "data": {
      "application/vnd.jupyter.widget-view+json": {
       "model_id": "",
       "version_major": 2,
       "version_minor": 0
      },
      "text/plain": [
       "HBox(children=(FloatProgress(value=0.0, description='Training Batches', max=15745.0, style=ProgressStyle(descr…"
      ]
     },
     "metadata": {},
     "output_type": "display_data"
    },
    {
     "name": "stdout",
     "output_type": "stream",
     "text": [
      "Training Loss: 1.1574535841632738\n",
      "Training Accuracy: 0.5571927596062242\n"
     ]
    },
    {
     "data": {
      "application/vnd.jupyter.widget-view+json": {
       "model_id": "",
       "version_major": 2,
       "version_minor": 0
      },
      "text/plain": [
       "HBox(children=(FloatProgress(value=0.0, description='Testing Batches', max=7755.0, style=ProgressStyle(descrip…"
      ]
     },
     "metadata": {},
     "output_type": "display_data"
    },
    {
     "name": "stdout",
     "output_type": "stream",
     "text": [
      "Testing Loss: 1.144441873964996\n",
      "Testing Accuracy: 0.5570599613152805\n"
     ]
    },
    {
     "data": {
      "application/vnd.jupyter.widget-view+json": {
       "model_id": "",
       "version_major": 2,
       "version_minor": 0
      },
      "text/plain": [
       "HBox(children=(FloatProgress(value=0.0, description='Training Batches', max=15745.0, style=ProgressStyle(descr…"
      ]
     },
     "metadata": {},
     "output_type": "display_data"
    },
    {
     "name": "stdout",
     "output_type": "stream",
     "text": [
      "Training Loss: 1.1463053878887697\n",
      "Training Accuracy: 0.5602413464591934\n"
     ]
    },
    {
     "data": {
      "application/vnd.jupyter.widget-view+json": {
       "model_id": "",
       "version_major": 2,
       "version_minor": 0
      },
      "text/plain": [
       "HBox(children=(FloatProgress(value=0.0, description='Testing Batches', max=7755.0, style=ProgressStyle(descrip…"
      ]
     },
     "metadata": {},
     "output_type": "display_data"
    },
    {
     "name": "stdout",
     "output_type": "stream",
     "text": [
      "Testing Loss: 1.133529243181591\n",
      "Testing Accuracy: 0.560541586073501\n"
     ]
    },
    {
     "data": {
      "application/vnd.jupyter.widget-view+json": {
       "model_id": "",
       "version_major": 2,
       "version_minor": 0
      },
      "text/plain": [
       "HBox(children=(FloatProgress(value=0.0, description='Training Batches', max=15745.0, style=ProgressStyle(descr…"
      ]
     },
     "metadata": {},
     "output_type": "display_data"
    },
    {
     "name": "stdout",
     "output_type": "stream",
     "text": [
      "Training Loss: 1.1374097114403443\n",
      "Training Accuracy: 0.5619561765639886\n"
     ]
    },
    {
     "data": {
      "application/vnd.jupyter.widget-view+json": {
       "model_id": "",
       "version_major": 2,
       "version_minor": 0
      },
      "text/plain": [
       "HBox(children=(FloatProgress(value=0.0, description='Testing Batches', max=7755.0, style=ProgressStyle(descrip…"
      ]
     },
     "metadata": {},
     "output_type": "display_data"
    },
    {
     "name": "stdout",
     "output_type": "stream",
     "text": [
      "Testing Loss: 1.1272917700180847\n",
      "Testing Accuracy: 0.5650548033526757\n"
     ]
    },
    {
     "data": {
      "application/vnd.jupyter.widget-view+json": {
       "model_id": "",
       "version_major": 2,
       "version_minor": 0
      },
      "text/plain": [
       "HBox(children=(FloatProgress(value=0.0, description='Training Batches', max=15745.0, style=ProgressStyle(descr…"
      ]
     },
     "metadata": {},
     "output_type": "display_data"
    },
    {
     "name": "stdout",
     "output_type": "stream",
     "text": [
      "Training Loss: 1.1297800382933434\n",
      "Training Accuracy: 0.5664655446173389\n"
     ]
    },
    {
     "data": {
      "application/vnd.jupyter.widget-view+json": {
       "model_id": "",
       "version_major": 2,
       "version_minor": 0
      },
      "text/plain": [
       "HBox(children=(FloatProgress(value=0.0, description='Testing Batches', max=7755.0, style=ProgressStyle(descrip…"
      ]
     },
     "metadata": {},
     "output_type": "display_data"
    },
    {
     "name": "stdout",
     "output_type": "stream",
     "text": [
      "Testing Loss: 1.125663690273797\n",
      "Testing Accuracy: 0.5650548033526757\n"
     ]
    },
    {
     "data": {
      "application/vnd.jupyter.widget-view+json": {
       "model_id": "",
       "version_major": 2,
       "version_minor": 0
      },
      "text/plain": [
       "HBox(children=(FloatProgress(value=0.0, description='Training Batches', max=15745.0, style=ProgressStyle(descr…"
      ]
     },
     "metadata": {},
     "output_type": "display_data"
    },
    {
     "name": "stdout",
     "output_type": "stream",
     "text": [
      "Training Loss: 1.1240745268932464\n",
      "Training Accuracy: 0.5684344236265481\n"
     ]
    },
    {
     "data": {
      "application/vnd.jupyter.widget-view+json": {
       "model_id": "",
       "version_major": 2,
       "version_minor": 0
      },
      "text/plain": [
       "HBox(children=(FloatProgress(value=0.0, description='Testing Batches', max=7755.0, style=ProgressStyle(descrip…"
      ]
     },
     "metadata": {},
     "output_type": "display_data"
    },
    {
     "name": "stdout",
     "output_type": "stream",
     "text": [
      "Testing Loss: 1.1178674441779681\n",
      "Testing Accuracy: 0.5691811734364925\n"
     ]
    },
    {
     "data": {
      "application/vnd.jupyter.widget-view+json": {
       "model_id": "",
       "version_major": 2,
       "version_minor": 0
      },
      "text/plain": [
       "HBox(children=(FloatProgress(value=0.0, description='Training Batches', max=15745.0, style=ProgressStyle(descr…"
      ]
     },
     "metadata": {},
     "output_type": "display_data"
    },
    {
     "name": "stdout",
     "output_type": "stream",
     "text": [
      "Training Loss: 1.1191410442954417\n",
      "Training Accuracy: 0.5706573515401715\n"
     ]
    },
    {
     "data": {
      "application/vnd.jupyter.widget-view+json": {
       "model_id": "",
       "version_major": 2,
       "version_minor": 0
      },
      "text/plain": [
       "HBox(children=(FloatProgress(value=0.0, description='Testing Batches', max=7755.0, style=ProgressStyle(descrip…"
      ]
     },
     "metadata": {},
     "output_type": "display_data"
    },
    {
     "name": "stdout",
     "output_type": "stream",
     "text": [
      "Testing Loss: 1.1118842673687916\n",
      "Testing Accuracy: 0.5742101869761445\n"
     ]
    },
    {
     "data": {
      "application/vnd.jupyter.widget-view+json": {
       "model_id": "",
       "version_major": 2,
       "version_minor": 0
      },
      "text/plain": [
       "HBox(children=(FloatProgress(value=0.0, description='Training Batches', max=15745.0, style=ProgressStyle(descr…"
      ]
     },
     "metadata": {},
     "output_type": "display_data"
    },
    {
     "name": "stdout",
     "output_type": "stream",
     "text": [
      "Training Loss: 1.1128541001850705\n",
      "Training Accuracy: 0.5735789139409336\n"
     ]
    },
    {
     "data": {
      "application/vnd.jupyter.widget-view+json": {
       "model_id": "",
       "version_major": 2,
       "version_minor": 0
      },
      "text/plain": [
       "HBox(children=(FloatProgress(value=0.0, description='Testing Batches', max=7755.0, style=ProgressStyle(descrip…"
      ]
     },
     "metadata": {},
     "output_type": "display_data"
    },
    {
     "name": "stdout",
     "output_type": "stream",
     "text": [
      "Testing Loss: 1.1090934187558141\n",
      "Testing Accuracy: 0.5757575757575758\n"
     ]
    },
    {
     "data": {
      "application/vnd.jupyter.widget-view+json": {
       "model_id": "",
       "version_major": 2,
       "version_minor": 0
      },
      "text/plain": [
       "HBox(children=(FloatProgress(value=0.0, description='Training Batches', max=15745.0, style=ProgressStyle(descr…"
      ]
     },
     "metadata": {},
     "output_type": "display_data"
    },
    {
     "name": "stdout",
     "output_type": "stream",
     "text": [
      "Training Loss: 1.108126755245444\n",
      "Training Accuracy: 0.5759923785328676\n"
     ]
    },
    {
     "data": {
      "application/vnd.jupyter.widget-view+json": {
       "model_id": "",
       "version_major": 2,
       "version_minor": 0
      },
      "text/plain": [
       "HBox(children=(FloatProgress(value=0.0, description='Testing Batches', max=7755.0, style=ProgressStyle(descrip…"
      ]
     },
     "metadata": {},
     "output_type": "display_data"
    },
    {
     "name": "stdout",
     "output_type": "stream",
     "text": [
      "Testing Loss: 1.106147062618989\n",
      "Testing Accuracy: 0.5775628626692456\n"
     ]
    },
    {
     "data": {
      "application/vnd.jupyter.widget-view+json": {
       "model_id": "",
       "version_major": 2,
       "version_minor": 0
      },
      "text/plain": [
       "HBox(children=(FloatProgress(value=0.0, description='Training Batches', max=15745.0, style=ProgressStyle(descr…"
      ]
     },
     "metadata": {},
     "output_type": "display_data"
    },
    {
     "name": "stdout",
     "output_type": "stream",
     "text": [
      "Training Loss: 1.1037964410780583\n",
      "Training Accuracy: 0.5754207684979359\n"
     ]
    },
    {
     "data": {
      "application/vnd.jupyter.widget-view+json": {
       "model_id": "",
       "version_major": 2,
       "version_minor": 0
      },
      "text/plain": [
       "HBox(children=(FloatProgress(value=0.0, description='Testing Batches', max=7755.0, style=ProgressStyle(descrip…"
      ]
     },
     "metadata": {},
     "output_type": "display_data"
    },
    {
     "name": "stdout",
     "output_type": "stream",
     "text": [
      "Testing Loss: 1.107052825587765\n",
      "Testing Accuracy: 0.5751128304319794\n"
     ]
    },
    {
     "data": {
      "application/vnd.jupyter.widget-view+json": {
       "model_id": "",
       "version_major": 2,
       "version_minor": 0
      },
      "text/plain": [
       "HBox(children=(FloatProgress(value=0.0, description='Training Batches', max=15745.0, style=ProgressStyle(descr…"
      ]
     },
     "metadata": {},
     "output_type": "display_data"
    },
    {
     "name": "stdout",
     "output_type": "stream",
     "text": [
      "Training Loss: 1.0992496273085528\n",
      "Training Accuracy: 0.5779612575420768\n"
     ]
    },
    {
     "data": {
      "application/vnd.jupyter.widget-view+json": {
       "model_id": "",
       "version_major": 2,
       "version_minor": 0
      },
      "text/plain": [
       "HBox(children=(FloatProgress(value=0.0, description='Testing Batches', max=7755.0, style=ProgressStyle(descrip…"
      ]
     },
     "metadata": {},
     "output_type": "display_data"
    },
    {
     "name": "stdout",
     "output_type": "stream",
     "text": [
      "Testing Loss: 1.1039182759004782\n",
      "Testing Accuracy: 0.5762733720180528\n"
     ]
    },
    {
     "data": {
      "application/vnd.jupyter.widget-view+json": {
       "model_id": "",
       "version_major": 2,
       "version_minor": 0
      },
      "text/plain": [
       "HBox(children=(FloatProgress(value=0.0, description='Training Batches', max=15745.0, style=ProgressStyle(descr…"
      ]
     },
     "metadata": {},
     "output_type": "display_data"
    },
    {
     "name": "stdout",
     "output_type": "stream",
     "text": [
      "Training Loss: 1.0952151454705952\n",
      "Training Accuracy: 0.5802476976818037\n"
     ]
    },
    {
     "data": {
      "application/vnd.jupyter.widget-view+json": {
       "model_id": "",
       "version_major": 2,
       "version_minor": 0
      },
      "text/plain": [
       "HBox(children=(FloatProgress(value=0.0, description='Testing Batches', max=7755.0, style=ProgressStyle(descrip…"
      ]
     },
     "metadata": {},
     "output_type": "display_data"
    },
    {
     "name": "stdout",
     "output_type": "stream",
     "text": [
      "Testing Loss: 1.104820584715239\n",
      "Testing Accuracy: 0.5788523533204384\n"
     ]
    },
    {
     "data": {
      "application/vnd.jupyter.widget-view+json": {
       "model_id": "",
       "version_major": 2,
       "version_minor": 0
      },
      "text/plain": [
       "HBox(children=(FloatProgress(value=0.0, description='Training Batches', max=15745.0, style=ProgressStyle(descr…"
      ]
     },
     "metadata": {},
     "output_type": "display_data"
    },
    {
     "name": "stdout",
     "output_type": "stream",
     "text": [
      "Training Loss: 1.0912033269474641\n",
      "Training Accuracy: 0.581962527786599\n"
     ]
    },
    {
     "data": {
      "application/vnd.jupyter.widget-view+json": {
       "model_id": "",
       "version_major": 2,
       "version_minor": 0
      },
      "text/plain": [
       "HBox(children=(FloatProgress(value=0.0, description='Testing Batches', max=7755.0, style=ProgressStyle(descrip…"
      ]
     },
     "metadata": {},
     "output_type": "display_data"
    },
    {
     "name": "stdout",
     "output_type": "stream",
     "text": [
      "Testing Loss: 1.0971743074738733\n",
      "Testing Accuracy: 0.5823339780786589\n"
     ]
    },
    {
     "data": {
      "application/vnd.jupyter.widget-view+json": {
       "model_id": "",
       "version_major": 2,
       "version_minor": 0
      },
      "text/plain": [
       "HBox(children=(FloatProgress(value=0.0, description='Training Batches', max=15745.0, style=ProgressStyle(descr…"
      ]
     },
     "metadata": {},
     "output_type": "display_data"
    },
    {
     "name": "stdout",
     "output_type": "stream",
     "text": [
      "Training Loss: 1.0871476997611598\n",
      "Training Accuracy: 0.5840584312480153\n"
     ]
    },
    {
     "data": {
      "application/vnd.jupyter.widget-view+json": {
       "model_id": "",
       "version_major": 2,
       "version_minor": 0
      },
      "text/plain": [
       "HBox(children=(FloatProgress(value=0.0, description='Testing Batches', max=7755.0, style=ProgressStyle(descrip…"
      ]
     },
     "metadata": {},
     "output_type": "display_data"
    },
    {
     "name": "stdout",
     "output_type": "stream",
     "text": [
      "Testing Loss: 1.0949190574368495\n",
      "Testing Accuracy: 0.5829787234042553\n"
     ]
    },
    {
     "data": {
      "application/vnd.jupyter.widget-view+json": {
       "model_id": "",
       "version_major": 2,
       "version_minor": 0
      },
      "text/plain": [
       "HBox(children=(FloatProgress(value=0.0, description='Training Batches', max=15745.0, style=ProgressStyle(descr…"
      ]
     },
     "metadata": {},
     "output_type": "display_data"
    },
    {
     "name": "stdout",
     "output_type": "stream",
     "text": [
      "Training Loss: 1.0839687185272664\n",
      "Training Accuracy: 0.5867894569704668\n"
     ]
    },
    {
     "data": {
      "application/vnd.jupyter.widget-view+json": {
       "model_id": "",
       "version_major": 2,
       "version_minor": 0
      },
      "text/plain": [
       "HBox(children=(FloatProgress(value=0.0, description='Testing Batches', max=7755.0, style=ProgressStyle(descrip…"
      ]
     },
     "metadata": {},
     "output_type": "display_data"
    },
    {
     "name": "stdout",
     "output_type": "stream",
     "text": [
      "Testing Loss: 1.092914936854369\n",
      "Testing Accuracy: 0.5847840103159252\n"
     ]
    },
    {
     "data": {
      "application/vnd.jupyter.widget-view+json": {
       "model_id": "",
       "version_major": 2,
       "version_minor": 0
      },
      "text/plain": [
       "HBox(children=(FloatProgress(value=0.0, description='Training Batches', max=15745.0, style=ProgressStyle(descr…"
      ]
     },
     "metadata": {},
     "output_type": "display_data"
    },
    {
     "name": "stdout",
     "output_type": "stream",
     "text": [
      "Training Loss: 1.0814057440367737\n",
      "Training Accuracy: 0.5859002858050175\n"
     ]
    },
    {
     "data": {
      "application/vnd.jupyter.widget-view+json": {
       "model_id": "",
       "version_major": 2,
       "version_minor": 0
      },
      "text/plain": [
       "HBox(children=(FloatProgress(value=0.0, description='Testing Batches', max=7755.0, style=ProgressStyle(descrip…"
      ]
     },
     "metadata": {},
     "output_type": "display_data"
    },
    {
     "name": "stdout",
     "output_type": "stream",
     "text": [
      "Testing Loss: 1.0935922789209067\n",
      "Testing Accuracy: 0.5854287556415216\n"
     ]
    },
    {
     "data": {
      "application/vnd.jupyter.widget-view+json": {
       "model_id": "",
       "version_major": 2,
       "version_minor": 0
      },
      "text/plain": [
       "HBox(children=(FloatProgress(value=0.0, description='Training Batches', max=15745.0, style=ProgressStyle(descr…"
      ]
     },
     "metadata": {},
     "output_type": "display_data"
    },
    {
     "name": "stdout",
     "output_type": "stream",
     "text": [
      "Training Loss: 1.0788344128765983\n",
      "Training Accuracy: 0.5888218482057797\n"
     ]
    },
    {
     "data": {
      "application/vnd.jupyter.widget-view+json": {
       "model_id": "",
       "version_major": 2,
       "version_minor": 0
      },
      "text/plain": [
       "HBox(children=(FloatProgress(value=0.0, description='Testing Batches', max=7755.0, style=ProgressStyle(descrip…"
      ]
     },
     "metadata": {},
     "output_type": "display_data"
    },
    {
     "name": "stdout",
     "output_type": "stream",
     "text": [
      "Testing Loss: 1.0892783999666427\n",
      "Testing Accuracy: 0.5838813668600903\n"
     ]
    },
    {
     "data": {
      "application/vnd.jupyter.widget-view+json": {
       "model_id": "",
       "version_major": 2,
       "version_minor": 0
      },
      "text/plain": [
       "HBox(children=(FloatProgress(value=0.0, description='Training Batches', max=15745.0, style=ProgressStyle(descr…"
      ]
     },
     "metadata": {},
     "output_type": "display_data"
    },
    {
     "name": "stdout",
     "output_type": "stream",
     "text": [
      "Training Loss: 1.0760411031940516\n",
      "Training Accuracy: 0.589838043823436\n"
     ]
    },
    {
     "data": {
      "application/vnd.jupyter.widget-view+json": {
       "model_id": "",
       "version_major": 2,
       "version_minor": 0
      },
      "text/plain": [
       "HBox(children=(FloatProgress(value=0.0, description='Testing Batches', max=7755.0, style=ProgressStyle(descrip…"
      ]
     },
     "metadata": {},
     "output_type": "display_data"
    },
    {
     "name": "stdout",
     "output_type": "stream",
     "text": [
      "Testing Loss: 1.087376521008004\n",
      "Testing Accuracy: 0.5852998065764023\n"
     ]
    },
    {
     "data": {
      "application/vnd.jupyter.widget-view+json": {
       "model_id": "",
       "version_major": 2,
       "version_minor": 0
      },
      "text/plain": [
       "HBox(children=(FloatProgress(value=0.0, description='Training Batches', max=15745.0, style=ProgressStyle(descr…"
      ]
     },
     "metadata": {},
     "output_type": "display_data"
    },
    {
     "name": "stdout",
     "output_type": "stream",
     "text": [
      "Training Loss: 1.0733950409796307\n",
      "Training Accuracy: 0.590917751667196\n"
     ]
    },
    {
     "data": {
      "application/vnd.jupyter.widget-view+json": {
       "model_id": "",
       "version_major": 2,
       "version_minor": 0
      },
      "text/plain": [
       "HBox(children=(FloatProgress(value=0.0, description='Testing Batches', max=7755.0, style=ProgressStyle(descrip…"
      ]
     },
     "metadata": {},
     "output_type": "display_data"
    },
    {
     "name": "stdout",
     "output_type": "stream",
     "text": [
      "Testing Loss: 1.0847050176607955\n",
      "Testing Accuracy: 0.5862024500322373\n"
     ]
    },
    {
     "data": {
      "application/vnd.jupyter.widget-view+json": {
       "model_id": "",
       "version_major": 2,
       "version_minor": 0
      },
      "text/plain": [
       "HBox(children=(FloatProgress(value=0.0, description='Training Batches', max=15745.0, style=ProgressStyle(descr…"
      ]
     },
     "metadata": {},
     "output_type": "display_data"
    },
    {
     "name": "stdout",
     "output_type": "stream",
     "text": [
      "Training Loss: 1.0711465342745785\n",
      "Training Accuracy: 0.5927596062241982\n"
     ]
    },
    {
     "data": {
      "application/vnd.jupyter.widget-view+json": {
       "model_id": "",
       "version_major": 2,
       "version_minor": 0
      },
      "text/plain": [
       "HBox(children=(FloatProgress(value=0.0, description='Testing Batches', max=7755.0, style=ProgressStyle(descrip…"
      ]
     },
     "metadata": {},
     "output_type": "display_data"
    },
    {
     "name": "stdout",
     "output_type": "stream",
     "text": [
      "Testing Loss: 1.0858849062877969\n",
      "Testing Accuracy: 0.5867182462927144\n"
     ]
    },
    {
     "data": {
      "application/vnd.jupyter.widget-view+json": {
       "model_id": "",
       "version_major": 2,
       "version_minor": 0
      },
      "text/plain": [
       "HBox(children=(FloatProgress(value=0.0, description='Training Batches', max=15745.0, style=ProgressStyle(descr…"
      ]
     },
     "metadata": {},
     "output_type": "display_data"
    },
    {
     "name": "stdout",
     "output_type": "stream",
     "text": [
      "Training Loss: 1.0684647546245023\n",
      "Training Accuracy: 0.592505557319784\n"
     ]
    },
    {
     "data": {
      "application/vnd.jupyter.widget-view+json": {
       "model_id": "",
       "version_major": 2,
       "version_minor": 0
      },
      "text/plain": [
       "HBox(children=(FloatProgress(value=0.0, description='Testing Batches', max=7755.0, style=ProgressStyle(descrip…"
      ]
     },
     "metadata": {},
     "output_type": "display_data"
    },
    {
     "name": "stdout",
     "output_type": "stream",
     "text": [
      "Testing Loss: 1.0865249196006206\n",
      "Testing Accuracy: 0.5863313990973565\n"
     ]
    },
    {
     "data": {
      "application/vnd.jupyter.widget-view+json": {
       "model_id": "",
       "version_major": 2,
       "version_minor": 0
      },
      "text/plain": [
       "HBox(children=(FloatProgress(value=0.0, description='Training Batches', max=15745.0, style=ProgressStyle(descr…"
      ]
     },
     "metadata": {},
     "output_type": "display_data"
    },
    {
     "name": "stdout",
     "output_type": "stream",
     "text": [
      "Training Loss: 1.0666926447428684\n",
      "Training Accuracy: 0.5947284852334074\n"
     ]
    },
    {
     "data": {
      "application/vnd.jupyter.widget-view+json": {
       "model_id": "",
       "version_major": 2,
       "version_minor": 0
      },
      "text/plain": [
       "HBox(children=(FloatProgress(value=0.0, description='Testing Batches', max=7755.0, style=ProgressStyle(descrip…"
      ]
     },
     "metadata": {},
     "output_type": "display_data"
    },
    {
     "name": "stdout",
     "output_type": "stream",
     "text": [
      "Testing Loss: 1.086320766484993\n",
      "Testing Accuracy: 0.5876208897485493\n"
     ]
    },
    {
     "data": {
      "application/vnd.jupyter.widget-view+json": {
       "model_id": "",
       "version_major": 2,
       "version_minor": 0
      },
      "text/plain": [
       "HBox(children=(FloatProgress(value=0.0, description='Training Batches', max=15745.0, style=ProgressStyle(descr…"
      ]
     },
     "metadata": {},
     "output_type": "display_data"
    },
    {
     "name": "stdout",
     "output_type": "stream",
     "text": [
      "Training Loss: 1.0638360593003324\n",
      "Training Accuracy: 0.5952365830422356\n"
     ]
    },
    {
     "data": {
      "application/vnd.jupyter.widget-view+json": {
       "model_id": "",
       "version_major": 2,
       "version_minor": 0
      },
      "text/plain": [
       "HBox(children=(FloatProgress(value=0.0, description='Testing Batches', max=7755.0, style=ProgressStyle(descrip…"
      ]
     },
     "metadata": {},
     "output_type": "display_data"
    },
    {
     "name": "stdout",
     "output_type": "stream",
     "text": [
      "Testing Loss: 1.0868567413630639\n",
      "Testing Accuracy: 0.5863313990973565\n"
     ]
    },
    {
     "data": {
      "application/vnd.jupyter.widget-view+json": {
       "model_id": "",
       "version_major": 2,
       "version_minor": 0
      },
      "text/plain": [
       "HBox(children=(FloatProgress(value=0.0, description='Training Batches', max=15745.0, style=ProgressStyle(descr…"
      ]
     },
     "metadata": {},
     "output_type": "display_data"
    },
    {
     "name": "stdout",
     "output_type": "stream",
     "text": [
      "Training Loss: 1.062283603081\n",
      "Training Accuracy: 0.5968243886948238\n"
     ]
    },
    {
     "data": {
      "application/vnd.jupyter.widget-view+json": {
       "model_id": "",
       "version_major": 2,
       "version_minor": 0
      },
      "text/plain": [
       "HBox(children=(FloatProgress(value=0.0, description='Testing Batches', max=7755.0, style=ProgressStyle(descrip…"
      ]
     },
     "metadata": {},
     "output_type": "display_data"
    },
    {
     "name": "stdout",
     "output_type": "stream",
     "text": [
      "Testing Loss: 1.0849375878817982\n",
      "Testing Accuracy: 0.586976144422953\n"
     ]
    },
    {
     "data": {
      "application/vnd.jupyter.widget-view+json": {
       "model_id": "",
       "version_major": 2,
       "version_minor": 0
      },
      "text/plain": [
       "HBox(children=(FloatProgress(value=0.0, description='Training Batches', max=15745.0, style=ProgressStyle(descr…"
      ]
     },
     "metadata": {},
     "output_type": "display_data"
    },
    {
     "name": "stdout",
     "output_type": "stream",
     "text": [
      "Training Loss: 1.0603175230290849\n",
      "Training Accuracy: 0.5958081930771674\n"
     ]
    },
    {
     "data": {
      "application/vnd.jupyter.widget-view+json": {
       "model_id": "",
       "version_major": 2,
       "version_minor": 0
      },
      "text/plain": [
       "HBox(children=(FloatProgress(value=0.0, description='Testing Batches', max=7755.0, style=ProgressStyle(descrip…"
      ]
     },
     "metadata": {},
     "output_type": "display_data"
    },
    {
     "name": "stdout",
     "output_type": "stream",
     "text": [
      "Testing Loss: 1.085214814936789\n",
      "Testing Accuracy: 0.5896840747904578\n"
     ]
    },
    {
     "data": {
      "application/vnd.jupyter.widget-view+json": {
       "model_id": "",
       "version_major": 2,
       "version_minor": 0
      },
      "text/plain": [
       "HBox(children=(FloatProgress(value=0.0, description='Training Batches', max=15745.0, style=ProgressStyle(descr…"
      ]
     },
     "metadata": {},
     "output_type": "display_data"
    },
    {
     "name": "stdout",
     "output_type": "stream",
     "text": [
      "Training Loss: 1.0579319104746578\n",
      "Training Accuracy: 0.5986662432518259\n"
     ]
    },
    {
     "data": {
      "application/vnd.jupyter.widget-view+json": {
       "model_id": "",
       "version_major": 2,
       "version_minor": 0
      },
      "text/plain": [
       "HBox(children=(FloatProgress(value=0.0, description='Testing Batches', max=7755.0, style=ProgressStyle(descrip…"
      ]
     },
     "metadata": {},
     "output_type": "display_data"
    },
    {
     "name": "stdout",
     "output_type": "stream",
     "text": [
      "Testing Loss: 1.088669635653544\n",
      "Testing Accuracy: 0.5829787234042553\n",
      "\n"
     ]
    }
   ],
   "source": [
    "h = 120\n",
    "model = FFNN(50, h, output_dim) # 72 is num of features\n",
    "train_and_evaluate(30, model, train_dataloader, test_dataloader)"
   ]
  },
  {
   "cell_type": "markdown",
   "metadata": {},
   "source": [
    "# Cross Validation"
   ]
  },
  {
   "cell_type": "code",
   "execution_count": 46,
   "metadata": {},
   "outputs": [
    {
     "name": "stderr",
     "output_type": "stream",
     "text": [
      "C:\\Users\\yashm\\anaconda3\\lib\\site-packages\\sklearn\\model_selection\\_split.py:670: UserWarning: The least populated class in y has only 8 members, which is less than n_splits=10.\n",
      "  warnings.warn((\"The least populated class in y has only %d\"\n",
      "C:\\Users\\yashm\\anaconda3\\lib\\site-packages\\sklearn\\model_selection\\_split.py:670: UserWarning: The least populated class in y has only 8 members, which is less than n_splits=10.\n",
      "  warnings.warn((\"The least populated class in y has only %d\"\n"
     ]
    },
    {
     "data": {
      "text/plain": [
       "Text(0.5, 1.0, 'Random Forest')"
      ]
     },
     "execution_count": 46,
     "metadata": {},
     "output_type": "execute_result"
    },
    {
     "data": {
      "image/png": "[encoded data removed]",
      "text/plain": [
       "<Figure size 432x288 with 2 Axes>"
      ]
     },
     "metadata": {
      "needs_background": "light"
     },
     "output_type": "display_data"
    }
   ],
   "source": [
    "DT_clf = DecisionTreeClassifier(class_weight=None, criterion='gini', max_depth=None,\n",
    "            max_features=None, max_leaf_nodes=2900,\n",
    "            min_impurity_decrease=1e-07, min_samples_leaf=1,\n",
    "            min_samples_split=2, min_weight_fraction_leaf=0.0,\n",
    "            random_state=None, splitter='best')\n",
    "RF_clf = RandomForestClassifier(class_weight=None, criterion='entropy', max_depth=None,\n",
    "            max_features=None, max_leaf_nodes=1600,\n",
    "            min_samples_leaf=1,\n",
    "            min_samples_split=2, min_weight_fraction_leaf=0.0,\n",
    "            random_state=None)\n",
    "\n",
    "from sklearn.model_selection import cross_validate\n",
    "\n",
    "dt_results = cross_validate(DT_clf, X, y, return_train_score=True, cv=10)\n",
    "rf_results = cross_validate(RF_clf, X, y, return_train_score=True,cv=10)\n",
    "\n",
    "\n",
    "import matplotlib.pyplot as plt\n",
    "\n",
    "f, (ax1, ax2) = plt.subplots(1, 2)\n",
    "\n",
    "ax1.plot([1,2,3,4,5,6,7,8,9,10],dt_results['test_score'], label='Validation Acc.')\n",
    "ax1.plot([1,2,3,4,5,6,7,8,9,10],dt_results['train_score'], label='Training Acc.')\n",
    "ax1.set_title(\"Decision Tree\")\n",
    "\n",
    "ax2.plot([1,2,3,4,5,6,7,8,9,10],rf_results['test_score'], label='Training Acc.')\n",
    "ax2.plot([1,2,3,4,5,6,7,8,9,10],rf_results['train_score'], label='Validation Acc.')\n",
    "ax2.set_title(\"Random Forest\")"
   ]
  },
  {
   "cell_type": "code",
   "execution_count": null,
   "metadata": {},
   "outputs": [],
   "source": []
  }
 ],
 "metadata": {
  "kernelspec": {
   "display_name": "Python 3",
   "language": "python",
   "name": "python3"
  },
  "language_info": {
   "codemirror_mode": {
    "name": "ipython",
    "version": 3
   },
   "file_extension": ".py",
   "mimetype": "text/x-python",
   "name": "python",
   "nbconvert_exporter": "python",
   "pygments_lexer": "ipython3",
   "version": "3.8.3"
  }
 },
 "nbformat": 4,
 "nbformat_minor": 4
}
