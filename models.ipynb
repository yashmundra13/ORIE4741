{
 "cells": [
  {
   "cell_type": "code",
   "execution_count": 1,
   "metadata": {},
   "outputs": [],
   "source": [
    "%matplotlib inline\n",
    "import matplotlib.pyplot as plt\n",
    "import sys\n",
    "import numpy as np\n",
    "import pandas as pd\n",
    "import matplotlib"
   ]
  },
  {
   "cell_type": "code",
   "execution_count": 4,
   "metadata": {},
   "outputs": [
    {
     "data": {
      "text/html": [
       "<div>\n",
       "<style scoped>\n",
       "    .dataframe tbody tr th:only-of-type {\n",
       "        vertical-align: middle;\n",
       "    }\n",
       "\n",
       "    .dataframe tbody tr th {\n",
       "        vertical-align: top;\n",
       "    }\n",
       "\n",
       "    .dataframe thead th {\n",
       "        text-align: right;\n",
       "    }\n",
       "</style>\n",
       "<table border=\"1\" class=\"dataframe\">\n",
       "  <thead>\n",
       "    <tr style=\"text-align: right;\">\n",
       "      <th></th>\n",
       "      <th>Unnamed: 0</th>\n",
       "      <th>level_0</th>\n",
       "      <th>CollectionDate</th>\n",
       "      <th>FacilityID</th>\n",
       "      <th>State</th>\n",
       "      <th>ContaminantCount</th>\n",
       "      <th>index</th>\n",
       "      <th>FacilityWaterType</th>\n",
       "      <th>Zip</th>\n",
       "      <th>LatitudePWS</th>\n",
       "      <th>...</th>\n",
       "      <th>PercentHighAdditive</th>\n",
       "      <th>PercentHFJob</th>\n",
       "      <th>IngredientName</th>\n",
       "      <th>Purpose</th>\n",
       "      <th>Supplier</th>\n",
       "      <th>JobDuration</th>\n",
       "      <th>TotalBaseWaterVolume</th>\n",
       "      <th>TotalBaseNonWaterVolume</th>\n",
       "      <th>distance_nearest</th>\n",
       "      <th>distance_20_nearest</th>\n",
       "    </tr>\n",
       "  </thead>\n",
       "  <tbody>\n",
       "    <tr>\n",
       "      <td>1</td>\n",
       "      <td>1</td>\n",
       "      <td>13420</td>\n",
       "      <td>2014-02-06</td>\n",
       "      <td>1</td>\n",
       "      <td>CA</td>\n",
       "      <td>28</td>\n",
       "      <td>67540</td>\n",
       "      <td>SW</td>\n",
       "      <td>91802</td>\n",
       "      <td>33.786594</td>\n",
       "      <td>...</td>\n",
       "      <td>30.000000</td>\n",
       "      <td>1.729810</td>\n",
       "      <td>('1-butoxy-2-propanol', 'Calcined Diatomaceous...</td>\n",
       "      <td>('Scale Inhibitor', 'Degradable Sealers', 'Bre...</td>\n",
       "      <td>('Baker Hughes', 'Other Chemicals', 'Operator')</td>\n",
       "      <td>1.0</td>\n",
       "      <td>287133.0</td>\n",
       "      <td>0.0</td>\n",
       "      <td>11.066041</td>\n",
       "      <td>11.722878</td>\n",
       "    </tr>\n",
       "    <tr>\n",
       "      <td>4</td>\n",
       "      <td>4</td>\n",
       "      <td>13423</td>\n",
       "      <td>2014-02-06</td>\n",
       "      <td>1</td>\n",
       "      <td>FL</td>\n",
       "      <td>28</td>\n",
       "      <td>89596</td>\n",
       "      <td>GW</td>\n",
       "      <td>32353</td>\n",
       "      <td>30.549676</td>\n",
       "      <td>...</td>\n",
       "      <td>36.573585</td>\n",
       "      <td>1.897712</td>\n",
       "      <td>('2-Butoxyethanol', 'Ethoxylated Nonylphenol',...</td>\n",
       "      <td>('Water', 'Bulk Acid', 'Other Ingredients', 'A...</td>\n",
       "      <td>('SAGA PETROLEUM', 'Nabors Completion and Prod...</td>\n",
       "      <td>0.0</td>\n",
       "      <td>53000.0</td>\n",
       "      <td>0.0</td>\n",
       "      <td>4.053320</td>\n",
       "      <td>7.282085</td>\n",
       "    </tr>\n",
       "    <tr>\n",
       "      <td>5</td>\n",
       "      <td>5</td>\n",
       "      <td>13424</td>\n",
       "      <td>2014-02-06</td>\n",
       "      <td>1</td>\n",
       "      <td>MA</td>\n",
       "      <td>21</td>\n",
       "      <td>55442</td>\n",
       "      <td>GW</td>\n",
       "      <td>1720</td>\n",
       "      <td>42.477142</td>\n",
       "      <td>...</td>\n",
       "      <td>27.013514</td>\n",
       "      <td>2.688290</td>\n",
       "      <td>('2-Butoxyethanol', 'C-14 N-Alkanes', 'Proparg...</td>\n",
       "      <td>('Non-Emulsifier', 'Iron Control', 'Breaker', ...</td>\n",
       "      <td>('Chemplex', 'Rain for Rent', 'Reagent', 'TSS')</td>\n",
       "      <td>15.0</td>\n",
       "      <td>12878460.0</td>\n",
       "      <td>0.0</td>\n",
       "      <td>4.174925</td>\n",
       "      <td>4.437170</td>\n",
       "    </tr>\n",
       "    <tr>\n",
       "      <td>6</td>\n",
       "      <td>6</td>\n",
       "      <td>13425</td>\n",
       "      <td>2014-02-06</td>\n",
       "      <td>1</td>\n",
       "      <td>MD</td>\n",
       "      <td>26</td>\n",
       "      <td>50446</td>\n",
       "      <td>SW</td>\n",
       "      <td>21078</td>\n",
       "      <td>39.554644</td>\n",
       "      <td>...</td>\n",
       "      <td>32.940000</td>\n",
       "      <td>2.857143</td>\n",
       "      <td>('Diethylene Glycol', 'Di Water', 'Copolymer o...</td>\n",
       "      <td>('Anti-Bacterial Agent', 'Scale Inhibitor', 'B...</td>\n",
       "      <td>('U.S. Well Services', 'Inflection Energy', 'U...</td>\n",
       "      <td>5.0</td>\n",
       "      <td>6132042.0</td>\n",
       "      <td>0.0</td>\n",
       "      <td>1.922339</td>\n",
       "      <td>2.061130</td>\n",
       "    </tr>\n",
       "    <tr>\n",
       "      <td>7</td>\n",
       "      <td>7</td>\n",
       "      <td>13426</td>\n",
       "      <td>2014-02-06</td>\n",
       "      <td>1</td>\n",
       "      <td>MN</td>\n",
       "      <td>21</td>\n",
       "      <td>39511</td>\n",
       "      <td>SW</td>\n",
       "      <td>55427</td>\n",
       "      <td>45.006764</td>\n",
       "      <td>...</td>\n",
       "      <td>23.654167</td>\n",
       "      <td>4.147837</td>\n",
       "      <td>('Silica, Amorphous', 'Nonionic Alkoxylate', '...</td>\n",
       "      <td>('Scale Inhibitor', 'Breaker', 'Carrier', 'Oth...</td>\n",
       "      <td>('Trican', nan, 'Customer')</td>\n",
       "      <td>1.0</td>\n",
       "      <td>90509.0</td>\n",
       "      <td>0.0</td>\n",
       "      <td>8.230094</td>\n",
       "      <td>8.549826</td>\n",
       "    </tr>\n",
       "  </tbody>\n",
       "</table>\n",
       "<p>5 rows × 28 columns</p>\n",
       "</div>"
      ],
      "text/plain": [
       "   Unnamed: 0  level_0 CollectionDate  FacilityID State  ContaminantCount  \\\n",
       "1           1    13420     2014-02-06           1    CA                28   \n",
       "4           4    13423     2014-02-06           1    FL                28   \n",
       "5           5    13424     2014-02-06           1    MA                21   \n",
       "6           6    13425     2014-02-06           1    MD                26   \n",
       "7           7    13426     2014-02-06           1    MN                21   \n",
       "\n",
       "   index FacilityWaterType    Zip  LatitudePWS  ...  PercentHighAdditive  \\\n",
       "1  67540                SW  91802    33.786594  ...            30.000000   \n",
       "4  89596                GW  32353    30.549676  ...            36.573585   \n",
       "5  55442                GW   1720    42.477142  ...            27.013514   \n",
       "6  50446                SW  21078    39.554644  ...            32.940000   \n",
       "7  39511                SW  55427    45.006764  ...            23.654167   \n",
       "\n",
       "   PercentHFJob                                     IngredientName  \\\n",
       "1      1.729810  ('1-butoxy-2-propanol', 'Calcined Diatomaceous...   \n",
       "4      1.897712  ('2-Butoxyethanol', 'Ethoxylated Nonylphenol',...   \n",
       "5      2.688290  ('2-Butoxyethanol', 'C-14 N-Alkanes', 'Proparg...   \n",
       "6      2.857143  ('Diethylene Glycol', 'Di Water', 'Copolymer o...   \n",
       "7      4.147837  ('Silica, Amorphous', 'Nonionic Alkoxylate', '...   \n",
       "\n",
       "                                             Purpose  \\\n",
       "1  ('Scale Inhibitor', 'Degradable Sealers', 'Bre...   \n",
       "4  ('Water', 'Bulk Acid', 'Other Ingredients', 'A...   \n",
       "5  ('Non-Emulsifier', 'Iron Control', 'Breaker', ...   \n",
       "6  ('Anti-Bacterial Agent', 'Scale Inhibitor', 'B...   \n",
       "7  ('Scale Inhibitor', 'Breaker', 'Carrier', 'Oth...   \n",
       "\n",
       "                                            Supplier  JobDuration  \\\n",
       "1    ('Baker Hughes', 'Other Chemicals', 'Operator')          1.0   \n",
       "4  ('SAGA PETROLEUM', 'Nabors Completion and Prod...          0.0   \n",
       "5    ('Chemplex', 'Rain for Rent', 'Reagent', 'TSS')         15.0   \n",
       "6  ('U.S. Well Services', 'Inflection Energy', 'U...          5.0   \n",
       "7                        ('Trican', nan, 'Customer')          1.0   \n",
       "\n",
       "   TotalBaseWaterVolume TotalBaseNonWaterVolume  distance_nearest  \\\n",
       "1              287133.0                     0.0         11.066041   \n",
       "4               53000.0                     0.0          4.053320   \n",
       "5            12878460.0                     0.0          4.174925   \n",
       "6             6132042.0                     0.0          1.922339   \n",
       "7               90509.0                     0.0          8.230094   \n",
       "\n",
       "   distance_20_nearest  \n",
       "1            11.722878  \n",
       "4             7.282085  \n",
       "5             4.437170  \n",
       "6             2.061130  \n",
       "7             8.549826  \n",
       "\n",
       "[5 rows x 28 columns]"
      ]
     },
     "execution_count": 4,
     "metadata": {},
     "output_type": "execute_result"
    }
   ],
   "source": [
    "df = pd.read_csv(\"data/contamination_fracking.csv\")\n",
    "df.dropna(inplace=True)\n",
    "df = df[~df['State'].apply(lambda x: str(x).isdigit())] # in some cases State is reported as a number\n",
    "df.head()"
   ]
  },
  {
   "cell_type": "code",
   "execution_count": 5,
   "metadata": {},
   "outputs": [
    {
     "name": "stdout",
     "output_type": "stream",
     "text": [
      "Index(['Unnamed: 0', 'level_0', 'CollectionDate', 'FacilityID', 'State',\n",
      "       'ContaminantCount', 'index', 'FacilityWaterType', 'Zip', 'LatitudePWS',\n",
      "       'LongitudePWS', 'IsContaminated', 'SizeBool', 'sampleId', 'geometry',\n",
      "       'LatitudeFracking', 'LongitudeFracking', 'JobEndDate',\n",
      "       'PercentHighAdditive', 'PercentHFJob', 'IngredientName', 'Purpose',\n",
      "       'Supplier', 'JobDuration', 'TotalBaseWaterVolume',\n",
      "       'TotalBaseNonWaterVolume', 'distance_nearest', 'distance_20_nearest'],\n",
      "      dtype='object')\n",
      "(23498, 28)\n",
      "['CA' 'FL' 'MA' 'MD' 'MN' 'NC' 'NE' 'NH' 'NY' 'OR' 'PA' 'TN' 'UT' 'VI'\n",
      " 'VT' 'WA' 'WI' 'CO' 'KS' 'RI' 'ID' 'SD' 'AR' 'HI' 'AZ' 'GA' 'KY' 'IA'\n",
      " 'VA' 'TX' 'NJ' 'NV' 'ME' 'SC' 'ND' 'MT' 'DE' 'WV' 'MI' 'LA' 'NM' 'AL'\n",
      " 'MO' 'IN' 'IL' 'OK' 'CT' 'OH' 'MS' 'AK' 'WY' 'PR' 'NN' 'AS']\n",
      "   State  distance_nearest\n",
      "0     AK         43.885362\n",
      "1     AL          1.196160\n",
      "2     AR          0.666612\n",
      "3     AS         76.471819\n",
      "4     AZ          5.093664\n",
      "5     CA         11.832887\n",
      "6     CO          0.483797\n",
      "7     CT          2.775099\n",
      "8     DE          2.374256\n",
      "9     FL          3.315412\n",
      "10    GA          3.203763\n",
      "11    HI         52.305520\n",
      "12    IA          5.429777\n",
      "13    ID          7.569975\n",
      "14    IL          5.179004\n",
      "15    IN          3.886451\n",
      "16    KS          1.209364\n",
      "17    KY          2.647604\n",
      "18    LA          0.459513\n",
      "19    MA          4.538360\n",
      "20    MD          2.450475\n",
      "21    ME          6.045618\n",
      "22    MI          2.169578\n",
      "23    MN          7.580472\n",
      "24    MO          2.946354\n",
      "25    MS          0.705073\n",
      "26    MT          5.481459\n",
      "27    NC          3.192873\n",
      "28    ND          1.197472\n",
      "29    NE          2.770459\n",
      "30    NH          4.413966\n",
      "31    NJ          1.973726\n",
      "32    NM          1.569373\n",
      "33    NN          1.481827\n",
      "34    NV          8.683717\n",
      "35    NY          2.037760\n",
      "36    OH          1.170404\n",
      "37    OK          0.135534\n",
      "38    OR         14.421287\n",
      "39    PA          1.251935\n",
      "40    PR         24.483054\n",
      "41    RI          4.089484\n",
      "42    SC          3.269189\n",
      "43    SD          3.777504\n",
      "44    TN          2.254735\n",
      "45    TX          0.329921\n",
      "46    UT          4.122218\n",
      "47    VA          2.005762\n",
      "48    VI         25.425856\n",
      "49    VT          3.533867\n",
      "50    WA         14.363558\n",
      "51    WI          6.521274\n",
      "52    WV          0.627035\n",
      "53    WY          0.709107\n",
      "   State  distance_20_nearest\n",
      "0     AK            44.432757\n",
      "1     AL             2.095246\n",
      "2     AR             0.805358\n",
      "3     AS            76.542082\n",
      "4     AZ             5.344833\n",
      "5     CA            11.975857\n",
      "6     CO             0.618675\n",
      "7     CT             2.843761\n",
      "8     DE             2.410810\n",
      "9     FL             4.751905\n",
      "10    GA             3.910582\n",
      "11    HI            52.536322\n",
      "12    IA             5.708892\n",
      "13    ID             7.726491\n",
      "14    IL             6.192649\n",
      "15    IN             4.785900\n",
      "16    KS             1.455098\n",
      "17    KY             3.026489\n",
      "18    LA             1.110913\n",
      "19    MA             4.597928\n",
      "20    MD             2.525107\n",
      "21    ME             6.121446\n",
      "22    MI             3.434299\n",
      "23    MN             7.978717\n",
      "24    MO             3.042346\n",
      "25    MS             1.532365\n",
      "26    MT             5.989156\n",
      "27    NC             3.445412\n",
      "28    ND             1.360546\n",
      "29    NE             3.357402\n",
      "30    NH             4.487309\n",
      "31    NJ             2.021032\n",
      "32    NM             1.761313\n",
      "33    NN             1.584547\n",
      "34    NV             8.782083\n",
      "35    NY             2.109008\n",
      "36    OH             1.445691\n",
      "37    OK             0.301158\n",
      "38    OR            14.530588\n",
      "39    PA             1.328004\n",
      "40    PR            24.723149\n",
      "41    RI             4.139144\n",
      "42    SC             3.695796\n",
      "43    SD             4.060746\n",
      "44    TN             2.730625\n",
      "45    TX             0.548611\n",
      "46    UT             4.160904\n",
      "47    VA             2.273057\n",
      "48    VI            25.526678\n",
      "49    VT             3.602252\n",
      "50    WA            14.657393\n",
      "51    WI             7.855699\n",
      "52    WV             0.803661\n",
      "53    WY             0.827434\n",
      "['AR' 'CO' 'KS' 'LA' 'MS' 'ND' 'NM' 'NN' 'OH' 'OK' 'PA' 'TX' 'WV' 'WY']\n",
      "['AK' 'AL' 'AS' 'AZ' 'CA' 'CT' 'DE' 'FL' 'GA' 'HI' 'IA' 'ID' 'IL' 'IN'\n",
      " 'KY' 'MA' 'MD' 'ME' 'MI' 'MN' 'MO' 'MT' 'NC' 'NE' 'NH' 'NJ' 'NV' 'NY'\n",
      " 'OR' 'PR' 'RI' 'SC' 'SD' 'TN' 'UT' 'VA' 'VI' 'VT' 'WA' 'WI']\n"
     ]
    }
   ],
   "source": [
    "print(df.columns)\n",
    "print(df.shape)\n",
    "print(df.State.unique())\n",
    "print(df.groupby('State', as_index=False)['distance_nearest'].mean())\n",
    "print(df.groupby('State', as_index=False)['distance_20_nearest'].mean())\n",
    "dftmp = df.groupby('State', as_index=False)['distance_20_nearest'].mean()\n",
    "states_common = dftmp[dftmp['distance_20_nearest'] <2 ].State.unique()\n",
    "states_sparse = dftmp[dftmp['distance_20_nearest'] >=2 ].State.unique()\n",
    "print(states_common)\n",
    "print(states_sparse)\n"
   ]
  },
  {
   "cell_type": "code",
   "execution_count": 6,
   "metadata": {},
   "outputs": [
    {
     "name": "stdout",
     "output_type": "stream",
     "text": [
      "(23498, 84)\n"
     ]
    }
   ],
   "source": [
    "from sklearn.preprocessing import OneHotEncoder\n",
    "\n",
    "enc = OneHotEncoder()\n",
    "df_ohe = df.copy()\n",
    "#print(df_ohe.columns)\n",
    "#df_ohe = df_ohe[df_ohe.State.isin(states_common)]\n",
    "#print(type(df_ohe))\n",
    "for col in ['FacilityWaterType','State']:\n",
    "    ohe = pd.get_dummies(df_ohe[col], prefix='{}'.format(col))\n",
    "    df_ohe = df_ohe.drop(col, 1) # drop the column that we are OHE-ing\n",
    "    df_ohe = pd.concat([df_ohe.reset_index(drop=True), ohe.reset_index(drop=True)], axis=1)\n",
    "print(df_ohe.shape)"
   ]
  },
  {
   "cell_type": "code",
   "execution_count": 7,
   "metadata": {},
   "outputs": [
    {
     "name": "stdout",
     "output_type": "stream",
     "text": [
      "Index(['FacilityID', 'ContaminantCount', 'LatitudePWS', 'LongitudePWS',\n",
      "       'IsContaminated', 'SizeBool', 'LatitudeFracking', 'LongitudeFracking',\n",
      "       'PercentHighAdditive', 'PercentHFJob', 'JobDuration',\n",
      "       'TotalBaseWaterVolume', 'TotalBaseNonWaterVolume', 'distance_nearest',\n",
      "       'distance_20_nearest', 'FacilityWaterType_GU', 'FacilityWaterType_GW',\n",
      "       'FacilityWaterType_MX', 'FacilityWaterType_SW', 'State_AK', 'State_AL',\n",
      "       'State_AR', 'State_AS', 'State_AZ', 'State_CA', 'State_CO', 'State_CT',\n",
      "       'State_DE', 'State_FL', 'State_GA', 'State_HI', 'State_IA', 'State_ID',\n",
      "       'State_IL', 'State_IN', 'State_KS', 'State_KY', 'State_LA', 'State_MA',\n",
      "       'State_MD', 'State_ME', 'State_MI', 'State_MN', 'State_MO', 'State_MS',\n",
      "       'State_MT', 'State_NC', 'State_ND', 'State_NE', 'State_NH', 'State_NJ',\n",
      "       'State_NM', 'State_NN', 'State_NV', 'State_NY', 'State_OH', 'State_OK',\n",
      "       'State_OR', 'State_PA', 'State_PR', 'State_RI', 'State_SC', 'State_SD',\n",
      "       'State_TN', 'State_TX', 'State_UT', 'State_VA', 'State_VI', 'State_VT',\n",
      "       'State_WA', 'State_WI', 'State_WV', 'State_WY'],\n",
      "      dtype='object')\n"
     ]
    },
    {
     "data": {
      "text/html": [
       "<div>\n",
       "<style scoped>\n",
       "    .dataframe tbody tr th:only-of-type {\n",
       "        vertical-align: middle;\n",
       "    }\n",
       "\n",
       "    .dataframe tbody tr th {\n",
       "        vertical-align: top;\n",
       "    }\n",
       "\n",
       "    .dataframe thead th {\n",
       "        text-align: right;\n",
       "    }\n",
       "</style>\n",
       "<table border=\"1\" class=\"dataframe\">\n",
       "  <thead>\n",
       "    <tr style=\"text-align: right;\">\n",
       "      <th></th>\n",
       "      <th>FacilityID</th>\n",
       "      <th>ContaminantCount</th>\n",
       "      <th>LatitudePWS</th>\n",
       "      <th>LongitudePWS</th>\n",
       "      <th>IsContaminated</th>\n",
       "      <th>SizeBool</th>\n",
       "      <th>LatitudeFracking</th>\n",
       "      <th>LongitudeFracking</th>\n",
       "      <th>PercentHighAdditive</th>\n",
       "      <th>PercentHFJob</th>\n",
       "      <th>...</th>\n",
       "      <th>State_TN</th>\n",
       "      <th>State_TX</th>\n",
       "      <th>State_UT</th>\n",
       "      <th>State_VA</th>\n",
       "      <th>State_VI</th>\n",
       "      <th>State_VT</th>\n",
       "      <th>State_WA</th>\n",
       "      <th>State_WI</th>\n",
       "      <th>State_WV</th>\n",
       "      <th>State_WY</th>\n",
       "    </tr>\n",
       "  </thead>\n",
       "  <tbody>\n",
       "    <tr>\n",
       "      <td>0</td>\n",
       "      <td>1</td>\n",
       "      <td>28</td>\n",
       "      <td>33.786594</td>\n",
       "      <td>-118.298662</td>\n",
       "      <td>1</td>\n",
       "      <td>0</td>\n",
       "      <td>36.200230</td>\n",
       "      <td>-107.499050</td>\n",
       "      <td>30.000000</td>\n",
       "      <td>1.729810</td>\n",
       "      <td>...</td>\n",
       "      <td>0</td>\n",
       "      <td>0</td>\n",
       "      <td>0</td>\n",
       "      <td>0</td>\n",
       "      <td>0</td>\n",
       "      <td>0</td>\n",
       "      <td>0</td>\n",
       "      <td>0</td>\n",
       "      <td>0</td>\n",
       "      <td>0</td>\n",
       "    </tr>\n",
       "    <tr>\n",
       "      <td>1</td>\n",
       "      <td>1</td>\n",
       "      <td>28</td>\n",
       "      <td>30.549676</td>\n",
       "      <td>-84.606864</td>\n",
       "      <td>0</td>\n",
       "      <td>0</td>\n",
       "      <td>33.406510</td>\n",
       "      <td>-87.482260</td>\n",
       "      <td>36.573585</td>\n",
       "      <td>1.897712</td>\n",
       "      <td>...</td>\n",
       "      <td>0</td>\n",
       "      <td>0</td>\n",
       "      <td>0</td>\n",
       "      <td>0</td>\n",
       "      <td>0</td>\n",
       "      <td>0</td>\n",
       "      <td>0</td>\n",
       "      <td>0</td>\n",
       "      <td>0</td>\n",
       "      <td>0</td>\n",
       "    </tr>\n",
       "    <tr>\n",
       "      <td>2</td>\n",
       "      <td>1</td>\n",
       "      <td>21</td>\n",
       "      <td>42.477142</td>\n",
       "      <td>-71.442200</td>\n",
       "      <td>0</td>\n",
       "      <td>0</td>\n",
       "      <td>41.812000</td>\n",
       "      <td>-75.563800</td>\n",
       "      <td>27.013514</td>\n",
       "      <td>2.688290</td>\n",
       "      <td>...</td>\n",
       "      <td>0</td>\n",
       "      <td>0</td>\n",
       "      <td>0</td>\n",
       "      <td>0</td>\n",
       "      <td>0</td>\n",
       "      <td>0</td>\n",
       "      <td>0</td>\n",
       "      <td>0</td>\n",
       "      <td>0</td>\n",
       "      <td>0</td>\n",
       "    </tr>\n",
       "    <tr>\n",
       "      <td>3</td>\n",
       "      <td>1</td>\n",
       "      <td>26</td>\n",
       "      <td>39.554644</td>\n",
       "      <td>-76.111180</td>\n",
       "      <td>0</td>\n",
       "      <td>0</td>\n",
       "      <td>41.312447</td>\n",
       "      <td>-76.889328</td>\n",
       "      <td>32.940000</td>\n",
       "      <td>2.857143</td>\n",
       "      <td>...</td>\n",
       "      <td>0</td>\n",
       "      <td>0</td>\n",
       "      <td>0</td>\n",
       "      <td>0</td>\n",
       "      <td>0</td>\n",
       "      <td>0</td>\n",
       "      <td>0</td>\n",
       "      <td>0</td>\n",
       "      <td>0</td>\n",
       "      <td>0</td>\n",
       "    </tr>\n",
       "    <tr>\n",
       "      <td>4</td>\n",
       "      <td>1</td>\n",
       "      <td>21</td>\n",
       "      <td>45.006764</td>\n",
       "      <td>-93.382230</td>\n",
       "      <td>0</td>\n",
       "      <td>0</td>\n",
       "      <td>48.960520</td>\n",
       "      <td>-100.600420</td>\n",
       "      <td>23.654167</td>\n",
       "      <td>4.147837</td>\n",
       "      <td>...</td>\n",
       "      <td>0</td>\n",
       "      <td>0</td>\n",
       "      <td>0</td>\n",
       "      <td>0</td>\n",
       "      <td>0</td>\n",
       "      <td>0</td>\n",
       "      <td>0</td>\n",
       "      <td>0</td>\n",
       "      <td>0</td>\n",
       "      <td>0</td>\n",
       "    </tr>\n",
       "  </tbody>\n",
       "</table>\n",
       "<p>5 rows × 73 columns</p>\n",
       "</div>"
      ],
      "text/plain": [
       "   FacilityID  ContaminantCount  LatitudePWS  LongitudePWS  IsContaminated  \\\n",
       "0           1                28    33.786594   -118.298662               1   \n",
       "1           1                28    30.549676    -84.606864               0   \n",
       "2           1                21    42.477142    -71.442200               0   \n",
       "3           1                26    39.554644    -76.111180               0   \n",
       "4           1                21    45.006764    -93.382230               0   \n",
       "\n",
       "   SizeBool  LatitudeFracking  LongitudeFracking  PercentHighAdditive  \\\n",
       "0         0         36.200230        -107.499050            30.000000   \n",
       "1         0         33.406510         -87.482260            36.573585   \n",
       "2         0         41.812000         -75.563800            27.013514   \n",
       "3         0         41.312447         -76.889328            32.940000   \n",
       "4         0         48.960520        -100.600420            23.654167   \n",
       "\n",
       "   PercentHFJob  ...  State_TN  State_TX  State_UT  State_VA  State_VI  \\\n",
       "0      1.729810  ...         0         0         0         0         0   \n",
       "1      1.897712  ...         0         0         0         0         0   \n",
       "2      2.688290  ...         0         0         0         0         0   \n",
       "3      2.857143  ...         0         0         0         0         0   \n",
       "4      4.147837  ...         0         0         0         0         0   \n",
       "\n",
       "   State_VT  State_WA  State_WI  State_WV  State_WY  \n",
       "0         0         0         0         0         0  \n",
       "1         0         0         0         0         0  \n",
       "2         0         0         0         0         0  \n",
       "3         0         0         0         0         0  \n",
       "4         0         0         0         0         0  \n",
       "\n",
       "[5 rows x 73 columns]"
      ]
     },
     "execution_count": 7,
     "metadata": {},
     "output_type": "execute_result"
    }
   ],
   "source": [
    "df_ohe = df_ohe.drop(['Unnamed: 0', # artifact of KNN\n",
    "                      'level_0', # artifact of merging\n",
    "                      'index', # artifact of merging\n",
    "                      'sampleId', # artifact of EDA\n",
    "                      'geometry', # artifact of KNN\n",
    "                      'JobEndDate', # will use duration instead of end date\n",
    "                      'IngredientName', # not currently encoding this\n",
    "                      'Zip', # not currently encoding this\n",
    "                      'CollectionDate', # do not need this\n",
    "                      'Supplier', # not currently encoding this\n",
    "                      'Purpose', # not currently encoding this \n",
    "                     ], axis=1)\n",
    "print(df_ohe.columns)\n",
    "df_ohe.head()"
   ]
  },
  {
   "cell_type": "code",
   "execution_count": 9,
   "metadata": {},
   "outputs": [
    {
     "name": "stdout",
     "output_type": "stream",
     "text": [
      "<class 'numpy.ndarray'>\n"
     ]
    }
   ],
   "source": [
    "import torch\n",
    "import torch.optim as optim\n",
    "from torch.utils.data import Dataset, DataLoader, SubsetRandomSampler, TensorDataset\n",
    "import tqdm \n",
    "from sklearn.model_selection import train_test_split\n",
    "import torch.nn as nn\n",
    "from tqdm.notebook import tqdm, trange\n",
    "from ipywidgets import IntProgress\n",
    "from sklearn import preprocessing\n",
    "\n",
    "df_ohe['CCCategory'] = df_ohe.apply(lambda row: 6 if row.ContaminantCount > 30 else row.ContaminantCount//6, axis=1)\n",
    "y = df_ohe['CCCategory'].values\n",
    "output_dim = len(df_ohe['CCCategory'].unique())\n",
    "df_ohe = df_ohe.drop(['CCCategory'], axis=1)\n",
    "#y = df_ohe['ContaminantCount'].values\n",
    "print(type(y))\n",
    "X = df_ohe.loc[:, df_ohe.columns != 'ContaminantCount'].to_numpy()\n",
    "X_train, X_test, y_train, y_test = train_test_split(\n",
    "    X, y, test_size=0.33, random_state=42)"
   ]
  },
  {
   "cell_type": "markdown",
   "metadata": {},
   "source": [
    "# Neural Network"
   ]
  },
  {
   "cell_type": "code",
   "execution_count": 10,
   "metadata": {},
   "outputs": [],
   "source": [
    "#torch_tensor_cc = torch.tensor(df_ohe['ContaminantCount'].values)\n",
    "#torch_tensor_vec = torch.from_numpy(df_ohe.loc[:, df_ohe.columns != 'ContaminantCount'].to_numpy())\n",
    "scaler = preprocessing.MinMaxScaler().fit(X_train)\n",
    "X_train = scaler.transform(X_train)\n",
    "X_test = scaler.transform(X_test)\n",
    "tensor_X_train = torch.tensor(X_train)\n",
    "tensor_y_train = torch.tensor(y_train)\n",
    "tensor_X_test = torch.tensor(X_test)\n",
    "tensor_y_test = torch.tensor(y_test)"
   ]
  },
  {
   "cell_type": "code",
   "execution_count": 11,
   "metadata": {},
   "outputs": [
    {
     "name": "stdout",
     "output_type": "stream",
     "text": [
      "(23498, 73)\n",
      "torch.Size([15743, 72])\n",
      "torch.Size([7755, 72])\n",
      "torch.Size([15743])\n",
      "torch.Size([7755])\n"
     ]
    }
   ],
   "source": [
    "print(df_ohe.shape)\n",
    "print(tensor_X_train.shape)\n",
    "print(tensor_X_test.shape)\n",
    "print(tensor_y_train.shape)\n",
    "print(tensor_y_test.shape)"
   ]
  },
  {
   "cell_type": "code",
   "execution_count": 12,
   "metadata": {},
   "outputs": [],
   "source": [
    "train_dataset = TensorDataset(tensor_X_train, tensor_y_train) \n",
    "test_dataset = TensorDataset(tensor_X_test, tensor_y_test)\n",
    "train_dataloader = DataLoader(train_dataset, batch_size=1)\n",
    "test_dataloader = DataLoader(test_dataset, batch_size=1)"
   ]
  },
  {
   "cell_type": "code",
   "execution_count": 13,
   "metadata": {},
   "outputs": [],
   "source": [
    "class FFNN(nn.Module):\n",
    "    def __init__(self, input_dim, h, output_dim): #input_dim=len(vocab),h=512,output_dim=len(emoticons)\n",
    "        super(FFNN, self).__init__()\n",
    "        self.h = h\n",
    "        self.W1 = nn.Linear(input_dim, h)\n",
    "        self.activation1 = nn.ReLU() # The rectified linear unit; one valid choice of activation function\n",
    "        self.W2 = nn.Linear(h, output_dim) \n",
    "        self.activation2 = nn.LogSoftmax(dim=1)\n",
    "        self.loss = nn.NLLLoss()\n",
    "    \n",
    "    def forward(self, input_vector):\n",
    "        z1 = self.W1(input_vector.float())\n",
    "        z2 = self.activation1(z1)\n",
    "        z3 = self.W2(z2)\n",
    "        #print('Softmax: {}'.format(str(self.softmax(z3))))\n",
    "        #print(z1)\n",
    "        #print(z2)\n",
    "        #print(z3)\n",
    "        return self.activation2(z3)\n",
    "    \n",
    "    def compute_loss(self, predicted_vector, gold_label):\n",
    "        return self.loss(predicted_vector, gold_label.long())\n",
    "    \n",
    "    def load_model(self, save_path):\n",
    "        self.load_state_dict(torch.load(save_path))\n",
    "\n",
    "    def save_model(self, save_path):\n",
    "        torch.save(self.state_dict(), save_path)\n",
    "\n",
    "def train_epoch(model, train_loader, optimizer):\n",
    "    model.train()\n",
    "    iters = 0\n",
    "    loss = 0.0\n",
    "    running_loss = 0\n",
    "    running_accuracy = 0\n",
    "    for (input_batch, expected_out) in tqdm(train_loader, leave=False, desc=\"Training Batches\"):\n",
    "        output = model(input_batch)\n",
    "        predicted = output.argmax(dim=1,keepdim=True)\n",
    "        optimizer.zero_grad()\n",
    "        loss = model.compute_loss(output, expected_out)\n",
    "        acc = np.true_divide(predicted.squeeze(1).eq(expected_out).sum(),len(expected_out))\n",
    "        loss.backward()\n",
    "        optimizer.step()\n",
    "        running_loss += loss.item()\n",
    "        running_accuracy += acc.item()\n",
    "        iters +=1\n",
    "        #print(running_loss)\n",
    "    print('Training Loss: {}'.format(running_loss/iters))\n",
    "    print('Training Accuracy: {}'.format(running_accuracy/iters))\n",
    "    \n",
    "def evaluation(model, test_loader, optimizer):\n",
    "    model.eval()\n",
    "    iters = 0\n",
    "    loss = 0.0\n",
    "    running_loss = 0\n",
    "    running_accuracy = 0\n",
    "    for (input_batch, expected_out) in tqdm(test_loader, leave=False, desc=\"Testing Batches\"):\n",
    "        output = model(input_batch)\n",
    "        predicted = output.argmax(dim=1,keepdim=True)\n",
    "        loss = model.compute_loss(output, expected_out)\n",
    "        acc = np.true_divide(predicted.squeeze(1).eq(expected_out).sum(),len(expected_out))\n",
    "        running_loss += loss.item()\n",
    "        running_accuracy += acc.item()\n",
    "        iters +=1\n",
    "        #print(running_loss)\n",
    "    print('Testing Loss: {}'.format(running_loss/iters))\n",
    "    print('Testing Accuracy: {}'.format(running_accuracy/iters))\n",
    "    \n",
    "def train_and_evaluate(number_of_epochs, model, train_loader, val_loader):\n",
    "    optimizer = optim.SGD(model.parameters(), lr=0.001, momentum=0.9)\n",
    "    for epoch in trange(number_of_epochs, desc=\"Epochs\"):\n",
    "        train_epoch(model, train_loader, optimizer)\n",
    "        evaluation(model, val_loader, optimizer)\n"
   ]
  },
  {
   "cell_type": "code",
   "execution_count": 14,
   "metadata": {},
   "outputs": [
    {
     "data": {
      "application/vnd.jupyter.widget-view+json": {
       "model_id": "46c0dd138a2d4c8b850dced68aa37634",
       "version_major": 2,
       "version_minor": 0
      },
      "text/plain": [
       "HBox(children=(IntProgress(value=0, description='Epochs', max=30, style=ProgressStyle(description_width='initi…"
      ]
     },
     "metadata": {},
     "output_type": "display_data"
    },
    {
     "data": {
      "application/vnd.jupyter.widget-view+json": {
       "model_id": "",
       "version_major": 2,
       "version_minor": 0
      },
      "text/plain": [
       "HBox(children=(IntProgress(value=0, description='Training Batches', max=15743, style=ProgressStyle(description…"
      ]
     },
     "metadata": {},
     "output_type": "display_data"
    },
    {
     "name": "stdout",
     "output_type": "stream",
     "text": [
      "Training Loss: 1.2669600621712962\n",
      "Training Accuracy: 0.5086069999364797\n"
     ]
    },
    {
     "data": {
      "application/vnd.jupyter.widget-view+json": {
       "model_id": "",
       "version_major": 2,
       "version_minor": 0
      },
      "text/plain": [
       "HBox(children=(IntProgress(value=0, description='Testing Batches', max=7755, style=ProgressStyle(description_w…"
      ]
     },
     "metadata": {},
     "output_type": "display_data"
    },
    {
     "name": "stdout",
     "output_type": "stream",
     "text": [
      "Testing Loss: 1.2366834195572127\n",
      "Testing Accuracy: 0.5125725338491296\n"
     ]
    },
    {
     "data": {
      "application/vnd.jupyter.widget-view+json": {
       "model_id": "",
       "version_major": 2,
       "version_minor": 0
      },
      "text/plain": [
       "HBox(children=(IntProgress(value=0, description='Training Batches', max=15743, style=ProgressStyle(description…"
      ]
     },
     "metadata": {},
     "output_type": "display_data"
    },
    {
     "name": "stdout",
     "output_type": "stream",
     "text": [
      "Training Loss: 1.1888914968294761\n",
      "Training Accuracy: 0.5397319443562218\n"
     ]
    },
    {
     "data": {
      "application/vnd.jupyter.widget-view+json": {
       "model_id": "",
       "version_major": 2,
       "version_minor": 0
      },
      "text/plain": [
       "HBox(children=(IntProgress(value=0, description='Testing Batches', max=7755, style=ProgressStyle(description_w…"
      ]
     },
     "metadata": {},
     "output_type": "display_data"
    },
    {
     "name": "stdout",
     "output_type": "stream",
     "text": [
      "Testing Loss: 1.2053514546046404\n",
      "Testing Accuracy: 0.5255963894261767\n"
     ]
    },
    {
     "data": {
      "application/vnd.jupyter.widget-view+json": {
       "model_id": "",
       "version_major": 2,
       "version_minor": 0
      },
      "text/plain": [
       "HBox(children=(IntProgress(value=0, description='Training Batches', max=15743, style=ProgressStyle(description…"
      ]
     },
     "metadata": {},
     "output_type": "display_data"
    },
    {
     "name": "stdout",
     "output_type": "stream",
     "text": [
      "Training Loss: 1.1599606129017292\n",
      "Training Accuracy: 0.5518008003557137\n"
     ]
    },
    {
     "data": {
      "application/vnd.jupyter.widget-view+json": {
       "model_id": "",
       "version_major": 2,
       "version_minor": 0
      },
      "text/plain": [
       "HBox(children=(IntProgress(value=0, description='Testing Batches', max=7755, style=ProgressStyle(description_w…"
      ]
     },
     "metadata": {},
     "output_type": "display_data"
    },
    {
     "name": "stdout",
     "output_type": "stream",
     "text": [
      "Testing Loss: 1.1790328076814236\n",
      "Testing Accuracy: 0.536428110896196\n"
     ]
    },
    {
     "data": {
      "application/vnd.jupyter.widget-view+json": {
       "model_id": "",
       "version_major": 2,
       "version_minor": 0
      },
      "text/plain": [
       "HBox(children=(IntProgress(value=0, description='Training Batches', max=15743, style=ProgressStyle(description…"
      ]
     },
     "metadata": {},
     "output_type": "display_data"
    },
    {
     "name": "stdout",
     "output_type": "stream",
     "text": [
      "Training Loss: 1.1366868100980883\n",
      "Training Accuracy: 0.5624722098710538\n"
     ]
    },
    {
     "data": {
      "application/vnd.jupyter.widget-view+json": {
       "model_id": "",
       "version_major": 2,
       "version_minor": 0
      },
      "text/plain": [
       "HBox(children=(IntProgress(value=0, description='Testing Batches', max=7755, style=ProgressStyle(description_w…"
      ]
     },
     "metadata": {},
     "output_type": "display_data"
    },
    {
     "name": "stdout",
     "output_type": "stream",
     "text": [
      "Testing Loss: 1.1592176667620566\n",
      "Testing Accuracy: 0.5513862024500322\n"
     ]
    },
    {
     "data": {
      "application/vnd.jupyter.widget-view+json": {
       "model_id": "",
       "version_major": 2,
       "version_minor": 0
      },
      "text/plain": [
       "HBox(children=(IntProgress(value=0, description='Training Batches', max=15743, style=ProgressStyle(description…"
      ]
     },
     "metadata": {},
     "output_type": "display_data"
    },
    {
     "name": "stdout",
     "output_type": "stream",
     "text": [
      "Training Loss: 1.1184845543418886\n",
      "Training Accuracy: 0.5704757670075589\n"
     ]
    },
    {
     "data": {
      "application/vnd.jupyter.widget-view+json": {
       "model_id": "",
       "version_major": 2,
       "version_minor": 0
      },
      "text/plain": [
       "HBox(children=(IntProgress(value=0, description='Testing Batches', max=7755, style=ProgressStyle(description_w…"
      ]
     },
     "metadata": {},
     "output_type": "display_data"
    },
    {
     "name": "stdout",
     "output_type": "stream",
     "text": [
      "Testing Loss: 1.1460760179304217\n",
      "Testing Accuracy: 0.5568020631850419\n"
     ]
    },
    {
     "data": {
      "application/vnd.jupyter.widget-view+json": {
       "model_id": "",
       "version_major": 2,
       "version_minor": 0
      },
      "text/plain": [
       "HBox(children=(IntProgress(value=0, description='Training Batches', max=15743, style=ProgressStyle(description…"
      ]
     },
     "metadata": {},
     "output_type": "display_data"
    },
    {
     "name": "stdout",
     "output_type": "stream",
     "text": [
      "Training Loss: 1.104359517236357\n",
      "Training Accuracy: 0.5762561138283682\n"
     ]
    },
    {
     "data": {
      "application/vnd.jupyter.widget-view+json": {
       "model_id": "",
       "version_major": 2,
       "version_minor": 0
      },
      "text/plain": [
       "HBox(children=(IntProgress(value=0, description='Testing Batches', max=7755, style=ProgressStyle(description_w…"
      ]
     },
     "metadata": {},
     "output_type": "display_data"
    },
    {
     "name": "stdout",
     "output_type": "stream",
     "text": [
      "Testing Loss: 1.1360008346311974\n",
      "Testing Accuracy: 0.5600257898130239\n"
     ]
    },
    {
     "data": {
      "application/vnd.jupyter.widget-view+json": {
       "model_id": "",
       "version_major": 2,
       "version_minor": 0
      },
      "text/plain": [
       "HBox(children=(IntProgress(value=0, description='Training Batches', max=15743, style=ProgressStyle(description…"
      ]
     },
     "metadata": {},
     "output_type": "display_data"
    },
    {
     "name": "stdout",
     "output_type": "stream",
     "text": [
      "Training Loss: 1.0931930913314396\n",
      "Training Accuracy: 0.5805119735755574\n"
     ]
    },
    {
     "data": {
      "application/vnd.jupyter.widget-view+json": {
       "model_id": "",
       "version_major": 2,
       "version_minor": 0
      },
      "text/plain": [
       "HBox(children=(IntProgress(value=0, description='Testing Batches', max=7755, style=ProgressStyle(description_w…"
      ]
     },
     "metadata": {},
     "output_type": "display_data"
    },
    {
     "name": "stdout",
     "output_type": "stream",
     "text": [
      "Testing Loss: 1.1325890108270464\n",
      "Testing Accuracy: 0.5645390070921986\n"
     ]
    },
    {
     "data": {
      "application/vnd.jupyter.widget-view+json": {
       "model_id": "",
       "version_major": 2,
       "version_minor": 0
      },
      "text/plain": [
       "HBox(children=(IntProgress(value=0, description='Training Batches', max=15743, style=ProgressStyle(description…"
      ]
     },
     "metadata": {},
     "output_type": "display_data"
    },
    {
     "name": "stdout",
     "output_type": "stream",
     "text": [
      "Training Loss: 1.0839754625516467\n",
      "Training Accuracy: 0.5831163056596582\n"
     ]
    },
    {
     "data": {
      "application/vnd.jupyter.widget-view+json": {
       "model_id": "",
       "version_major": 2,
       "version_minor": 0
      },
      "text/plain": [
       "HBox(children=(IntProgress(value=0, description='Testing Batches', max=7755, style=ProgressStyle(description_w…"
      ]
     },
     "metadata": {},
     "output_type": "display_data"
    },
    {
     "name": "stdout",
     "output_type": "stream",
     "text": [
      "Testing Loss: 1.1288857168037034\n",
      "Testing Accuracy: 0.566602192134107\n"
     ]
    },
    {
     "data": {
      "application/vnd.jupyter.widget-view+json": {
       "model_id": "",
       "version_major": 2,
       "version_minor": 0
      },
      "text/plain": [
       "HBox(children=(IntProgress(value=0, description='Training Batches', max=15743, style=ProgressStyle(description…"
      ]
     },
     "metadata": {},
     "output_type": "display_data"
    },
    {
     "name": "stdout",
     "output_type": "stream",
     "text": [
      "Training Loss: 1.0757809825360354\n",
      "Training Accuracy: 0.5867369624595058\n"
     ]
    },
    {
     "data": {
      "application/vnd.jupyter.widget-view+json": {
       "model_id": "",
       "version_major": 2,
       "version_minor": 0
      },
      "text/plain": [
       "HBox(children=(IntProgress(value=0, description='Testing Batches', max=7755, style=ProgressStyle(description_w…"
      ]
     },
     "metadata": {},
     "output_type": "display_data"
    },
    {
     "name": "stdout",
     "output_type": "stream",
     "text": [
      "Testing Loss: 1.1251347809809011\n",
      "Testing Accuracy: 0.5690522243713733\n"
     ]
    },
    {
     "data": {
      "application/vnd.jupyter.widget-view+json": {
       "model_id": "",
       "version_major": 2,
       "version_minor": 0
      },
      "text/plain": [
       "HBox(children=(IntProgress(value=0, description='Training Batches', max=15743, style=ProgressStyle(description…"
      ]
     },
     "metadata": {},
     "output_type": "display_data"
    },
    {
     "name": "stdout",
     "output_type": "stream",
     "text": [
      "Training Loss: 1.0687869694537078\n",
      "Training Accuracy: 0.5895318554278092\n"
     ]
    },
    {
     "data": {
      "application/vnd.jupyter.widget-view+json": {
       "model_id": "",
       "version_major": 2,
       "version_minor": 0
      },
      "text/plain": [
       "HBox(children=(IntProgress(value=0, description='Testing Batches', max=7755, style=ProgressStyle(description_w…"
      ]
     },
     "metadata": {},
     "output_type": "display_data"
    },
    {
     "name": "stdout",
     "output_type": "stream",
     "text": [
      "Testing Loss: 1.1236436442674398\n",
      "Testing Accuracy: 0.5731785944551901\n"
     ]
    },
    {
     "data": {
      "application/vnd.jupyter.widget-view+json": {
       "model_id": "",
       "version_major": 2,
       "version_minor": 0
      },
      "text/plain": [
       "HBox(children=(IntProgress(value=0, description='Training Batches', max=15743, style=ProgressStyle(description…"
      ]
     },
     "metadata": {},
     "output_type": "display_data"
    },
    {
     "name": "stdout",
     "output_type": "stream",
     "text": [
      "Training Loss: 1.0626004958143258\n",
      "Training Accuracy: 0.5915009845645683\n"
     ]
    },
    {
     "data": {
      "application/vnd.jupyter.widget-view+json": {
       "model_id": "",
       "version_major": 2,
       "version_minor": 0
      },
      "text/plain": [
       "HBox(children=(IntProgress(value=0, description='Testing Batches', max=7755, style=ProgressStyle(description_w…"
      ]
     },
     "metadata": {},
     "output_type": "display_data"
    },
    {
     "name": "stdout",
     "output_type": "stream",
     "text": [
      "Testing Loss: 1.120628663396966\n",
      "Testing Accuracy: 0.5775628626692456\n"
     ]
    },
    {
     "data": {
      "application/vnd.jupyter.widget-view+json": {
       "model_id": "",
       "version_major": 2,
       "version_minor": 0
      },
      "text/plain": [
       "HBox(children=(IntProgress(value=0, description='Training Batches', max=15743, style=ProgressStyle(description…"
      ]
     },
     "metadata": {},
     "output_type": "display_data"
    },
    {
     "name": "stdout",
     "output_type": "stream",
     "text": [
      "Training Loss: 1.0569185565763466\n",
      "Training Accuracy: 0.5954392428380868\n"
     ]
    },
    {
     "data": {
      "application/vnd.jupyter.widget-view+json": {
       "model_id": "",
       "version_major": 2,
       "version_minor": 0
      },
      "text/plain": [
       "HBox(children=(IntProgress(value=0, description='Testing Batches', max=7755, style=ProgressStyle(description_w…"
      ]
     },
     "metadata": {},
     "output_type": "display_data"
    },
    {
     "name": "stdout",
     "output_type": "stream",
     "text": [
      "Testing Loss: 1.1192630433302726\n",
      "Testing Accuracy: 0.5774339136041263\n"
     ]
    },
    {
     "data": {
      "application/vnd.jupyter.widget-view+json": {
       "model_id": "",
       "version_major": 2,
       "version_minor": 0
      },
      "text/plain": [
       "HBox(children=(IntProgress(value=0, description='Training Batches', max=15743, style=ProgressStyle(description…"
      ]
     },
     "metadata": {},
     "output_type": "display_data"
    },
    {
     "name": "stdout",
     "output_type": "stream",
     "text": [
      "Training Loss: 1.0510272631456115\n",
      "Training Accuracy: 0.5984246966905926\n"
     ]
    },
    {
     "data": {
      "application/vnd.jupyter.widget-view+json": {
       "model_id": "",
       "version_major": 2,
       "version_minor": 0
      },
      "text/plain": [
       "HBox(children=(IntProgress(value=0, description='Testing Batches', max=7755, style=ProgressStyle(description_w…"
      ]
     },
     "metadata": {},
     "output_type": "display_data"
    },
    {
     "name": "stdout",
     "output_type": "stream",
     "text": [
      "Testing Loss: 1.1142012473481613\n",
      "Testing Accuracy: 0.5797549967762734\n"
     ]
    },
    {
     "data": {
      "application/vnd.jupyter.widget-view+json": {
       "model_id": "",
       "version_major": 2,
       "version_minor": 0
      },
      "text/plain": [
       "HBox(children=(IntProgress(value=0, description='Training Batches', max=15743, style=ProgressStyle(description…"
      ]
     },
     "metadata": {},
     "output_type": "display_data"
    },
    {
     "name": "stdout",
     "output_type": "stream",
     "text": [
      "Training Loss: 1.0454545333109053\n",
      "Training Accuracy: 0.6027440767325161\n"
     ]
    },
    {
     "data": {
      "application/vnd.jupyter.widget-view+json": {
       "model_id": "",
       "version_major": 2,
       "version_minor": 0
      },
      "text/plain": [
       "HBox(children=(IntProgress(value=0, description='Testing Batches', max=7755, style=ProgressStyle(description_w…"
      ]
     },
     "metadata": {},
     "output_type": "display_data"
    },
    {
     "name": "stdout",
     "output_type": "stream",
     "text": [
      "Testing Loss: 1.1162359623157982\n",
      "Testing Accuracy: 0.5792392005157962\n"
     ]
    },
    {
     "data": {
      "application/vnd.jupyter.widget-view+json": {
       "model_id": "",
       "version_major": 2,
       "version_minor": 0
      },
      "text/plain": [
       "HBox(children=(IntProgress(value=0, description='Training Batches', max=15743, style=ProgressStyle(description…"
      ]
     },
     "metadata": {},
     "output_type": "display_data"
    },
    {
     "name": "stdout",
     "output_type": "stream",
     "text": [
      "Training Loss: 1.04102526551828\n",
      "Training Accuracy: 0.6048402464587436\n"
     ]
    },
    {
     "data": {
      "application/vnd.jupyter.widget-view+json": {
       "model_id": "",
       "version_major": 2,
       "version_minor": 0
      },
      "text/plain": [
       "HBox(children=(IntProgress(value=0, description='Testing Batches', max=7755, style=ProgressStyle(description_w…"
      ]
     },
     "metadata": {},
     "output_type": "display_data"
    },
    {
     "name": "stdout",
     "output_type": "stream",
     "text": [
      "Testing Loss: 1.1147818370882558\n",
      "Testing Accuracy: 0.5823339780786589\n"
     ]
    },
    {
     "data": {
      "application/vnd.jupyter.widget-view+json": {
       "model_id": "",
       "version_major": 2,
       "version_minor": 0
      },
      "text/plain": [
       "HBox(children=(IntProgress(value=0, description='Training Batches', max=15743, style=ProgressStyle(description…"
      ]
     },
     "metadata": {},
     "output_type": "display_data"
    },
    {
     "name": "stdout",
     "output_type": "stream",
     "text": [
      "Training Loss: 1.0366900664867973\n",
      "Training Accuracy: 0.6071269770691736\n"
     ]
    },
    {
     "data": {
      "application/vnd.jupyter.widget-view+json": {
       "model_id": "",
       "version_major": 2,
       "version_minor": 0
      },
      "text/plain": [
       "HBox(children=(IntProgress(value=0, description='Testing Batches', max=7755, style=ProgressStyle(description_w…"
      ]
     },
     "metadata": {},
     "output_type": "display_data"
    },
    {
     "name": "stdout",
     "output_type": "stream",
     "text": [
      "Testing Loss: 1.108985048283653\n",
      "Testing Accuracy: 0.5836234687298517\n"
     ]
    },
    {
     "data": {
      "application/vnd.jupyter.widget-view+json": {
       "model_id": "",
       "version_major": 2,
       "version_minor": 0
      },
      "text/plain": [
       "HBox(children=(IntProgress(value=0, description='Training Batches', max=15743, style=ProgressStyle(description…"
      ]
     },
     "metadata": {},
     "output_type": "display_data"
    },
    {
     "name": "stdout",
     "output_type": "stream",
     "text": [
      "Training Loss: 1.0333237872506735\n",
      "Training Accuracy: 0.6090961062059328\n"
     ]
    },
    {
     "data": {
      "application/vnd.jupyter.widget-view+json": {
       "model_id": "",
       "version_major": 2,
       "version_minor": 0
      },
      "text/plain": [
       "HBox(children=(IntProgress(value=0, description='Testing Batches', max=7755, style=ProgressStyle(description_w…"
      ]
     },
     "metadata": {},
     "output_type": "display_data"
    },
    {
     "name": "stdout",
     "output_type": "stream",
     "text": [
      "Testing Loss: 1.1113350876290555\n",
      "Testing Accuracy: 0.5846550612508059\n"
     ]
    },
    {
     "data": {
      "application/vnd.jupyter.widget-view+json": {
       "model_id": "",
       "version_major": 2,
       "version_minor": 0
      },
      "text/plain": [
       "HBox(children=(IntProgress(value=0, description='Training Batches', max=15743, style=ProgressStyle(description…"
      ]
     },
     "metadata": {},
     "output_type": "display_data"
    },
    {
     "name": "stdout",
     "output_type": "stream",
     "text": [
      "Training Loss: 1.029409491315362\n",
      "Training Accuracy: 0.6107476338690212\n"
     ]
    },
    {
     "data": {
      "application/vnd.jupyter.widget-view+json": {
       "model_id": "",
       "version_major": 2,
       "version_minor": 0
      },
      "text/plain": [
       "HBox(children=(IntProgress(value=0, description='Testing Batches', max=7755, style=ProgressStyle(description_w…"
      ]
     },
     "metadata": {},
     "output_type": "display_data"
    },
    {
     "name": "stdout",
     "output_type": "stream",
     "text": [
      "Testing Loss: 1.1080670427516592\n",
      "Testing Accuracy: 0.5882656350741458\n"
     ]
    },
    {
     "data": {
      "application/vnd.jupyter.widget-view+json": {
       "model_id": "",
       "version_major": 2,
       "version_minor": 0
      },
      "text/plain": [
       "HBox(children=(IntProgress(value=0, description='Training Batches', max=15743, style=ProgressStyle(description…"
      ]
     },
     "metadata": {},
     "output_type": "display_data"
    },
    {
     "name": "stdout",
     "output_type": "stream",
     "text": [
      "Training Loss: 1.0261701537791446\n",
      "Training Accuracy: 0.6122721209426412\n"
     ]
    },
    {
     "data": {
      "application/vnd.jupyter.widget-view+json": {
       "model_id": "",
       "version_major": 2,
       "version_minor": 0
      },
      "text/plain": [
       "HBox(children=(IntProgress(value=0, description='Testing Batches', max=7755, style=ProgressStyle(description_w…"
      ]
     },
     "metadata": {},
     "output_type": "display_data"
    },
    {
     "name": "stdout",
     "output_type": "stream",
     "text": [
      "Testing Loss: 1.108289154498645\n",
      "Testing Accuracy: 0.5863313990973565\n"
     ]
    },
    {
     "data": {
      "application/vnd.jupyter.widget-view+json": {
       "model_id": "",
       "version_major": 2,
       "version_minor": 0
      },
      "text/plain": [
       "HBox(children=(IntProgress(value=0, description='Training Batches', max=15743, style=ProgressStyle(description…"
      ]
     },
     "metadata": {},
     "output_type": "display_data"
    },
    {
     "name": "stdout",
     "output_type": "stream",
     "text": [
      "Training Loss: 1.0226556898810466\n",
      "Training Accuracy: 0.6135425268373246\n"
     ]
    },
    {
     "data": {
      "application/vnd.jupyter.widget-view+json": {
       "model_id": "",
       "version_major": 2,
       "version_minor": 0
      },
      "text/plain": [
       "HBox(children=(IntProgress(value=0, description='Testing Batches', max=7755, style=ProgressStyle(description_w…"
      ]
     },
     "metadata": {},
     "output_type": "display_data"
    },
    {
     "name": "stdout",
     "output_type": "stream",
     "text": [
      "Testing Loss: 1.1068882517593472\n",
      "Testing Accuracy: 0.5900709219858156\n"
     ]
    },
    {
     "data": {
      "application/vnd.jupyter.widget-view+json": {
       "model_id": "",
       "version_major": 2,
       "version_minor": 0
      },
      "text/plain": [
       "HBox(children=(IntProgress(value=0, description='Training Batches', max=15743, style=ProgressStyle(description…"
      ]
     },
     "metadata": {},
     "output_type": "display_data"
    },
    {
     "name": "stdout",
     "output_type": "stream",
     "text": [
      "Training Loss: 1.0192956709640635\n",
      "Training Accuracy: 0.6150034936162104\n"
     ]
    },
    {
     "data": {
      "application/vnd.jupyter.widget-view+json": {
       "model_id": "",
       "version_major": 2,
       "version_minor": 0
      },
      "text/plain": [
       "HBox(children=(IntProgress(value=0, description='Testing Batches', max=7755, style=ProgressStyle(description_w…"
      ]
     },
     "metadata": {},
     "output_type": "display_data"
    },
    {
     "name": "stdout",
     "output_type": "stream",
     "text": [
      "Testing Loss: 1.1023666459910912\n",
      "Testing Accuracy: 0.5923920051579626\n"
     ]
    },
    {
     "data": {
      "application/vnd.jupyter.widget-view+json": {
       "model_id": "",
       "version_major": 2,
       "version_minor": 0
      },
      "text/plain": [
       "HBox(children=(IntProgress(value=0, description='Training Batches', max=15743, style=ProgressStyle(description…"
      ]
     },
     "metadata": {},
     "output_type": "display_data"
    },
    {
     "name": "stdout",
     "output_type": "stream",
     "text": [
      "Training Loss: 1.015644914001284\n",
      "Training Accuracy: 0.6173537445213746\n"
     ]
    },
    {
     "data": {
      "application/vnd.jupyter.widget-view+json": {
       "model_id": "",
       "version_major": 2,
       "version_minor": 0
      },
      "text/plain": [
       "HBox(children=(IntProgress(value=0, description='Testing Batches', max=7755, style=ProgressStyle(description_w…"
      ]
     },
     "metadata": {},
     "output_type": "display_data"
    },
    {
     "name": "stdout",
     "output_type": "stream",
     "text": [
      "Testing Loss: 1.1045765040759394\n",
      "Testing Accuracy: 0.5904577691811734\n"
     ]
    },
    {
     "data": {
      "application/vnd.jupyter.widget-view+json": {
       "model_id": "",
       "version_major": 2,
       "version_minor": 0
      },
      "text/plain": [
       "HBox(children=(IntProgress(value=0, description='Training Batches', max=15743, style=ProgressStyle(description…"
      ]
     },
     "metadata": {},
     "output_type": "display_data"
    },
    {
     "name": "stdout",
     "output_type": "stream",
     "text": [
      "Training Loss: 1.0125957007364257\n",
      "Training Accuracy: 0.6183065489423871\n"
     ]
    },
    {
     "data": {
      "application/vnd.jupyter.widget-view+json": {
       "model_id": "",
       "version_major": 2,
       "version_minor": 0
      },
      "text/plain": [
       "HBox(children=(IntProgress(value=0, description='Testing Batches', max=7755, style=ProgressStyle(description_w…"
      ]
     },
     "metadata": {},
     "output_type": "display_data"
    },
    {
     "name": "stdout",
     "output_type": "stream",
     "text": [
      "Testing Loss: 1.1006561096492244\n",
      "Testing Accuracy: 0.5925209542230819\n"
     ]
    },
    {
     "data": {
      "application/vnd.jupyter.widget-view+json": {
       "model_id": "",
       "version_major": 2,
       "version_minor": 0
      },
      "text/plain": [
       "HBox(children=(IntProgress(value=0, description='Training Batches', max=15743, style=ProgressStyle(description…"
      ]
     },
     "metadata": {},
     "output_type": "display_data"
    },
    {
     "name": "stdout",
     "output_type": "stream",
     "text": [
      "Training Loss: 1.0095359181529093\n",
      "Training Accuracy: 0.6212920027948929\n"
     ]
    },
    {
     "data": {
      "application/vnd.jupyter.widget-view+json": {
       "model_id": "",
       "version_major": 2,
       "version_minor": 0
      },
      "text/plain": [
       "HBox(children=(IntProgress(value=0, description='Testing Batches', max=7755, style=ProgressStyle(description_w…"
      ]
     },
     "metadata": {},
     "output_type": "display_data"
    },
    {
     "name": "stdout",
     "output_type": "stream",
     "text": [
      "Testing Loss: 1.0991646969529993\n",
      "Testing Accuracy: 0.595357833655706\n"
     ]
    },
    {
     "data": {
      "application/vnd.jupyter.widget-view+json": {
       "model_id": "",
       "version_major": 2,
       "version_minor": 0
      },
      "text/plain": [
       "HBox(children=(IntProgress(value=0, description='Training Batches', max=15743, style=ProgressStyle(description…"
      ]
     },
     "metadata": {},
     "output_type": "display_data"
    },
    {
     "name": "stdout",
     "output_type": "stream",
     "text": [
      "Training Loss: 1.0056047604241019\n",
      "Training Accuracy: 0.6226894492790447\n"
     ]
    },
    {
     "data": {
      "application/vnd.jupyter.widget-view+json": {
       "model_id": "",
       "version_major": 2,
       "version_minor": 0
      },
      "text/plain": [
       "HBox(children=(IntProgress(value=0, description='Testing Batches', max=7755, style=ProgressStyle(description_w…"
      ]
     },
     "metadata": {},
     "output_type": "display_data"
    },
    {
     "name": "stdout",
     "output_type": "stream",
     "text": [
      "Testing Loss: 1.096008452580705\n",
      "Testing Accuracy: 0.5966473243068988\n"
     ]
    },
    {
     "data": {
      "application/vnd.jupyter.widget-view+json": {
       "model_id": "",
       "version_major": 2,
       "version_minor": 0
      },
      "text/plain": [
       "HBox(children=(IntProgress(value=0, description='Training Batches', max=15743, style=ProgressStyle(description…"
      ]
     },
     "metadata": {},
     "output_type": "display_data"
    },
    {
     "name": "stdout",
     "output_type": "stream",
     "text": [
      "Training Loss: 1.0026927644008632\n",
      "Training Accuracy: 0.6264371466683606\n"
     ]
    },
    {
     "data": {
      "application/vnd.jupyter.widget-view+json": {
       "model_id": "",
       "version_major": 2,
       "version_minor": 0
      },
      "text/plain": [
       "HBox(children=(IntProgress(value=0, description='Testing Batches', max=7755, style=ProgressStyle(description_w…"
      ]
     },
     "metadata": {},
     "output_type": "display_data"
    },
    {
     "name": "stdout",
     "output_type": "stream",
     "text": [
      "Testing Loss: 1.0926785975783526\n",
      "Testing Accuracy: 0.5926499032882011\n"
     ]
    },
    {
     "data": {
      "application/vnd.jupyter.widget-view+json": {
       "model_id": "",
       "version_major": 2,
       "version_minor": 0
      },
      "text/plain": [
       "HBox(children=(IntProgress(value=0, description='Training Batches', max=15743, style=ProgressStyle(description…"
      ]
     },
     "metadata": {},
     "output_type": "display_data"
    },
    {
     "name": "stdout",
     "output_type": "stream",
     "text": [
      "Training Loss: 0.9991436499543476\n",
      "Training Accuracy: 0.6277710728577781\n"
     ]
    },
    {
     "data": {
      "application/vnd.jupyter.widget-view+json": {
       "model_id": "",
       "version_major": 2,
       "version_minor": 0
      },
      "text/plain": [
       "HBox(children=(IntProgress(value=0, description='Testing Batches', max=7755, style=ProgressStyle(description_w…"
      ]
     },
     "metadata": {},
     "output_type": "display_data"
    },
    {
     "name": "stdout",
     "output_type": "stream",
     "text": [
      "Testing Loss: 1.0874410134442942\n",
      "Testing Accuracy: 0.5957446808510638\n"
     ]
    },
    {
     "data": {
      "application/vnd.jupyter.widget-view+json": {
       "model_id": "",
       "version_major": 2,
       "version_minor": 0
      },
      "text/plain": [
       "HBox(children=(IntProgress(value=0, description='Training Batches', max=15743, style=ProgressStyle(description…"
      ]
     },
     "metadata": {},
     "output_type": "display_data"
    },
    {
     "name": "stdout",
     "output_type": "stream",
     "text": [
      "Training Loss: 0.9953546202403032\n",
      "Training Accuracy: 0.629232039636664\n"
     ]
    },
    {
     "data": {
      "application/vnd.jupyter.widget-view+json": {
       "model_id": "",
       "version_major": 2,
       "version_minor": 0
      },
      "text/plain": [
       "HBox(children=(IntProgress(value=0, description='Testing Batches', max=7755, style=ProgressStyle(description_w…"
      ]
     },
     "metadata": {},
     "output_type": "display_data"
    },
    {
     "name": "stdout",
     "output_type": "stream",
     "text": [
      "Testing Loss: 1.0834919262390408\n",
      "Testing Accuracy: 0.595357833655706\n"
     ]
    },
    {
     "data": {
      "application/vnd.jupyter.widget-view+json": {
       "model_id": "",
       "version_major": 2,
       "version_minor": 0
      },
      "text/plain": [
       "HBox(children=(IntProgress(value=0, description='Training Batches', max=15743, style=ProgressStyle(description…"
      ]
     },
     "metadata": {},
     "output_type": "display_data"
    },
    {
     "name": "stdout",
     "output_type": "stream",
     "text": [
      "Training Loss: 0.9915732763814004\n",
      "Training Accuracy: 0.6309470875944865\n"
     ]
    },
    {
     "data": {
      "application/vnd.jupyter.widget-view+json": {
       "model_id": "",
       "version_major": 2,
       "version_minor": 0
      },
      "text/plain": [
       "HBox(children=(IntProgress(value=0, description='Testing Batches', max=7755, style=ProgressStyle(description_w…"
      ]
     },
     "metadata": {},
     "output_type": "display_data"
    },
    {
     "name": "stdout",
     "output_type": "stream",
     "text": [
      "Testing Loss: 1.0772432347009022\n",
      "Testing Accuracy: 0.5978078658929723\n"
     ]
    },
    {
     "data": {
      "application/vnd.jupyter.widget-view+json": {
       "model_id": "",
       "version_major": 2,
       "version_minor": 0
      },
      "text/plain": [
       "HBox(children=(IntProgress(value=0, description='Training Batches', max=15743, style=ProgressStyle(description…"
      ]
     },
     "metadata": {},
     "output_type": "display_data"
    },
    {
     "name": "stdout",
     "output_type": "stream",
     "text": [
      "Training Loss: 0.9875947291880824\n",
      "Training Accuracy: 0.6306930064155498\n"
     ]
    },
    {
     "data": {
      "application/vnd.jupyter.widget-view+json": {
       "model_id": "",
       "version_major": 2,
       "version_minor": 0
      },
      "text/plain": [
       "HBox(children=(IntProgress(value=0, description='Testing Batches', max=7755, style=ProgressStyle(description_w…"
      ]
     },
     "metadata": {},
     "output_type": "display_data"
    },
    {
     "name": "stdout",
     "output_type": "stream",
     "text": [
      "Testing Loss: 1.0748698872303306\n",
      "Testing Accuracy: 0.5998710509348807\n",
      "\n"
     ]
    }
   ],
   "source": [
    "h = 120\n",
    "model = FFNN(72, h, output_dim) # 72 is num of features\n",
    "train_and_evaluate(30, model, train_dataloader, test_dataloader)"
   ]
  },
  {
   "cell_type": "markdown",
   "metadata": {},
   "source": [
    "# Decision Tree Classifier"
   ]
  },
  {
   "cell_type": "code",
   "execution_count": 15,
   "metadata": {},
   "outputs": [],
   "source": [
    "X_train, X_test, y_train, y_test = train_test_split(\n",
    "    X, y, test_size=0.33, random_state=42)"
   ]
  },
  {
   "cell_type": "code",
   "execution_count": 16,
   "metadata": {},
   "outputs": [
    {
     "name": "stdout",
     "output_type": "stream",
     "text": [
      "Accuracy: 0.9531855427809185\n",
      "Accuracy: 0.7221147646679562\n"
     ]
    }
   ],
   "source": [
    "from sklearn.tree import DecisionTreeClassifier\n",
    "from sklearn import metrics\n",
    "from sklearn.model_selection import cross_val_score\n",
    "\n",
    "# Create Decision Tree classifer object\n",
    "clf = DecisionTreeClassifier(class_weight=None, criterion='gini', max_depth=None,\n",
    "            max_features=None, max_leaf_nodes=2900,\n",
    "            min_impurity_decrease=1e-07, min_samples_leaf=1,\n",
    "            min_samples_split=2, min_weight_fraction_leaf=0.0,\n",
    "            random_state=None, splitter='best')\n",
    "# Train Decision Tree Classifer\n",
    "clf = clf.fit(X_train,y_train)\n",
    "y_pred = clf.predict(X_train)\n",
    "print(\"Accuracy:\", metrics.accuracy_score(y_train, y_pred))\n",
    "y_pred = clf.predict(X_test)\n",
    "print(\"Accuracy:\", metrics.accuracy_score(y_test, y_pred))"
   ]
  },
  {
   "cell_type": "markdown",
   "metadata": {},
   "source": [
    "# Random Forest Classifier"
   ]
  },
  {
   "cell_type": "code",
   "execution_count": 18,
   "metadata": {
    "scrolled": false
   },
   "outputs": [
    {
     "name": "stderr",
     "output_type": "stream",
     "text": [
      "/Users/sawyer/opt/anaconda3/lib/python3.7/site-packages/sklearn/ensemble/forest.py:245: FutureWarning: The default value of n_estimators will change from 10 in version 0.20 to 100 in 0.22.\n",
      "  \"10 in version 0.20 to 100 in 0.22.\", FutureWarning)\n"
     ]
    },
    {
     "name": "stdout",
     "output_type": "stream",
     "text": [
      "Accuracy: 0.9159626500666963\n",
      "Accuracy: 0.7556415215989684\n"
     ]
    }
   ],
   "source": [
    "from sklearn.ensemble import RandomForestClassifier\n",
    "clf = RandomForestClassifier(class_weight=None, criterion='entropy', max_depth=None,\n",
    "            max_features=None, max_leaf_nodes=1600,\n",
    "            min_samples_leaf=1,\n",
    "            min_samples_split=2, min_weight_fraction_leaf=0.0,\n",
    "            random_state=None)\n",
    "# Train Decision Tree Classifer\n",
    "clf = clf.fit(X_train,y_train)\n",
    "y_pred = clf.predict(X_train)\n",
    "print(\"Accuracy:\", metrics.accuracy_score(y_train, y_pred))\n",
    "y_pred = clf.predict(X_test)\n",
    "print(\"Accuracy:\", metrics.accuracy_score(y_test, y_pred))"
   ]
  },
  {
   "cell_type": "markdown",
   "metadata": {},
   "source": [
    "# KNN Classifier"
   ]
  },
  {
   "cell_type": "code",
   "execution_count": 86,
   "metadata": {
    "scrolled": true
   },
   "outputs": [
    {
     "data": {
      "text/plain": [
       "Text(0.5, 1.0, 'KNN Acc. vs Neighbors')"
      ]
     },
     "execution_count": 86,
     "metadata": {},
     "output_type": "execute_result"
    },
    {
     "data": {
      "image/png": "[encoded data removed]",
      "text/plain": [
       "<Figure size 432x288 with 1 Axes>"
      ]
     },
     "metadata": {
      "needs_background": "light"
     },
     "output_type": "display_data"
    }
   ],
   "source": [
    "from sklearn.neighbors import KNeighborsClassifier\n",
    "\n",
    "trains=[]\n",
    "tests=[]\n",
    "\n",
    "for i in range(10):\n",
    "    neigh = KNeighborsClassifier(n_neighbors=i+1)\n",
    "    train_preds=neigh.fit(X_train, y_train).predict(X_train)\n",
    "    test_preds=neigh.fit(X_train, y_train).predict(X_test)\n",
    "\n",
    "    trains.append(metrics.accuracy_score(y_train, train_preds))\n",
    "    tests.append(metrics.accuracy_score(y_test, test_preds))\n",
    "\n",
    "    \n",
    "f, (ax2) = plt.subplots(1, 1)\n",
    "\n",
    "ax2.plot(np.arange(1,11), trains)\n",
    "ax2.plot(np.arange(1,11), tests)\n",
    "plt.legend([\"Training Acc.\", \"Validation Acc.\"])\n",
    "ax2.set_ylabel('Accuracy')\n",
    "ax2.set_xlabel('Neighbors')\n",
    "ax2.set_title(\"KNN Acc. vs Neighbors\")"
   ]
  },
  {
   "cell_type": "markdown",
   "metadata": {},
   "source": [
    "As shown in the graph, we learn that using the 1 closest neighbor provides the model with the highest accuracy. We will use this model in our cross validation test below."
   ]
  },
  {
   "cell_type": "markdown",
   "metadata": {},
   "source": [
    "# PCA"
   ]
  },
  {
   "cell_type": "code",
   "execution_count": 19,
   "metadata": {},
   "outputs": [
    {
     "name": "stdout",
     "output_type": "stream",
     "text": [
      "DT Accuracy: 0.9764339706536238\n",
      "DT Accuracy: 0.689103803997421\n"
     ]
    },
    {
     "name": "stderr",
     "output_type": "stream",
     "text": [
      "/Users/sawyer/opt/anaconda3/lib/python3.7/site-packages/sklearn/ensemble/forest.py:245: FutureWarning: The default value of n_estimators will change from 10 in version 0.20 to 100 in 0.22.\n",
      "  \"10 in version 0.20 to 100 in 0.22.\", FutureWarning)\n"
     ]
    },
    {
     "name": "stdout",
     "output_type": "stream",
     "text": [
      "RF Accuracy: 0.9468335133075018\n",
      "RF Accuracy: 0.7246937459703418\n"
     ]
    }
   ],
   "source": [
    "from sklearn.decomposition import PCA\n",
    "\n",
    "pca = PCA(n_components=50)\n",
    "X_pca = pca.fit_transform(X)\n",
    "\n",
    "X_train, X_test, y_train, y_test = train_test_split(\n",
    "    X_pca, y, test_size=0.33, random_state=42)\n",
    "\n",
    "clf = DecisionTreeClassifier(class_weight=None, criterion='gini', max_depth=None,\n",
    "            max_features=None, max_leaf_nodes=2900,\n",
    "            min_impurity_decrease=1e-07, min_samples_leaf=1,\n",
    "            min_samples_split=2, min_weight_fraction_leaf=0.0,\n",
    "            random_state=None, splitter='best')\n",
    "# Train Decision Tree Classifer\n",
    "clf = clf.fit(X_train,y_train)\n",
    "y_pred = clf.predict(X_train)\n",
    "print(\"DT Accuracy:\", metrics.accuracy_score(y_train, y_pred))\n",
    "y_pred = clf.predict(X_test)\n",
    "print(\"DT Accuracy:\", metrics.accuracy_score(y_test, y_pred))\n",
    "\n",
    "clf = RandomForestClassifier(class_weight=None, criterion='entropy', max_depth=None,\n",
    "            max_features=None, max_leaf_nodes=1600,\n",
    "            min_samples_leaf=1,\n",
    "            min_samples_split=2, min_weight_fraction_leaf=0.0,\n",
    "            random_state=None)\n",
    "# Train Decision Tree Classifer\n",
    "clf = clf.fit(X_train,y_train)\n",
    "y_pred = clf.predict(X_train)\n",
    "print(\"RF Accuracy:\", metrics.accuracy_score(y_train, y_pred))\n",
    "y_pred = clf.predict(X_test)\n",
    "print(\"RF Accuracy:\", metrics.accuracy_score(y_test, y_pred))"
   ]
  },
  {
   "cell_type": "code",
   "execution_count": 20,
   "metadata": {},
   "outputs": [],
   "source": [
    "scaler = preprocessing.MinMaxScaler().fit(X_train)\n",
    "X_train = scaler.transform(X_train)\n",
    "X_test = scaler.transform(X_test)\n",
    "tensor_X_train = torch.tensor(X_train)\n",
    "tensor_y_train = torch.tensor(y_train)\n",
    "tensor_X_test = torch.tensor(X_test)\n",
    "tensor_y_test = torch.tensor(y_test)\n",
    "train_dataset = TensorDataset(tensor_X_train, tensor_y_train) \n",
    "test_dataset = TensorDataset(tensor_X_test, tensor_y_test)\n",
    "train_dataloader = DataLoader(train_dataset, batch_size=1)\n",
    "test_dataloader = DataLoader(test_dataset, batch_size=1)"
   ]
  },
  {
   "cell_type": "code",
   "execution_count": 21,
   "metadata": {},
   "outputs": [
    {
     "data": {
      "application/vnd.jupyter.widget-view+json": {
       "model_id": "fca212723a1540128d80f4134c79665b",
       "version_major": 2,
       "version_minor": 0
      },
      "text/plain": [
       "HBox(children=(IntProgress(value=0, description='Epochs', max=30, style=ProgressStyle(description_width='initi…"
      ]
     },
     "metadata": {},
     "output_type": "display_data"
    },
    {
     "data": {
      "application/vnd.jupyter.widget-view+json": {
       "model_id": "",
       "version_major": 2,
       "version_minor": 0
      },
      "text/plain": [
       "HBox(children=(IntProgress(value=0, description='Training Batches', max=15743, style=ProgressStyle(description…"
      ]
     },
     "metadata": {},
     "output_type": "display_data"
    },
    {
     "name": "stdout",
     "output_type": "stream",
     "text": [
      "Training Loss: 1.3125873517730386\n",
      "Training Accuracy: 0.47970526583243345\n"
     ]
    },
    {
     "data": {
      "application/vnd.jupyter.widget-view+json": {
       "model_id": "",
       "version_major": 2,
       "version_minor": 0
      },
      "text/plain": [
       "HBox(children=(IntProgress(value=0, description='Testing Batches', max=7755, style=ProgressStyle(description_w…"
      ]
     },
     "metadata": {},
     "output_type": "display_data"
    },
    {
     "name": "stdout",
     "output_type": "stream",
     "text": [
      "Testing Loss: 1.2655850118644618\n",
      "Testing Accuracy: 0.4933591231463572\n"
     ]
    },
    {
     "data": {
      "application/vnd.jupyter.widget-view+json": {
       "model_id": "",
       "version_major": 2,
       "version_minor": 0
      },
      "text/plain": [
       "HBox(children=(IntProgress(value=0, description='Training Batches', max=15743, style=ProgressStyle(description…"
      ]
     },
     "metadata": {},
     "output_type": "display_data"
    },
    {
     "name": "stdout",
     "output_type": "stream",
     "text": [
      "Training Loss: 1.2318936171616979\n",
      "Training Accuracy: 0.5197865718096932\n"
     ]
    },
    {
     "data": {
      "application/vnd.jupyter.widget-view+json": {
       "model_id": "",
       "version_major": 2,
       "version_minor": 0
      },
      "text/plain": [
       "HBox(children=(IntProgress(value=0, description='Testing Batches', max=7755, style=ProgressStyle(description_w…"
      ]
     },
     "metadata": {},
     "output_type": "display_data"
    },
    {
     "name": "stdout",
     "output_type": "stream",
     "text": [
      "Testing Loss: 1.2402401147562792\n",
      "Testing Accuracy: 0.521598968407479\n"
     ]
    },
    {
     "data": {
      "application/vnd.jupyter.widget-view+json": {
       "model_id": "",
       "version_major": 2,
       "version_minor": 0
      },
      "text/plain": [
       "HBox(children=(IntProgress(value=0, description='Training Batches', max=15743, style=ProgressStyle(description…"
      ]
     },
     "metadata": {},
     "output_type": "display_data"
    },
    {
     "name": "stdout",
     "output_type": "stream",
     "text": [
      "Training Loss: 1.2080810755053015\n",
      "Training Accuracy: 0.5323635901670584\n"
     ]
    },
    {
     "data": {
      "application/vnd.jupyter.widget-view+json": {
       "model_id": "",
       "version_major": 2,
       "version_minor": 0
      },
      "text/plain": [
       "HBox(children=(IntProgress(value=0, description='Testing Batches', max=7755, style=ProgressStyle(description_w…"
      ]
     },
     "metadata": {},
     "output_type": "display_data"
    },
    {
     "name": "stdout",
     "output_type": "stream",
     "text": [
      "Testing Loss: 1.2333098187898528\n",
      "Testing Accuracy: 0.5292069632495164\n"
     ]
    },
    {
     "data": {
      "application/vnd.jupyter.widget-view+json": {
       "model_id": "",
       "version_major": 2,
       "version_minor": 0
      },
      "text/plain": [
       "HBox(children=(IntProgress(value=0, description='Training Batches', max=15743, style=ProgressStyle(description…"
      ]
     },
     "metadata": {},
     "output_type": "display_data"
    },
    {
     "name": "stdout",
     "output_type": "stream",
     "text": [
      "Training Loss: 1.1901626139642596\n",
      "Training Accuracy: 0.5401130661246268\n"
     ]
    },
    {
     "data": {
      "application/vnd.jupyter.widget-view+json": {
       "model_id": "",
       "version_major": 2,
       "version_minor": 0
      },
      "text/plain": [
       "HBox(children=(IntProgress(value=0, description='Testing Batches', max=7755, style=ProgressStyle(description_w…"
      ]
     },
     "metadata": {},
     "output_type": "display_data"
    },
    {
     "name": "stdout",
     "output_type": "stream",
     "text": [
      "Testing Loss: 1.2234275106765777\n",
      "Testing Accuracy: 0.5324306898774984\n"
     ]
    },
    {
     "data": {
      "application/vnd.jupyter.widget-view+json": {
       "model_id": "",
       "version_major": 2,
       "version_minor": 0
      },
      "text/plain": [
       "HBox(children=(IntProgress(value=0, description='Training Batches', max=15743, style=ProgressStyle(description…"
      ]
     },
     "metadata": {},
     "output_type": "display_data"
    },
    {
     "name": "stdout",
     "output_type": "stream",
     "text": [
      "Training Loss: 1.1744679354312482\n",
      "Training Accuracy: 0.5475449406085244\n"
     ]
    },
    {
     "data": {
      "application/vnd.jupyter.widget-view+json": {
       "model_id": "",
       "version_major": 2,
       "version_minor": 0
      },
      "text/plain": [
       "HBox(children=(IntProgress(value=0, description='Testing Batches', max=7755, style=ProgressStyle(description_w…"
      ]
     },
     "metadata": {},
     "output_type": "display_data"
    },
    {
     "name": "stdout",
     "output_type": "stream",
     "text": [
      "Testing Loss: 1.2074452235814375\n",
      "Testing Accuracy: 0.536428110896196\n"
     ]
    },
    {
     "data": {
      "application/vnd.jupyter.widget-view+json": {
       "model_id": "",
       "version_major": 2,
       "version_minor": 0
      },
      "text/plain": [
       "HBox(children=(IntProgress(value=0, description='Training Batches', max=15743, style=ProgressStyle(description…"
      ]
     },
     "metadata": {},
     "output_type": "display_data"
    },
    {
     "name": "stdout",
     "output_type": "stream",
     "text": [
      "Training Loss: 1.1617379284311846\n",
      "Training Accuracy: 0.5525630438925236\n"
     ]
    },
    {
     "data": {
      "application/vnd.jupyter.widget-view+json": {
       "model_id": "",
       "version_major": 2,
       "version_minor": 0
      },
      "text/plain": [
       "HBox(children=(IntProgress(value=0, description='Testing Batches', max=7755, style=ProgressStyle(description_w…"
      ]
     },
     "metadata": {},
     "output_type": "display_data"
    },
    {
     "name": "stdout",
     "output_type": "stream",
     "text": [
      "Testing Loss: 1.207569792223968\n",
      "Testing Accuracy: 0.5359123146357189\n"
     ]
    },
    {
     "data": {
      "application/vnd.jupyter.widget-view+json": {
       "model_id": "",
       "version_major": 2,
       "version_minor": 0
      },
      "text/plain": [
       "HBox(children=(IntProgress(value=0, description='Training Batches', max=15743, style=ProgressStyle(description…"
      ]
     },
     "metadata": {},
     "output_type": "display_data"
    },
    {
     "name": "stdout",
     "output_type": "stream",
     "text": [
      "Training Loss: 1.1513825265625255\n",
      "Training Accuracy: 0.5541510512608778\n"
     ]
    },
    {
     "data": {
      "application/vnd.jupyter.widget-view+json": {
       "model_id": "",
       "version_major": 2,
       "version_minor": 0
      },
      "text/plain": [
       "HBox(children=(IntProgress(value=0, description='Testing Batches', max=7755, style=ProgressStyle(description_w…"
      ]
     },
     "metadata": {},
     "output_type": "display_data"
    },
    {
     "name": "stdout",
     "output_type": "stream",
     "text": [
      "Testing Loss: 1.1921105912045307\n",
      "Testing Accuracy: 0.5374597034171502\n"
     ]
    },
    {
     "data": {
      "application/vnd.jupyter.widget-view+json": {
       "model_id": "",
       "version_major": 2,
       "version_minor": 0
      },
      "text/plain": [
       "HBox(children=(IntProgress(value=0, description='Training Batches', max=15743, style=ProgressStyle(description…"
      ]
     },
     "metadata": {},
     "output_type": "display_data"
    },
    {
     "name": "stdout",
     "output_type": "stream",
     "text": [
      "Training Loss: 1.143292822642533\n",
      "Training Accuracy: 0.5594232357238138\n"
     ]
    },
    {
     "data": {
      "application/vnd.jupyter.widget-view+json": {
       "model_id": "",
       "version_major": 2,
       "version_minor": 0
      },
      "text/plain": [
       "HBox(children=(IntProgress(value=0, description='Testing Batches', max=7755, style=ProgressStyle(description_w…"
      ]
     },
     "metadata": {},
     "output_type": "display_data"
    },
    {
     "name": "stdout",
     "output_type": "stream",
     "text": [
      "Testing Loss: 1.1859915472821678\n",
      "Testing Accuracy: 0.5427466150870406\n"
     ]
    },
    {
     "data": {
      "application/vnd.jupyter.widget-view+json": {
       "model_id": "",
       "version_major": 2,
       "version_minor": 0
      },
      "text/plain": [
       "HBox(children=(IntProgress(value=0, description='Training Batches', max=15743, style=ProgressStyle(description…"
      ]
     },
     "metadata": {},
     "output_type": "display_data"
    },
    {
     "name": "stdout",
     "output_type": "stream",
     "text": [
      "Training Loss: 1.1352260240941023\n",
      "Training Accuracy: 0.562154608397383\n"
     ]
    },
    {
     "data": {
      "application/vnd.jupyter.widget-view+json": {
       "model_id": "",
       "version_major": 2,
       "version_minor": 0
      },
      "text/plain": [
       "HBox(children=(IntProgress(value=0, description='Testing Batches', max=7755, style=ProgressStyle(description_w…"
      ]
     },
     "metadata": {},
     "output_type": "display_data"
    },
    {
     "name": "stdout",
     "output_type": "stream",
     "text": [
      "Testing Loss: 1.1743689915678104\n",
      "Testing Accuracy: 0.5450676982591877\n"
     ]
    },
    {
     "data": {
      "application/vnd.jupyter.widget-view+json": {
       "model_id": "",
       "version_major": 2,
       "version_minor": 0
      },
      "text/plain": [
       "HBox(children=(IntProgress(value=0, description='Training Batches', max=15743, style=ProgressStyle(description…"
      ]
     },
     "metadata": {},
     "output_type": "display_data"
    },
    {
     "name": "stdout",
     "output_type": "stream",
     "text": [
      "Training Loss: 1.1285911413759253\n",
      "Training Accuracy: 0.5649495013656863\n"
     ]
    },
    {
     "data": {
      "application/vnd.jupyter.widget-view+json": {
       "model_id": "",
       "version_major": 2,
       "version_minor": 0
      },
      "text/plain": [
       "HBox(children=(IntProgress(value=0, description='Testing Batches', max=7755, style=ProgressStyle(description_w…"
      ]
     },
     "metadata": {},
     "output_type": "display_data"
    },
    {
     "name": "stdout",
     "output_type": "stream",
     "text": [
      "Testing Loss: 1.1765320291813537\n",
      "Testing Accuracy: 0.5435203094777563\n"
     ]
    },
    {
     "data": {
      "application/vnd.jupyter.widget-view+json": {
       "model_id": "",
       "version_major": 2,
       "version_minor": 0
      },
      "text/plain": [
       "HBox(children=(IntProgress(value=0, description='Training Batches', max=15743, style=ProgressStyle(description…"
      ]
     },
     "metadata": {},
     "output_type": "display_data"
    },
    {
     "name": "stdout",
     "output_type": "stream",
     "text": [
      "Training Loss: 1.1224262650377155\n",
      "Training Accuracy: 0.5673632725655847\n"
     ]
    },
    {
     "data": {
      "application/vnd.jupyter.widget-view+json": {
       "model_id": "",
       "version_major": 2,
       "version_minor": 0
      },
      "text/plain": [
       "HBox(children=(IntProgress(value=0, description='Testing Batches', max=7755, style=ProgressStyle(description_w…"
      ]
     },
     "metadata": {},
     "output_type": "display_data"
    },
    {
     "name": "stdout",
     "output_type": "stream",
     "text": [
      "Testing Loss: 1.177973035845466\n",
      "Testing Accuracy: 0.5481624758220502\n"
     ]
    },
    {
     "data": {
      "application/vnd.jupyter.widget-view+json": {
       "model_id": "",
       "version_major": 2,
       "version_minor": 0
      },
      "text/plain": [
       "HBox(children=(IntProgress(value=0, description='Training Batches', max=15743, style=ProgressStyle(description…"
      ]
     },
     "metadata": {},
     "output_type": "display_data"
    },
    {
     "name": "stdout",
     "output_type": "stream",
     "text": [
      "Training Loss: 1.1158463684930136\n",
      "Training Accuracy: 0.5709839293654323\n"
     ]
    },
    {
     "data": {
      "application/vnd.jupyter.widget-view+json": {
       "model_id": "",
       "version_major": 2,
       "version_minor": 0
      },
      "text/plain": [
       "HBox(children=(IntProgress(value=0, description='Testing Batches', max=7755, style=ProgressStyle(description_w…"
      ]
     },
     "metadata": {},
     "output_type": "display_data"
    },
    {
     "name": "stdout",
     "output_type": "stream",
     "text": [
      "Testing Loss: 1.1622617006551674\n",
      "Testing Accuracy: 0.5546099290780142\n"
     ]
    },
    {
     "data": {
      "application/vnd.jupyter.widget-view+json": {
       "model_id": "",
       "version_major": 2,
       "version_minor": 0
      },
      "text/plain": [
       "HBox(children=(IntProgress(value=0, description='Training Batches', max=15743, style=ProgressStyle(description…"
      ]
     },
     "metadata": {},
     "output_type": "display_data"
    },
    {
     "name": "stdout",
     "output_type": "stream",
     "text": [
      "Training Loss: 1.1108713041224783\n",
      "Training Accuracy: 0.5736517817442673\n"
     ]
    },
    {
     "data": {
      "application/vnd.jupyter.widget-view+json": {
       "model_id": "",
       "version_major": 2,
       "version_minor": 0
      },
      "text/plain": [
       "HBox(children=(IntProgress(value=0, description='Testing Batches', max=7755, style=ProgressStyle(description_w…"
      ]
     },
     "metadata": {},
     "output_type": "display_data"
    },
    {
     "name": "stdout",
     "output_type": "stream",
     "text": [
      "Testing Loss: 1.1682132311376696\n",
      "Testing Accuracy: 0.5484203739522888\n"
     ]
    },
    {
     "data": {
      "application/vnd.jupyter.widget-view+json": {
       "model_id": "",
       "version_major": 2,
       "version_minor": 0
      },
      "text/plain": [
       "HBox(children=(IntProgress(value=0, description='Training Batches', max=15743, style=ProgressStyle(description…"
      ]
     },
     "metadata": {},
     "output_type": "display_data"
    },
    {
     "name": "stdout",
     "output_type": "stream",
     "text": [
      "Training Loss: 1.1055821087334419\n",
      "Training Accuracy: 0.575430349996824\n"
     ]
    },
    {
     "data": {
      "application/vnd.jupyter.widget-view+json": {
       "model_id": "",
       "version_major": 2,
       "version_minor": 0
      },
      "text/plain": [
       "HBox(children=(IntProgress(value=0, description='Testing Batches', max=7755, style=ProgressStyle(description_w…"
      ]
     },
     "metadata": {},
     "output_type": "display_data"
    },
    {
     "name": "stdout",
     "output_type": "stream",
     "text": [
      "Testing Loss: 1.1650323617730234\n",
      "Testing Accuracy: 0.5490651192778853\n"
     ]
    },
    {
     "data": {
      "application/vnd.jupyter.widget-view+json": {
       "model_id": "",
       "version_major": 2,
       "version_minor": 0
      },
      "text/plain": [
       "HBox(children=(IntProgress(value=0, description='Training Batches', max=15743, style=ProgressStyle(description…"
      ]
     },
     "metadata": {},
     "output_type": "display_data"
    },
    {
     "name": "stdout",
     "output_type": "stream",
     "text": [
      "Training Loss: 1.1010125678487324\n",
      "Training Accuracy: 0.578479324144064\n"
     ]
    },
    {
     "data": {
      "application/vnd.jupyter.widget-view+json": {
       "model_id": "",
       "version_major": 2,
       "version_minor": 0
      },
      "text/plain": [
       "HBox(children=(IntProgress(value=0, description='Testing Batches', max=7755, style=ProgressStyle(description_w…"
      ]
     },
     "metadata": {},
     "output_type": "display_data"
    },
    {
     "name": "stdout",
     "output_type": "stream",
     "text": [
      "Testing Loss: 1.1593752660299217\n",
      "Testing Accuracy: 0.5530625402965829\n"
     ]
    },
    {
     "data": {
      "application/vnd.jupyter.widget-view+json": {
       "model_id": "",
       "version_major": 2,
       "version_minor": 0
      },
      "text/plain": [
       "HBox(children=(IntProgress(value=0, description='Training Batches', max=15743, style=ProgressStyle(description…"
      ]
     },
     "metadata": {},
     "output_type": "display_data"
    },
    {
     "name": "stdout",
     "output_type": "stream",
     "text": [
      "Training Loss: 1.0963995839164293\n",
      "Training Accuracy: 0.5812106968176333\n"
     ]
    },
    {
     "data": {
      "application/vnd.jupyter.widget-view+json": {
       "model_id": "",
       "version_major": 2,
       "version_minor": 0
      },
      "text/plain": [
       "HBox(children=(IntProgress(value=0, description='Testing Batches', max=7755, style=ProgressStyle(description_w…"
      ]
     },
     "metadata": {},
     "output_type": "display_data"
    },
    {
     "name": "stdout",
     "output_type": "stream",
     "text": [
      "Testing Loss: 1.1686421576822519\n",
      "Testing Accuracy: 0.5520309477756287\n"
     ]
    },
    {
     "data": {
      "application/vnd.jupyter.widget-view+json": {
       "model_id": "",
       "version_major": 2,
       "version_minor": 0
      },
      "text/plain": [
       "HBox(children=(IntProgress(value=0, description='Training Batches', max=15743, style=ProgressStyle(description…"
      ]
     },
     "metadata": {},
     "output_type": "display_data"
    },
    {
     "name": "stdout",
     "output_type": "stream",
     "text": [
      "Training Loss: 1.0915883637843806\n",
      "Training Accuracy: 0.5838150289017341\n"
     ]
    },
    {
     "data": {
      "application/vnd.jupyter.widget-view+json": {
       "model_id": "",
       "version_major": 2,
       "version_minor": 0
      },
      "text/plain": [
       "HBox(children=(IntProgress(value=0, description='Testing Batches', max=7755, style=ProgressStyle(description_w…"
      ]
     },
     "metadata": {},
     "output_type": "display_data"
    },
    {
     "name": "stdout",
     "output_type": "stream",
     "text": [
      "Testing Loss: 1.1561323904884506\n",
      "Testing Accuracy: 0.555899419729207\n"
     ]
    },
    {
     "data": {
      "application/vnd.jupyter.widget-view+json": {
       "model_id": "",
       "version_major": 2,
       "version_minor": 0
      },
      "text/plain": [
       "HBox(children=(IntProgress(value=0, description='Training Batches', max=15743, style=ProgressStyle(description…"
      ]
     },
     "metadata": {},
     "output_type": "display_data"
    },
    {
     "name": "stdout",
     "output_type": "stream",
     "text": [
      "Training Loss: 1.0867691391038172\n",
      "Training Accuracy: 0.5848313536174807\n"
     ]
    },
    {
     "data": {
      "application/vnd.jupyter.widget-view+json": {
       "model_id": "",
       "version_major": 2,
       "version_minor": 0
      },
      "text/plain": [
       "HBox(children=(IntProgress(value=0, description='Testing Batches', max=7755, style=ProgressStyle(description_w…"
      ]
     },
     "metadata": {},
     "output_type": "display_data"
    },
    {
     "name": "stdout",
     "output_type": "stream",
     "text": [
      "Testing Loss: 1.1592307800332207\n",
      "Testing Accuracy: 0.5557704706640877\n"
     ]
    },
    {
     "data": {
      "application/vnd.jupyter.widget-view+json": {
       "model_id": "",
       "version_major": 2,
       "version_minor": 0
      },
      "text/plain": [
       "HBox(children=(IntProgress(value=0, description='Training Batches', max=15743, style=ProgressStyle(description…"
      ]
     },
     "metadata": {},
     "output_type": "display_data"
    },
    {
     "name": "stdout",
     "output_type": "stream",
     "text": [
      "Training Loss: 1.0838591317199386\n",
      "Training Accuracy: 0.5861017595121641\n"
     ]
    },
    {
     "data": {
      "application/vnd.jupyter.widget-view+json": {
       "model_id": "",
       "version_major": 2,
       "version_minor": 0
      },
      "text/plain": [
       "HBox(children=(IntProgress(value=0, description='Testing Batches', max=7755, style=ProgressStyle(description_w…"
      ]
     },
     "metadata": {},
     "output_type": "display_data"
    },
    {
     "name": "stdout",
     "output_type": "stream",
     "text": [
      "Testing Loss: 1.1597586017519927\n",
      "Testing Accuracy: 0.5547388781431335\n"
     ]
    },
    {
     "data": {
      "application/vnd.jupyter.widget-view+json": {
       "model_id": "",
       "version_major": 2,
       "version_minor": 0
      },
      "text/plain": [
       "HBox(children=(IntProgress(value=0, description='Training Batches', max=15743, style=ProgressStyle(description…"
      ]
     },
     "metadata": {},
     "output_type": "display_data"
    },
    {
     "name": "stdout",
     "output_type": "stream",
     "text": [
      "Training Loss: 1.07899420459588\n",
      "Training Accuracy: 0.5878803277647209\n"
     ]
    },
    {
     "data": {
      "application/vnd.jupyter.widget-view+json": {
       "model_id": "",
       "version_major": 2,
       "version_minor": 0
      },
      "text/plain": [
       "HBox(children=(IntProgress(value=0, description='Testing Batches', max=7755, style=ProgressStyle(description_w…"
      ]
     },
     "metadata": {},
     "output_type": "display_data"
    },
    {
     "name": "stdout",
     "output_type": "stream",
     "text": [
      "Testing Loss: 1.1572038108827625\n",
      "Testing Accuracy: 0.5580915538362347\n"
     ]
    },
    {
     "data": {
      "application/vnd.jupyter.widget-view+json": {
       "model_id": "",
       "version_major": 2,
       "version_minor": 0
      },
      "text/plain": [
       "HBox(children=(IntProgress(value=0, description='Training Batches', max=15743, style=ProgressStyle(description…"
      ]
     },
     "metadata": {},
     "output_type": "display_data"
    },
    {
     "name": "stdout",
     "output_type": "stream",
     "text": [
      "Training Loss: 1.0752052062665427\n",
      "Training Accuracy: 0.5899764974909484\n"
     ]
    },
    {
     "data": {
      "application/vnd.jupyter.widget-view+json": {
       "model_id": "",
       "version_major": 2,
       "version_minor": 0
      },
      "text/plain": [
       "HBox(children=(IntProgress(value=0, description='Testing Batches', max=7755, style=ProgressStyle(description_w…"
      ]
     },
     "metadata": {},
     "output_type": "display_data"
    },
    {
     "name": "stdout",
     "output_type": "stream",
     "text": [
      "Testing Loss: 1.1579261914551315\n",
      "Testing Accuracy: 0.559638942617666\n"
     ]
    },
    {
     "data": {
      "application/vnd.jupyter.widget-view+json": {
       "model_id": "",
       "version_major": 2,
       "version_minor": 0
      },
      "text/plain": [
       "HBox(children=(IntProgress(value=0, description='Training Batches', max=15743, style=ProgressStyle(description…"
      ]
     },
     "metadata": {},
     "output_type": "display_data"
    },
    {
     "name": "stdout",
     "output_type": "stream",
     "text": [
      "Training Loss: 1.071338342652294\n",
      "Training Accuracy: 0.5933430731118592\n"
     ]
    },
    {
     "data": {
      "application/vnd.jupyter.widget-view+json": {
       "model_id": "",
       "version_major": 2,
       "version_minor": 0
      },
      "text/plain": [
       "HBox(children=(IntProgress(value=0, description='Testing Batches', max=7755, style=ProgressStyle(description_w…"
      ]
     },
     "metadata": {},
     "output_type": "display_data"
    },
    {
     "name": "stdout",
     "output_type": "stream",
     "text": [
      "Testing Loss: 1.1523962275353863\n",
      "Testing Accuracy: 0.5626047711154094\n"
     ]
    },
    {
     "data": {
      "application/vnd.jupyter.widget-view+json": {
       "model_id": "",
       "version_major": 2,
       "version_minor": 0
      },
      "text/plain": [
       "HBox(children=(IntProgress(value=0, description='Training Batches', max=15743, style=ProgressStyle(description…"
      ]
     },
     "metadata": {},
     "output_type": "display_data"
    },
    {
     "name": "stdout",
     "output_type": "stream",
     "text": [
      "Training Loss: 1.0659813208341111\n",
      "Training Accuracy: 0.5929619513434542\n"
     ]
    },
    {
     "data": {
      "application/vnd.jupyter.widget-view+json": {
       "model_id": "",
       "version_major": 2,
       "version_minor": 0
      },
      "text/plain": [
       "HBox(children=(IntProgress(value=0, description='Testing Batches', max=7755, style=ProgressStyle(description_w…"
      ]
     },
     "metadata": {},
     "output_type": "display_data"
    },
    {
     "name": "stdout",
     "output_type": "stream",
     "text": [
      "Testing Loss: 1.1425537176932816\n",
      "Testing Accuracy: 0.5676337846550612\n"
     ]
    },
    {
     "data": {
      "application/vnd.jupyter.widget-view+json": {
       "model_id": "",
       "version_major": 2,
       "version_minor": 0
      },
      "text/plain": [
       "HBox(children=(IntProgress(value=0, description='Training Batches', max=15743, style=ProgressStyle(description…"
      ]
     },
     "metadata": {},
     "output_type": "display_data"
    },
    {
     "name": "stdout",
     "output_type": "stream",
     "text": [
      "Training Loss: 1.0624408926224103\n",
      "Training Accuracy: 0.5955027631328209\n"
     ]
    },
    {
     "data": {
      "application/vnd.jupyter.widget-view+json": {
       "model_id": "",
       "version_major": 2,
       "version_minor": 0
      },
      "text/plain": [
       "HBox(children=(IntProgress(value=0, description='Testing Batches', max=7755, style=ProgressStyle(description_w…"
      ]
     },
     "metadata": {},
     "output_type": "display_data"
    },
    {
     "name": "stdout",
     "output_type": "stream",
     "text": [
      "Testing Loss: 1.137681090045867\n",
      "Testing Accuracy: 0.5647969052224371\n"
     ]
    },
    {
     "data": {
      "application/vnd.jupyter.widget-view+json": {
       "model_id": "",
       "version_major": 2,
       "version_minor": 0
      },
      "text/plain": [
       "HBox(children=(IntProgress(value=0, description='Training Batches', max=15743, style=ProgressStyle(description…"
      ]
     },
     "metadata": {},
     "output_type": "display_data"
    },
    {
     "name": "stdout",
     "output_type": "stream",
     "text": [
      "Training Loss: 1.0575737306660054\n",
      "Training Accuracy: 0.5965190878485677\n"
     ]
    },
    {
     "data": {
      "application/vnd.jupyter.widget-view+json": {
       "model_id": "",
       "version_major": 2,
       "version_minor": 0
      },
      "text/plain": [
       "HBox(children=(IntProgress(value=0, description='Testing Batches', max=7755, style=ProgressStyle(description_w…"
      ]
     },
     "metadata": {},
     "output_type": "display_data"
    },
    {
     "name": "stdout",
     "output_type": "stream",
     "text": [
      "Testing Loss: 1.1294118644952171\n",
      "Testing Accuracy: 0.5700838168923276\n"
     ]
    },
    {
     "data": {
      "application/vnd.jupyter.widget-view+json": {
       "model_id": "",
       "version_major": 2,
       "version_minor": 0
      },
      "text/plain": [
       "HBox(children=(IntProgress(value=0, description='Training Batches', max=15743, style=ProgressStyle(description…"
      ]
     },
     "metadata": {},
     "output_type": "display_data"
    },
    {
     "name": "stdout",
     "output_type": "stream",
     "text": [
      "Training Loss: 1.0537548634455325\n",
      "Training Accuracy: 0.5981070952169218\n"
     ]
    },
    {
     "data": {
      "application/vnd.jupyter.widget-view+json": {
       "model_id": "",
       "version_major": 2,
       "version_minor": 0
      },
      "text/plain": [
       "HBox(children=(IntProgress(value=0, description='Testing Batches', max=7755, style=ProgressStyle(description_w…"
      ]
     },
     "metadata": {},
     "output_type": "display_data"
    },
    {
     "name": "stdout",
     "output_type": "stream",
     "text": [
      "Testing Loss: 1.1244584725848756\n",
      "Testing Accuracy: 0.5756286266924565\n"
     ]
    },
    {
     "data": {
      "application/vnd.jupyter.widget-view+json": {
       "model_id": "",
       "version_major": 2,
       "version_minor": 0
      },
      "text/plain": [
       "HBox(children=(IntProgress(value=0, description='Training Batches', max=15743, style=ProgressStyle(description…"
      ]
     },
     "metadata": {},
     "output_type": "display_data"
    },
    {
     "name": "stdout",
     "output_type": "stream",
     "text": [
      "Training Loss: 1.0490815110225824\n",
      "Training Accuracy: 0.6023629549641111\n"
     ]
    },
    {
     "data": {
      "application/vnd.jupyter.widget-view+json": {
       "model_id": "",
       "version_major": 2,
       "version_minor": 0
      },
      "text/plain": [
       "HBox(children=(IntProgress(value=0, description='Testing Batches', max=7755, style=ProgressStyle(description_w…"
      ]
     },
     "metadata": {},
     "output_type": "display_data"
    },
    {
     "name": "stdout",
     "output_type": "stream",
     "text": [
      "Testing Loss: 1.1175755999583048\n",
      "Testing Accuracy: 0.5824629271437782\n"
     ]
    },
    {
     "data": {
      "application/vnd.jupyter.widget-view+json": {
       "model_id": "",
       "version_major": 2,
       "version_minor": 0
      },
      "text/plain": [
       "HBox(children=(IntProgress(value=0, description='Training Batches', max=15743, style=ProgressStyle(description…"
      ]
     },
     "metadata": {},
     "output_type": "display_data"
    },
    {
     "name": "stdout",
     "output_type": "stream",
     "text": [
      "Training Loss: 1.045223139251259\n",
      "Training Accuracy: 0.6039509623324653\n"
     ]
    },
    {
     "data": {
      "application/vnd.jupyter.widget-view+json": {
       "model_id": "",
       "version_major": 2,
       "version_minor": 0
      },
      "text/plain": [
       "HBox(children=(IntProgress(value=0, description='Testing Batches', max=7755, style=ProgressStyle(description_w…"
      ]
     },
     "metadata": {},
     "output_type": "display_data"
    },
    {
     "name": "stdout",
     "output_type": "stream",
     "text": [
      "Testing Loss: 1.1186348425047887\n",
      "Testing Accuracy: 0.578207607994842\n"
     ]
    },
    {
     "data": {
      "application/vnd.jupyter.widget-view+json": {
       "model_id": "",
       "version_major": 2,
       "version_minor": 0
      },
      "text/plain": [
       "HBox(children=(IntProgress(value=0, description='Training Batches', max=15743, style=ProgressStyle(description…"
      ]
     },
     "metadata": {},
     "output_type": "display_data"
    },
    {
     "name": "stdout",
     "output_type": "stream",
     "text": [
      "Training Loss: 1.040670376206287\n",
      "Training Accuracy: 0.6050308073429461\n"
     ]
    },
    {
     "data": {
      "application/vnd.jupyter.widget-view+json": {
       "model_id": "",
       "version_major": 2,
       "version_minor": 0
      },
      "text/plain": [
       "HBox(children=(IntProgress(value=0, description='Testing Batches', max=7755, style=ProgressStyle(description_w…"
      ]
     },
     "metadata": {},
     "output_type": "display_data"
    },
    {
     "name": "stdout",
     "output_type": "stream",
     "text": [
      "Testing Loss: 1.1043929491240514\n",
      "Testing Accuracy: 0.5856866537717601\n"
     ]
    },
    {
     "data": {
      "application/vnd.jupyter.widget-view+json": {
       "model_id": "",
       "version_major": 2,
       "version_minor": 0
      },
      "text/plain": [
       "HBox(children=(IntProgress(value=0, description='Training Batches', max=15743, style=ProgressStyle(description…"
      ]
     },
     "metadata": {},
     "output_type": "display_data"
    },
    {
     "name": "stdout",
     "output_type": "stream",
     "text": [
      "Training Loss: 1.0365940732447874\n",
      "Training Accuracy: 0.6063647335323636\n"
     ]
    },
    {
     "data": {
      "application/vnd.jupyter.widget-view+json": {
       "model_id": "",
       "version_major": 2,
       "version_minor": 0
      },
      "text/plain": [
       "HBox(children=(IntProgress(value=0, description='Testing Batches', max=7755, style=ProgressStyle(description_w…"
      ]
     },
     "metadata": {},
     "output_type": "display_data"
    },
    {
     "name": "stdout",
     "output_type": "stream",
     "text": [
      "Testing Loss: 1.1069690591667607\n",
      "Testing Accuracy: 0.5846550612508059\n",
      "\n"
     ]
    }
   ],
   "source": [
    "h = 120\n",
    "model = FFNN(50, h, output_dim) # 72 is num of features\n",
    "train_and_evaluate(30, model, train_dataloader, test_dataloader)"
   ]
  },
  {
   "cell_type": "markdown",
   "metadata": {},
   "source": [
    "# Cross Validation"
   ]
  },
  {
   "cell_type": "code",
   "execution_count": 99,
   "metadata": {
    "scrolled": true
   },
   "outputs": [
    {
     "name": "stderr",
     "output_type": "stream",
     "text": [
      "/Users/sawyer/opt/anaconda3/lib/python3.7/site-packages/sklearn/model_selection/_split.py:657: Warning: The least populated class in y has only 8 members, which is too few. The minimum number of members in any class cannot be less than n_splits=10.\n",
      "  % (min_groups, self.n_splits)), Warning)\n",
      "/Users/sawyer/opt/anaconda3/lib/python3.7/site-packages/sklearn/model_selection/_split.py:657: Warning: The least populated class in y has only 8 members, which is too few. The minimum number of members in any class cannot be less than n_splits=10.\n",
      "  % (min_groups, self.n_splits)), Warning)\n",
      "/Users/sawyer/opt/anaconda3/lib/python3.7/site-packages/sklearn/ensemble/forest.py:245: FutureWarning: The default value of n_estimators will change from 10 in version 0.20 to 100 in 0.22.\n",
      "  \"10 in version 0.20 to 100 in 0.22.\", FutureWarning)\n",
      "/Users/sawyer/opt/anaconda3/lib/python3.7/site-packages/sklearn/ensemble/forest.py:245: FutureWarning: The default value of n_estimators will change from 10 in version 0.20 to 100 in 0.22.\n",
      "  \"10 in version 0.20 to 100 in 0.22.\", FutureWarning)\n",
      "/Users/sawyer/opt/anaconda3/lib/python3.7/site-packages/sklearn/ensemble/forest.py:245: FutureWarning: The default value of n_estimators will change from 10 in version 0.20 to 100 in 0.22.\n",
      "  \"10 in version 0.20 to 100 in 0.22.\", FutureWarning)\n",
      "/Users/sawyer/opt/anaconda3/lib/python3.7/site-packages/sklearn/ensemble/forest.py:245: FutureWarning: The default value of n_estimators will change from 10 in version 0.20 to 100 in 0.22.\n",
      "  \"10 in version 0.20 to 100 in 0.22.\", FutureWarning)\n",
      "/Users/sawyer/opt/anaconda3/lib/python3.7/site-packages/sklearn/ensemble/forest.py:245: FutureWarning: The default value of n_estimators will change from 10 in version 0.20 to 100 in 0.22.\n",
      "  \"10 in version 0.20 to 100 in 0.22.\", FutureWarning)\n",
      "/Users/sawyer/opt/anaconda3/lib/python3.7/site-packages/sklearn/ensemble/forest.py:245: FutureWarning: The default value of n_estimators will change from 10 in version 0.20 to 100 in 0.22.\n",
      "  \"10 in version 0.20 to 100 in 0.22.\", FutureWarning)\n",
      "/Users/sawyer/opt/anaconda3/lib/python3.7/site-packages/sklearn/ensemble/forest.py:245: FutureWarning: The default value of n_estimators will change from 10 in version 0.20 to 100 in 0.22.\n",
      "  \"10 in version 0.20 to 100 in 0.22.\", FutureWarning)\n",
      "/Users/sawyer/opt/anaconda3/lib/python3.7/site-packages/sklearn/ensemble/forest.py:245: FutureWarning: The default value of n_estimators will change from 10 in version 0.20 to 100 in 0.22.\n",
      "  \"10 in version 0.20 to 100 in 0.22.\", FutureWarning)\n",
      "/Users/sawyer/opt/anaconda3/lib/python3.7/site-packages/sklearn/ensemble/forest.py:245: FutureWarning: The default value of n_estimators will change from 10 in version 0.20 to 100 in 0.22.\n",
      "  \"10 in version 0.20 to 100 in 0.22.\", FutureWarning)\n",
      "/Users/sawyer/opt/anaconda3/lib/python3.7/site-packages/sklearn/ensemble/forest.py:245: FutureWarning: The default value of n_estimators will change from 10 in version 0.20 to 100 in 0.22.\n",
      "  \"10 in version 0.20 to 100 in 0.22.\", FutureWarning)\n",
      "/Users/sawyer/opt/anaconda3/lib/python3.7/site-packages/sklearn/model_selection/_split.py:657: Warning: The least populated class in y has only 8 members, which is too few. The minimum number of members in any class cannot be less than n_splits=10.\n",
      "  % (min_groups, self.n_splits)), Warning)\n"
     ]
    },
    {
     "data": {
      "text/plain": [
       "Text(0.5, 1.0, 'KNN')"
      ]
     },
     "execution_count": 99,
     "metadata": {},
     "output_type": "execute_result"
    },
    {
     "data": {
      "image/png": "[encoded data removed]",
      "text/plain": [
       "<Figure size 432x288 with 3 Axes>"
      ]
     },
     "metadata": {
      "needs_background": "light"
     },
     "output_type": "display_data"
    }
   ],
   "source": [
    "DT_clf = DecisionTreeClassifier(class_weight=None, criterion='gini', max_depth=None,\n",
    "            max_features=None, max_leaf_nodes=2900,\n",
    "            min_impurity_decrease=1e-07, min_samples_leaf=1,\n",
    "            min_samples_split=2, min_weight_fraction_leaf=0.0,\n",
    "            random_state=None, splitter='best')\n",
    "RF_clf = RandomForestClassifier(class_weight=None, criterion='entropy', max_depth=None,\n",
    "            max_features=None, max_leaf_nodes=1600,\n",
    "            min_samples_leaf=1,\n",
    "            min_samples_split=2, min_weight_fraction_leaf=0.0,\n",
    "            random_state=None)\n",
    "\n",
    "neigh = KNeighborsClassifier(n_neighbors=1)\n",
    "\n",
    "from sklearn.model_selection import cross_validate\n",
    "\n",
    "dt_results = cross_validate(DT_clf, X, y, return_train_score=True, cv=10)\n",
    "rf_results = cross_validate(RF_clf, X, y, return_train_score=True,cv=10)\n",
    "knn_results = cross_validate(neigh, X, y, return_train_score=True,cv=10)\n",
    "\n",
    "import matplotlib.pyplot as plt\n",
    "\n",
    "f, (ax1, ax2, ax3) = plt.subplots(1, 3)\n",
    "\n",
    "ax1.plot([1,2,3,4,5,6,7,8,9,10],dt_results['test_score'], label='Validation Acc.')\n",
    "ax1.plot([1,2,3,4,5,6,7,8,9,10],dt_results['train_score'], label='Training Acc.')\n",
    "ax1.legend([\"Validation Acc.\", \"Training Acc.\"])\n",
    "ax1.set_ylabel('Accuracy')\n",
    "ax1.set_xlabel('CV')\n",
    "ax1.set_title(\"Decision Tree\")\n",
    "\n",
    "ax2.plot([1,2,3,4,5,6,7,8,9,10],rf_results['test_score'], label='Training Acc.')\n",
    "ax2.plot([1,2,3,4,5,6,7,8,9,10],rf_results['train_score'], label='Validation Acc.')\n",
    "ax2.legend([\"Validation Acc.\", \"Training Acc.\"])\n",
    "ax2.set_xlabel('CV')\n",
    "ax2.set_title(\"Random Forest\")\n",
    "\n",
    "ax3.plot([1,2,3,4,5,6,7,8,9,10],knn_results['test_score'], label='Training Acc.')\n",
    "ax3.plot([1,2,3,4,5,6,7,8,9,10],knn_results['train_score'], label='Validation Acc.')\n",
    "ax3.legend([\"Validation Acc.\", \"Training Acc.\"])\n",
    "ax3.set_xlabel('CV')\n",
    "ax3.set_title(\"KNN\")"
   ]
  },
  {
   "cell_type": "code",
   "execution_count": null,
   "metadata": {},
   "outputs": [],
   "source": []
  }
 ],
 "metadata": {
  "kernelspec": {
   "display_name": "Python 3",
   "language": "python",
   "name": "python3"
  },
  "language_info": {
   "codemirror_mode": {
    "name": "ipython",
    "version": 3
   },
   "file_extension": ".py",
   "mimetype": "text/x-python",
   "name": "python",
   "nbconvert_exporter": "python",
   "pygments_lexer": "ipython3",
   "version": "3.7.4"
  }
 },
 "nbformat": 4,
 "nbformat_minor": 4
}
